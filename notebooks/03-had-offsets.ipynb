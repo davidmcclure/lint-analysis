{
 "cells": [
  {
   "cell_type": "code",
   "execution_count": 61,
   "metadata": {
    "collapsed": true
   },
   "outputs": [],
   "source": [
    "import matplotlib.pyplot as plt\n",
    "%matplotlib inline"
   ]
  },
  {
   "cell_type": "code",
   "execution_count": 147,
   "metadata": {
    "collapsed": true
   },
   "outputs": [],
   "source": [
    "import numpy as np\n",
    "\n",
    "from scipy.stats import linregress\n",
    "\n",
    "def plot_histogram(text, bins=20, w=4, h=2):\n",
    "    \n",
    "    author = '{} {}'.format(text.get('authorFirst'), text.get('authorLast'))\n",
    "    print('{} ({}, {})'.format(text['title'], author, text['year']))\n",
    "    \n",
    "    plt.figure(figsize=(w,h))\n",
    "    plt.hist(text['offsets'], bins, (0,1))\n",
    "    plt.show()"
   ]
  },
  {
   "cell_type": "code",
   "execution_count": 148,
   "metadata": {
    "collapsed": true
   },
   "outputs": [],
   "source": [
    "from lint_analysis.token_offsets import Dataset\n",
    "\n",
    "ds = Dataset.from_local('had.json')"
   ]
  },
  {
   "cell_type": "code",
   "execution_count": 150,
   "metadata": {
    "collapsed": true
   },
   "outputs": [],
   "source": [
    "from numpy.random import multinomial\n",
    "\n",
    "def sample_series(series, n=1000, *args, **kwargs):\n",
    "    return multinomial(series.sum(), series/series.sum(), n)"
   ]
  },
  {
   "cell_type": "code",
   "execution_count": 151,
   "metadata": {},
   "outputs": [],
   "source": [
    "from scipy import stats\n",
    "\n",
    "def first_bin_zscore(text, bins=20):\n",
    "\n",
    "    y, _, _, _ = stats.histogram(text['offsets'], bins, (0, 1))\n",
    "\n",
    "    expected = y.sum() / len(y)\n",
    "    samples = sample_series(np.full(len(y), expected))\n",
    "\n",
    "    avg_std = samples.std(1).mean()\n",
    "\n",
    "    return (y[0]-expected)/avg_std"
   ]
  },
  {
   "cell_type": "code",
   "execution_count": 154,
   "metadata": {
    "scrolled": false
   },
   "outputs": [],
   "source": [
    "data = []\n",
    "for text in ds.texts():\n",
    "    zscore = first_bin_zscore(text)\n",
    "    data.append((zscore, text['year'], text))"
   ]
  },
  {
   "cell_type": "code",
   "execution_count": 155,
   "metadata": {
    "collapsed": true
   },
   "outputs": [],
   "source": [
    "import pandas as pd\n",
    "\n",
    "df = pd.DataFrame(data, columns=('zscore', 'year', 'text'))"
   ]
  },
  {
   "cell_type": "code",
   "execution_count": 156,
   "metadata": {
    "scrolled": false
   },
   "outputs": [
    {
     "data": {
      "text/html": [
       "<div>\n",
       "<table border=\"1\" class=\"dataframe\">\n",
       "  <thead>\n",
       "    <tr style=\"text-align: right;\">\n",
       "      <th></th>\n",
       "      <th>zscore</th>\n",
       "      <th>year</th>\n",
       "      <th>text</th>\n",
       "    </tr>\n",
       "  </thead>\n",
       "  <tbody>\n",
       "    <tr>\n",
       "      <th>14340</th>\n",
       "      <td>23.340285</td>\n",
       "      <td>1991</td>\n",
       "      <td>{'corpus': 'chicago', 'identifier': '23727', '...</td>\n",
       "    </tr>\n",
       "    <tr>\n",
       "      <th>10286</th>\n",
       "      <td>15.860187</td>\n",
       "      <td>1895</td>\n",
       "      <td>{'corpus': 'gale', 'identifier': 'AMFCF0002-C0...</td>\n",
       "    </tr>\n",
       "    <tr>\n",
       "      <th>18609</th>\n",
       "      <td>15.731549</td>\n",
       "      <td>1966</td>\n",
       "      <td>{'corpus': 'chicago', 'identifier': '20679', '...</td>\n",
       "    </tr>\n",
       "    <tr>\n",
       "      <th>1</th>\n",
       "      <td>15.309358</td>\n",
       "      <td>1941</td>\n",
       "      <td>{'corpus': 'chicago', 'identifier': '10639', '...</td>\n",
       "    </tr>\n",
       "    <tr>\n",
       "      <th>10656</th>\n",
       "      <td>14.285622</td>\n",
       "      <td>1899</td>\n",
       "      <td>{'corpus': 'gale', 'identifier': 'AMFCF0002-C0...</td>\n",
       "    </tr>\n",
       "    <tr>\n",
       "      <th>2292</th>\n",
       "      <td>13.925341</td>\n",
       "      <td>1994</td>\n",
       "      <td>{'corpus': 'chicago', 'identifier': '25492', '...</td>\n",
       "    </tr>\n",
       "    <tr>\n",
       "      <th>6436</th>\n",
       "      <td>13.814775</td>\n",
       "      <td>1917</td>\n",
       "      <td>{'corpus': 'gale', 'identifier': 'AMFCF0003-C0...</td>\n",
       "    </tr>\n",
       "    <tr>\n",
       "      <th>11105</th>\n",
       "      <td>13.710017</td>\n",
       "      <td>1954</td>\n",
       "      <td>{'corpus': 'chicago', 'identifier': '20139', '...</td>\n",
       "    </tr>\n",
       "    <tr>\n",
       "      <th>16541</th>\n",
       "      <td>13.209593</td>\n",
       "      <td>1945</td>\n",
       "      <td>{'corpus': 'chicago', 'identifier': '11765', '...</td>\n",
       "    </tr>\n",
       "    <tr>\n",
       "      <th>10062</th>\n",
       "      <td>13.127559</td>\n",
       "      <td>1989</td>\n",
       "      <td>{'corpus': 'chicago', 'identifier': '23211', '...</td>\n",
       "    </tr>\n",
       "    <tr>\n",
       "      <th>901</th>\n",
       "      <td>13.105911</td>\n",
       "      <td>1986</td>\n",
       "      <td>{'corpus': 'chicago', 'identifier': '22596', '...</td>\n",
       "    </tr>\n",
       "    <tr>\n",
       "      <th>10039</th>\n",
       "      <td>12.816153</td>\n",
       "      <td>1989</td>\n",
       "      <td>{'corpus': 'chicago', 'identifier': '23187', '...</td>\n",
       "    </tr>\n",
       "    <tr>\n",
       "      <th>5630</th>\n",
       "      <td>12.535758</td>\n",
       "      <td>1995</td>\n",
       "      <td>{'corpus': 'chicago', 'identifier': '24242', '...</td>\n",
       "    </tr>\n",
       "    <tr>\n",
       "      <th>23765</th>\n",
       "      <td>12.532531</td>\n",
       "      <td>2000</td>\n",
       "      <td>{'corpus': 'chicago', 'identifier': '26134', '...</td>\n",
       "    </tr>\n",
       "    <tr>\n",
       "      <th>8921</th>\n",
       "      <td>12.285436</td>\n",
       "      <td>1910</td>\n",
       "      <td>{'corpus': 'chicago', 'identifier': '3270', 't...</td>\n",
       "    </tr>\n",
       "    <tr>\n",
       "      <th>17073</th>\n",
       "      <td>12.074262</td>\n",
       "      <td>1997</td>\n",
       "      <td>{'corpus': 'chicago', 'identifier': '24449', '...</td>\n",
       "    </tr>\n",
       "    <tr>\n",
       "      <th>21300</th>\n",
       "      <td>11.816136</td>\n",
       "      <td>1895</td>\n",
       "      <td>{'corpus': 'gale', 'identifier': 'AMFCF0002-C0...</td>\n",
       "    </tr>\n",
       "    <tr>\n",
       "      <th>5253</th>\n",
       "      <td>11.720392</td>\n",
       "      <td>1940</td>\n",
       "      <td>{'corpus': 'chicago', 'identifier': '11645', '...</td>\n",
       "    </tr>\n",
       "    <tr>\n",
       "      <th>18270</th>\n",
       "      <td>11.680047</td>\n",
       "      <td>1895</td>\n",
       "      <td>{'corpus': 'chicago', 'identifier': '1161', 't...</td>\n",
       "    </tr>\n",
       "    <tr>\n",
       "      <th>5706</th>\n",
       "      <td>11.417807</td>\n",
       "      <td>1996</td>\n",
       "      <td>{'corpus': 'chicago', 'identifier': '24318', '...</td>\n",
       "    </tr>\n",
       "    <tr>\n",
       "      <th>12721</th>\n",
       "      <td>11.366851</td>\n",
       "      <td>1990</td>\n",
       "      <td>{'corpus': 'chicago', 'identifier': '23320', '...</td>\n",
       "    </tr>\n",
       "    <tr>\n",
       "      <th>25072</th>\n",
       "      <td>11.335433</td>\n",
       "      <td>1918</td>\n",
       "      <td>{'corpus': 'gale', 'identifier': 'AMFCF0003-C0...</td>\n",
       "    </tr>\n",
       "    <tr>\n",
       "      <th>10089</th>\n",
       "      <td>11.228209</td>\n",
       "      <td>1989</td>\n",
       "      <td>{'corpus': 'chicago', 'identifier': '23238', '...</td>\n",
       "    </tr>\n",
       "    <tr>\n",
       "      <th>15828</th>\n",
       "      <td>10.956948</td>\n",
       "      <td>1979</td>\n",
       "      <td>{'corpus': 'chicago', 'identifier': '21636', '...</td>\n",
       "    </tr>\n",
       "    <tr>\n",
       "      <th>23104</th>\n",
       "      <td>10.921437</td>\n",
       "      <td>1894</td>\n",
       "      <td>{'corpus': 'gale', 'identifier': 'AMFCF0002-C0...</td>\n",
       "    </tr>\n",
       "    <tr>\n",
       "      <th>14502</th>\n",
       "      <td>10.886411</td>\n",
       "      <td>1902</td>\n",
       "      <td>{'corpus': 'gale', 'identifier': 'AMFCF0002-C0...</td>\n",
       "    </tr>\n",
       "    <tr>\n",
       "      <th>22988</th>\n",
       "      <td>10.847728</td>\n",
       "      <td>1892</td>\n",
       "      <td>{'corpus': 'gale', 'identifier': 'AMFCF0002-C0...</td>\n",
       "    </tr>\n",
       "    <tr>\n",
       "      <th>3630</th>\n",
       "      <td>10.738657</td>\n",
       "      <td>1995</td>\n",
       "      <td>{'corpus': 'chicago', 'identifier': '25605', '...</td>\n",
       "    </tr>\n",
       "    <tr>\n",
       "      <th>12403</th>\n",
       "      <td>10.654113</td>\n",
       "      <td>1996</td>\n",
       "      <td>{'corpus': 'chicago', 'identifier': '25676', '...</td>\n",
       "    </tr>\n",
       "    <tr>\n",
       "      <th>9616</th>\n",
       "      <td>10.639200</td>\n",
       "      <td>1946</td>\n",
       "      <td>{'corpus': 'chicago', 'identifier': '11086', '...</td>\n",
       "    </tr>\n",
       "    <tr>\n",
       "      <th>...</th>\n",
       "      <td>...</td>\n",
       "      <td>...</td>\n",
       "      <td>...</td>\n",
       "    </tr>\n",
       "    <tr>\n",
       "      <th>25365</th>\n",
       "      <td>-5.969189</td>\n",
       "      <td>1911</td>\n",
       "      <td>{'corpus': 'gale', 'identifier': 'AMFCF0003-C0...</td>\n",
       "    </tr>\n",
       "    <tr>\n",
       "      <th>4510</th>\n",
       "      <td>-5.978181</td>\n",
       "      <td>1904</td>\n",
       "      <td>{'corpus': 'chicago', 'identifier': '4822', 't...</td>\n",
       "    </tr>\n",
       "    <tr>\n",
       "      <th>10548</th>\n",
       "      <td>-6.042817</td>\n",
       "      <td>1859</td>\n",
       "      <td>{'corpus': 'gale', 'identifier': 'AMFCF0002-C0...</td>\n",
       "    </tr>\n",
       "    <tr>\n",
       "      <th>6893</th>\n",
       "      <td>-6.047693</td>\n",
       "      <td>1930</td>\n",
       "      <td>{'corpus': 'chicago', 'identifier': '11301', '...</td>\n",
       "    </tr>\n",
       "    <tr>\n",
       "      <th>18683</th>\n",
       "      <td>-6.077527</td>\n",
       "      <td>1881</td>\n",
       "      <td>{'corpus': 'chicago', 'identifier': '86', 'tit...</td>\n",
       "    </tr>\n",
       "    <tr>\n",
       "      <th>8726</th>\n",
       "      <td>-6.102433</td>\n",
       "      <td>1902</td>\n",
       "      <td>{'corpus': 'gale', 'identifier': 'AMFCF0002-C0...</td>\n",
       "    </tr>\n",
       "    <tr>\n",
       "      <th>8539</th>\n",
       "      <td>-6.142954</td>\n",
       "      <td>1925</td>\n",
       "      <td>{'corpus': 'chicago', 'identifier': '11143', '...</td>\n",
       "    </tr>\n",
       "    <tr>\n",
       "      <th>23974</th>\n",
       "      <td>-6.168060</td>\n",
       "      <td>1906</td>\n",
       "      <td>{'corpus': 'gale', 'identifier': 'AMFCF0002-C0...</td>\n",
       "    </tr>\n",
       "    <tr>\n",
       "      <th>1115</th>\n",
       "      <td>-6.186591</td>\n",
       "      <td>1931</td>\n",
       "      <td>{'corpus': 'chicago', 'identifier': '11333', '...</td>\n",
       "    </tr>\n",
       "    <tr>\n",
       "      <th>17060</th>\n",
       "      <td>-6.225038</td>\n",
       "      <td>1997</td>\n",
       "      <td>{'corpus': 'chicago', 'identifier': '24436', '...</td>\n",
       "    </tr>\n",
       "    <tr>\n",
       "      <th>6865</th>\n",
       "      <td>-6.240381</td>\n",
       "      <td>1929</td>\n",
       "      <td>{'corpus': 'chicago', 'identifier': '11273', '...</td>\n",
       "    </tr>\n",
       "    <tr>\n",
       "      <th>5397</th>\n",
       "      <td>-6.246020</td>\n",
       "      <td>1974</td>\n",
       "      <td>{'corpus': 'chicago', 'identifier': '21230', '...</td>\n",
       "    </tr>\n",
       "    <tr>\n",
       "      <th>26043</th>\n",
       "      <td>-6.287931</td>\n",
       "      <td>1900</td>\n",
       "      <td>{'corpus': 'gale', 'identifier': 'AMFCF0002-C0...</td>\n",
       "    </tr>\n",
       "    <tr>\n",
       "      <th>9483</th>\n",
       "      <td>-6.308776</td>\n",
       "      <td>1900</td>\n",
       "      <td>{'corpus': 'chicago', 'identifier': '1850', 't...</td>\n",
       "    </tr>\n",
       "    <tr>\n",
       "      <th>16982</th>\n",
       "      <td>-6.418739</td>\n",
       "      <td>1918</td>\n",
       "      <td>{'corpus': 'gale', 'identifier': 'AMFCF0003-C0...</td>\n",
       "    </tr>\n",
       "    <tr>\n",
       "      <th>5300</th>\n",
       "      <td>-6.509332</td>\n",
       "      <td>1941</td>\n",
       "      <td>{'corpus': 'chicago', 'identifier': '11692', '...</td>\n",
       "    </tr>\n",
       "    <tr>\n",
       "      <th>5115</th>\n",
       "      <td>-6.549668</td>\n",
       "      <td>1917</td>\n",
       "      <td>{'corpus': 'gale', 'identifier': 'AMFCF0003-C0...</td>\n",
       "    </tr>\n",
       "    <tr>\n",
       "      <th>16934</th>\n",
       "      <td>-6.575981</td>\n",
       "      <td>1884</td>\n",
       "      <td>{'corpus': 'gale', 'identifier': 'AMFCF0002-C0...</td>\n",
       "    </tr>\n",
       "    <tr>\n",
       "      <th>16690</th>\n",
       "      <td>-6.587497</td>\n",
       "      <td>1935</td>\n",
       "      <td>{'corpus': 'chicago', 'identifier': '10482', '...</td>\n",
       "    </tr>\n",
       "    <tr>\n",
       "      <th>18698</th>\n",
       "      <td>-6.751342</td>\n",
       "      <td>1883</td>\n",
       "      <td>{'corpus': 'chicago', 'identifier': '186', 'ti...</td>\n",
       "    </tr>\n",
       "    <tr>\n",
       "      <th>2537</th>\n",
       "      <td>-6.825900</td>\n",
       "      <td>1873</td>\n",
       "      <td>{'corpus': 'gale', 'identifier': 'AMFCF0002-C0...</td>\n",
       "    </tr>\n",
       "    <tr>\n",
       "      <th>6830</th>\n",
       "      <td>-6.832796</td>\n",
       "      <td>1928</td>\n",
       "      <td>{'corpus': 'chicago', 'identifier': '11238', '...</td>\n",
       "    </tr>\n",
       "    <tr>\n",
       "      <th>11393</th>\n",
       "      <td>-6.850448</td>\n",
       "      <td>1887</td>\n",
       "      <td>{'corpus': 'gale', 'identifier': 'AMFCF0002-C0...</td>\n",
       "    </tr>\n",
       "    <tr>\n",
       "      <th>17956</th>\n",
       "      <td>-6.929718</td>\n",
       "      <td>1902</td>\n",
       "      <td>{'corpus': 'gale', 'identifier': 'AMFCF0002-C0...</td>\n",
       "    </tr>\n",
       "    <tr>\n",
       "      <th>5064</th>\n",
       "      <td>-7.065098</td>\n",
       "      <td>1945</td>\n",
       "      <td>{'corpus': 'chicago', 'identifier': '10792', '...</td>\n",
       "    </tr>\n",
       "    <tr>\n",
       "      <th>5016</th>\n",
       "      <td>-7.576021</td>\n",
       "      <td>1944</td>\n",
       "      <td>{'corpus': 'chicago', 'identifier': '10744', '...</td>\n",
       "    </tr>\n",
       "    <tr>\n",
       "      <th>20746</th>\n",
       "      <td>-7.660791</td>\n",
       "      <td>1917</td>\n",
       "      <td>{'corpus': 'gale', 'identifier': 'AMFCF0003-C0...</td>\n",
       "    </tr>\n",
       "    <tr>\n",
       "      <th>4971</th>\n",
       "      <td>-7.676604</td>\n",
       "      <td>1887</td>\n",
       "      <td>{'corpus': 'gale', 'identifier': 'AMFCF0002-C0...</td>\n",
       "    </tr>\n",
       "    <tr>\n",
       "      <th>16726</th>\n",
       "      <td>-8.348243</td>\n",
       "      <td>1937</td>\n",
       "      <td>{'corpus': 'chicago', 'identifier': '10518', '...</td>\n",
       "    </tr>\n",
       "    <tr>\n",
       "      <th>19612</th>\n",
       "      <td>-10.456749</td>\n",
       "      <td>1977</td>\n",
       "      <td>{'corpus': 'chicago', 'identifier': '23562', '...</td>\n",
       "    </tr>\n",
       "  </tbody>\n",
       "</table>\n",
       "<p>26971 rows × 3 columns</p>\n",
       "</div>"
      ],
      "text/plain": [
       "          zscore  year                                               text\n",
       "14340  23.340285  1991  {'corpus': 'chicago', 'identifier': '23727', '...\n",
       "10286  15.860187  1895  {'corpus': 'gale', 'identifier': 'AMFCF0002-C0...\n",
       "18609  15.731549  1966  {'corpus': 'chicago', 'identifier': '20679', '...\n",
       "1      15.309358  1941  {'corpus': 'chicago', 'identifier': '10639', '...\n",
       "10656  14.285622  1899  {'corpus': 'gale', 'identifier': 'AMFCF0002-C0...\n",
       "2292   13.925341  1994  {'corpus': 'chicago', 'identifier': '25492', '...\n",
       "6436   13.814775  1917  {'corpus': 'gale', 'identifier': 'AMFCF0003-C0...\n",
       "11105  13.710017  1954  {'corpus': 'chicago', 'identifier': '20139', '...\n",
       "16541  13.209593  1945  {'corpus': 'chicago', 'identifier': '11765', '...\n",
       "10062  13.127559  1989  {'corpus': 'chicago', 'identifier': '23211', '...\n",
       "901    13.105911  1986  {'corpus': 'chicago', 'identifier': '22596', '...\n",
       "10039  12.816153  1989  {'corpus': 'chicago', 'identifier': '23187', '...\n",
       "5630   12.535758  1995  {'corpus': 'chicago', 'identifier': '24242', '...\n",
       "23765  12.532531  2000  {'corpus': 'chicago', 'identifier': '26134', '...\n",
       "8921   12.285436  1910  {'corpus': 'chicago', 'identifier': '3270', 't...\n",
       "17073  12.074262  1997  {'corpus': 'chicago', 'identifier': '24449', '...\n",
       "21300  11.816136  1895  {'corpus': 'gale', 'identifier': 'AMFCF0002-C0...\n",
       "5253   11.720392  1940  {'corpus': 'chicago', 'identifier': '11645', '...\n",
       "18270  11.680047  1895  {'corpus': 'chicago', 'identifier': '1161', 't...\n",
       "5706   11.417807  1996  {'corpus': 'chicago', 'identifier': '24318', '...\n",
       "12721  11.366851  1990  {'corpus': 'chicago', 'identifier': '23320', '...\n",
       "25072  11.335433  1918  {'corpus': 'gale', 'identifier': 'AMFCF0003-C0...\n",
       "10089  11.228209  1989  {'corpus': 'chicago', 'identifier': '23238', '...\n",
       "15828  10.956948  1979  {'corpus': 'chicago', 'identifier': '21636', '...\n",
       "23104  10.921437  1894  {'corpus': 'gale', 'identifier': 'AMFCF0002-C0...\n",
       "14502  10.886411  1902  {'corpus': 'gale', 'identifier': 'AMFCF0002-C0...\n",
       "22988  10.847728  1892  {'corpus': 'gale', 'identifier': 'AMFCF0002-C0...\n",
       "3630   10.738657  1995  {'corpus': 'chicago', 'identifier': '25605', '...\n",
       "12403  10.654113  1996  {'corpus': 'chicago', 'identifier': '25676', '...\n",
       "9616   10.639200  1946  {'corpus': 'chicago', 'identifier': '11086', '...\n",
       "...          ...   ...                                                ...\n",
       "25365  -5.969189  1911  {'corpus': 'gale', 'identifier': 'AMFCF0003-C0...\n",
       "4510   -5.978181  1904  {'corpus': 'chicago', 'identifier': '4822', 't...\n",
       "10548  -6.042817  1859  {'corpus': 'gale', 'identifier': 'AMFCF0002-C0...\n",
       "6893   -6.047693  1930  {'corpus': 'chicago', 'identifier': '11301', '...\n",
       "18683  -6.077527  1881  {'corpus': 'chicago', 'identifier': '86', 'tit...\n",
       "8726   -6.102433  1902  {'corpus': 'gale', 'identifier': 'AMFCF0002-C0...\n",
       "8539   -6.142954  1925  {'corpus': 'chicago', 'identifier': '11143', '...\n",
       "23974  -6.168060  1906  {'corpus': 'gale', 'identifier': 'AMFCF0002-C0...\n",
       "1115   -6.186591  1931  {'corpus': 'chicago', 'identifier': '11333', '...\n",
       "17060  -6.225038  1997  {'corpus': 'chicago', 'identifier': '24436', '...\n",
       "6865   -6.240381  1929  {'corpus': 'chicago', 'identifier': '11273', '...\n",
       "5397   -6.246020  1974  {'corpus': 'chicago', 'identifier': '21230', '...\n",
       "26043  -6.287931  1900  {'corpus': 'gale', 'identifier': 'AMFCF0002-C0...\n",
       "9483   -6.308776  1900  {'corpus': 'chicago', 'identifier': '1850', 't...\n",
       "16982  -6.418739  1918  {'corpus': 'gale', 'identifier': 'AMFCF0003-C0...\n",
       "5300   -6.509332  1941  {'corpus': 'chicago', 'identifier': '11692', '...\n",
       "5115   -6.549668  1917  {'corpus': 'gale', 'identifier': 'AMFCF0003-C0...\n",
       "16934  -6.575981  1884  {'corpus': 'gale', 'identifier': 'AMFCF0002-C0...\n",
       "16690  -6.587497  1935  {'corpus': 'chicago', 'identifier': '10482', '...\n",
       "18698  -6.751342  1883  {'corpus': 'chicago', 'identifier': '186', 'ti...\n",
       "2537   -6.825900  1873  {'corpus': 'gale', 'identifier': 'AMFCF0002-C0...\n",
       "6830   -6.832796  1928  {'corpus': 'chicago', 'identifier': '11238', '...\n",
       "11393  -6.850448  1887  {'corpus': 'gale', 'identifier': 'AMFCF0002-C0...\n",
       "17956  -6.929718  1902  {'corpus': 'gale', 'identifier': 'AMFCF0002-C0...\n",
       "5064   -7.065098  1945  {'corpus': 'chicago', 'identifier': '10792', '...\n",
       "5016   -7.576021  1944  {'corpus': 'chicago', 'identifier': '10744', '...\n",
       "20746  -7.660791  1917  {'corpus': 'gale', 'identifier': 'AMFCF0003-C0...\n",
       "4971   -7.676604  1887  {'corpus': 'gale', 'identifier': 'AMFCF0002-C0...\n",
       "16726  -8.348243  1937  {'corpus': 'chicago', 'identifier': '10518', '...\n",
       "19612 -10.456749  1977  {'corpus': 'chicago', 'identifier': '23562', '...\n",
       "\n",
       "[26971 rows x 3 columns]"
      ]
     },
     "execution_count": 156,
     "metadata": {},
     "output_type": "execute_result"
    }
   ],
   "source": [
    "df.sort_values('zscore', ascending=False)"
   ]
  },
  {
   "cell_type": "code",
   "execution_count": 157,
   "metadata": {},
   "outputs": [
    {
     "data": {
      "text/html": [
       "<table class=\"simpletable\">\n",
       "<caption>OLS Regression Results</caption>\n",
       "<tr>\n",
       "  <th>Dep. Variable:</th>         <td>zscore</td>      <th>  R-squared:         </th> <td>   0.029</td> \n",
       "</tr>\n",
       "<tr>\n",
       "  <th>Model:</th>                   <td>OLS</td>       <th>  Adj. R-squared:    </th> <td>   0.029</td> \n",
       "</tr>\n",
       "<tr>\n",
       "  <th>Method:</th>             <td>Least Squares</td>  <th>  F-statistic:       </th> <td>   794.5</td> \n",
       "</tr>\n",
       "<tr>\n",
       "  <th>Date:</th>             <td>Fri, 28 Apr 2017</td> <th>  Prob (F-statistic):</th> <td>2.68e-172</td>\n",
       "</tr>\n",
       "<tr>\n",
       "  <th>Time:</th>                 <td>13:49:12</td>     <th>  Log-Likelihood:    </th> <td> -59945.</td> \n",
       "</tr>\n",
       "<tr>\n",
       "  <th>No. Observations:</th>      <td> 26971</td>      <th>  AIC:               </th> <td>1.199e+05</td>\n",
       "</tr>\n",
       "<tr>\n",
       "  <th>Df Residuals:</th>          <td> 26969</td>      <th>  BIC:               </th> <td>1.199e+05</td>\n",
       "</tr>\n",
       "<tr>\n",
       "  <th>Df Model:</th>              <td>     1</td>      <th>                     </th>     <td> </td>    \n",
       "</tr>\n",
       "<tr>\n",
       "  <th>Covariance Type:</th>      <td>nonrobust</td>    <th>                     </th>     <td> </td>    \n",
       "</tr>\n",
       "</table>\n",
       "<table class=\"simpletable\">\n",
       "<tr>\n",
       "    <td></td>       <th>coef</th>     <th>std err</th>      <th>t</th>      <th>P>|t|</th>  <th>[0.025</th>    <th>0.975]</th>  \n",
       "</tr>\n",
       "<tr>\n",
       "  <th>const</th> <td>  -15.8519</td> <td>    0.569</td> <td>  -27.856</td> <td> 0.000</td> <td>  -16.967</td> <td>  -14.736</td>\n",
       "</tr>\n",
       "<tr>\n",
       "  <th>year</th>  <td>    0.0084</td> <td>    0.000</td> <td>   28.187</td> <td> 0.000</td> <td>    0.008</td> <td>    0.009</td>\n",
       "</tr>\n",
       "</table>\n",
       "<table class=\"simpletable\">\n",
       "<tr>\n",
       "  <th>Omnibus:</th>       <td>3506.328</td> <th>  Durbin-Watson:     </th> <td>   1.994</td>\n",
       "</tr>\n",
       "<tr>\n",
       "  <th>Prob(Omnibus):</th>  <td> 0.000</td>  <th>  Jarque-Bera (JB):  </th> <td>7795.719</td>\n",
       "</tr>\n",
       "<tr>\n",
       "  <th>Skew:</th>           <td> 0.783</td>  <th>  Prob(JB):          </th> <td>    0.00</td>\n",
       "</tr>\n",
       "<tr>\n",
       "  <th>Kurtosis:</th>       <td> 5.118</td>  <th>  Cond. No.          </th> <td>8.01e+04</td>\n",
       "</tr>\n",
       "</table>"
      ],
      "text/plain": [
       "<class 'statsmodels.iolib.summary.Summary'>\n",
       "\"\"\"\n",
       "                            OLS Regression Results                            \n",
       "==============================================================================\n",
       "Dep. Variable:                 zscore   R-squared:                       0.029\n",
       "Model:                            OLS   Adj. R-squared:                  0.029\n",
       "Method:                 Least Squares   F-statistic:                     794.5\n",
       "Date:                Fri, 28 Apr 2017   Prob (F-statistic):          2.68e-172\n",
       "Time:                        13:49:12   Log-Likelihood:                -59945.\n",
       "No. Observations:               26971   AIC:                         1.199e+05\n",
       "Df Residuals:                   26969   BIC:                         1.199e+05\n",
       "Df Model:                           1                                         \n",
       "Covariance Type:            nonrobust                                         \n",
       "==============================================================================\n",
       "                 coef    std err          t      P>|t|      [0.025      0.975]\n",
       "------------------------------------------------------------------------------\n",
       "const        -15.8519      0.569    -27.856      0.000     -16.967     -14.736\n",
       "year           0.0084      0.000     28.187      0.000       0.008       0.009\n",
       "==============================================================================\n",
       "Omnibus:                     3506.328   Durbin-Watson:                   1.994\n",
       "Prob(Omnibus):                  0.000   Jarque-Bera (JB):             7795.719\n",
       "Skew:                           0.783   Prob(JB):                         0.00\n",
       "Kurtosis:                       5.118   Cond. No.                     8.01e+04\n",
       "==============================================================================\n",
       "\n",
       "Warnings:\n",
       "[1] Standard Errors assume that the covariance matrix of the errors is correctly specified.\n",
       "[2] The condition number is large, 8.01e+04. This might indicate that there are\n",
       "strong multicollinearity or other numerical problems.\n",
       "\"\"\""
      ]
     },
     "execution_count": 157,
     "metadata": {},
     "output_type": "execute_result"
    }
   ],
   "source": [
    "X = df['year']\n",
    "y = df['zscore']\n",
    "\n",
    "X = sm.add_constant(X)\n",
    "fit = sm.OLS(y, X).fit()\n",
    "\n",
    "fit.summary()"
   ]
  },
  {
   "cell_type": "code",
   "execution_count": 158,
   "metadata": {},
   "outputs": [
    {
     "data": {
      "image/png": "[encoded data removed]",
      "text/plain": [
       "<matplotlib.figure.Figure at 0x120924e10>"
      ]
     },
     "metadata": {},
     "output_type": "display_data"
    }
   ],
   "source": [
    "plt.figure(figsize=(20, 10))\n",
    "plt.scatter(df['year'], df['zscore'])\n",
    "\n",
    "x1 = 1800\n",
    "x2 = 2000\n",
    "y1 = fit.params[1]*x1 + fit.params[0]\n",
    "y2 = fit.params[1]*x2 + fit.params[0]\n",
    "\n",
    "plt.plot([x1, x2], [y1, y2], c='orange')\n",
    "\n",
    "plt.show()"
   ]
  },
  {
   "cell_type": "code",
   "execution_count": 160,
   "metadata": {
    "scrolled": false
   },
   "outputs": [
    {
     "name": "stdout",
     "output_type": "stream",
     "text": [
      "Beyond deserving (Sandra Jean Scofield, 1991)\n"
     ]
    },
    {
     "data": {
      "image/png": "[encoded data removed]",
      "text/plain": [
       "<matplotlib.figure.Figure at 0x15553d5c0>"
      ]
     },
     "metadata": {},
     "output_type": "display_data"
    },
    {
     "name": "stdout",
     "output_type": "stream",
     "text": [
      "The Banker and the Typewriter: Nevada McNeill (Nevada McNeill, 1895)\n"
     ]
    },
    {
     "data": {
      "image/png": "[encoded data removed]",
      "text/plain": [
       "<matplotlib.figure.Figure at 0x10f8b1780>"
      ]
     },
     "metadata": {},
     "output_type": "display_data"
    },
    {
     "name": "stdout",
     "output_type": "stream",
     "text": [
      "Tai-Pan (James Clavell, 1966)\n"
     ]
    },
    {
     "data": {
      "image/png": "[encoded data removed]",
      "text/plain": [
       "<matplotlib.figure.Figure at 0x15555c898>"
      ]
     },
     "metadata": {},
     "output_type": "display_data"
    },
    {
     "name": "stdout",
     "output_type": "stream",
     "text": [
      "In this our life (Ellen Anderson Gholson Glasgow, 1941)\n"
     ]
    },
    {
     "data": {
      "image/png": "[encoded data removed]",
      "text/plain": [
       "<matplotlib.figure.Figure at 0x1553dfac8>"
      ]
     },
     "metadata": {},
     "output_type": "display_data"
    },
    {
     "name": "stdout",
     "output_type": "stream",
     "text": [
      "Love and Politics: A Social Romance of a Prominent Orator and a Society Queen: Reproductions of Their Letters and Poems: By Neile Bevans (Nelie Bevans, 1899)\n"
     ]
    },
    {
     "data": {
      "image/png": "[encoded data removed]",
      "text/plain": [
       "<matplotlib.figure.Figure at 0x1559198d0>"
      ]
     },
     "metadata": {},
     "output_type": "display_data"
    },
    {
     "name": "stdout",
     "output_type": "stream",
     "text": [
      "Grand passion (Jayne Castle, 1994)\n"
     ]
    },
    {
     "data": {
      "image/png": "[encoded data removed]",
      "text/plain": [
       "<matplotlib.figure.Figure at 0x1557265c0>"
      ]
     },
     "metadata": {},
     "output_type": "display_data"
    },
    {
     "name": "stdout",
     "output_type": "stream",
     "text": [
      "His Family: By Ernest Poole (Ernest Poole, 1917)\n"
     ]
    },
    {
     "data": {
      "image/png": "[encoded data removed]",
      "text/plain": [
       "<matplotlib.figure.Figure at 0x1553e60b8>"
      ]
     },
     "metadata": {},
     "output_type": "display_data"
    },
    {
     "name": "stdout",
     "output_type": "stream",
     "text": [
      "The star beast (Robert A. Heinlein, 1954)\n"
     ]
    },
    {
     "data": {
      "image/png": "[encoded data removed]",
      "text/plain": [
       "<matplotlib.figure.Figure at 0x15531ef98>"
      ]
     },
     "metadata": {},
     "output_type": "display_data"
    },
    {
     "name": "stdout",
     "output_type": "stream",
     "text": [
      "Sparkling cyanide (Agatha Christie, 1945)\n"
     ]
    },
    {
     "data": {
      "image/png": "[encoded data removed]",
      "text/plain": [
       "<matplotlib.figure.Figure at 0x155982e48>"
      ]
     },
     "metadata": {},
     "output_type": "display_data"
    },
    {
     "name": "stdout",
     "output_type": "stream",
     "text": [
      "Kiss of the night wind (Janelle Taylor, 1989)\n"
     ]
    },
    {
     "data": {
      "image/png": "[encoded data removed]",
      "text/plain": [
       "<matplotlib.figure.Figure at 0x155770390>"
      ]
     },
     "metadata": {},
     "output_type": "display_data"
    },
    {
     "name": "stdout",
     "output_type": "stream",
     "text": [
      "The seventh secret (Irving Wallace, 1986)\n"
     ]
    },
    {
     "data": {
      "image/png": "[encoded data removed]",
      "text/plain": [
       "<matplotlib.figure.Figure at 0x155add1d0>"
      ]
     },
     "metadata": {},
     "output_type": "display_data"
    },
    {
     "name": "stdout",
     "output_type": "stream",
     "text": [
      "The education of Harriet Hatfield (May Sarton, 1989)\n"
     ]
    },
    {
     "data": {
      "image/png": "[encoded data removed]",
      "text/plain": [
       "<matplotlib.figure.Figure at 0x1552d8710>"
      ]
     },
     "metadata": {},
     "output_type": "display_data"
    },
    {
     "name": "stdout",
     "output_type": "stream",
     "text": [
      "Lasher (Anne Rice, 1995)\n"
     ]
    },
    {
     "data": {
      "image/png": "[encoded data removed]",
      "text/plain": [
       "<matplotlib.figure.Figure at 0x155add5c0>"
      ]
     },
     "metadata": {},
     "output_type": "display_data"
    },
    {
     "name": "stdout",
     "output_type": "stream",
     "text": [
      "After the parade (Dorothy Garlock, 2000)\n"
     ]
    },
    {
     "data": {
      "image/png": "[encoded data removed]",
      "text/plain": [
       "<matplotlib.figure.Figure at 0x15579f0f0>"
      ]
     },
     "metadata": {},
     "output_type": "display_data"
    },
    {
     "name": "stdout",
     "output_type": "stream",
     "text": [
      "Lost Face (Jack London, 1910)\n"
     ]
    },
    {
     "data": {
      "image/png": "[encoded data removed]",
      "text/plain": [
       "<matplotlib.figure.Figure at 0x15547af28>"
      ]
     },
     "metadata": {},
     "output_type": "display_data"
    },
    {
     "name": "stdout",
     "output_type": "stream",
     "text": [
      "The shadow matrix (Marion Zimmer Bradley, 1997)\n"
     ]
    },
    {
     "data": {
      "image/png": "[encoded data removed]",
      "text/plain": [
       "<matplotlib.figure.Figure at 0x1553c8c88>"
      ]
     },
     "metadata": {},
     "output_type": "display_data"
    },
    {
     "name": "stdout",
     "output_type": "stream",
     "text": [
      "The Red Badge of Courage: An Episode of the American Civil War: By Stephen Crane (Stephen Crane, 1895)\n"
     ]
    },
    {
     "data": {
      "image/png": "[encoded data removed]",
      "text/plain": [
       "<matplotlib.figure.Figure at 0x155a82da0>"
      ]
     },
     "metadata": {},
     "output_type": "display_data"
    },
    {
     "name": "stdout",
     "output_type": "stream",
     "text": [
      "And then there were none (Agatha Christie, 1940)\n"
     ]
    },
    {
     "data": {
      "image/png": "[encoded data removed]",
      "text/plain": [
       "<matplotlib.figure.Figure at 0x1558840f0>"
      ]
     },
     "metadata": {},
     "output_type": "display_data"
    },
    {
     "name": "stdout",
     "output_type": "stream",
     "text": [
      "The red badge of courage (Stephen Crane, 1895)\n"
     ]
    },
    {
     "data": {
      "image/png": "[encoded data removed]",
      "text/plain": [
       "<matplotlib.figure.Figure at 0x155424400>"
      ]
     },
     "metadata": {},
     "output_type": "display_data"
    },
    {
     "name": "stdout",
     "output_type": "stream",
     "text": [
      "House of smoke (J. F Freedman, 1996)\n"
     ]
    },
    {
     "data": {
      "image/png": "[encoded data removed]",
      "text/plain": [
       "<matplotlib.figure.Figure at 0x1556be240>"
      ]
     },
     "metadata": {},
     "output_type": "display_data"
    },
    {
     "name": "stdout",
     "output_type": "stream",
     "text": [
      "Always and forever (Cynthia Freeman, 1990)\n"
     ]
    },
    {
     "data": {
      "image/png": "[encoded data removed]",
      "text/plain": [
       "<matplotlib.figure.Figure at 0x137c9fb70>"
      ]
     },
     "metadata": {},
     "output_type": "display_data"
    },
    {
     "name": "stdout",
     "output_type": "stream",
     "text": [
      "The Red One: By Jack London (Jack London, 1918)\n"
     ]
    },
    {
     "data": {
      "image/png": "[encoded data removed]",
      "text/plain": [
       "<matplotlib.figure.Figure at 0x1559d2f60>"
      ]
     },
     "metadata": {},
     "output_type": "display_data"
    },
    {
     "name": "stdout",
     "output_type": "stream",
     "text": [
      "So worthy my love (Kathleen E Woodiwiss, 1989)\n"
     ]
    },
    {
     "data": {
      "image/png": "[encoded data removed]",
      "text/plain": [
       "<matplotlib.figure.Figure at 0x1556fe748>"
      ]
     },
     "metadata": {},
     "output_type": "display_data"
    },
    {
     "name": "stdout",
     "output_type": "stream",
     "text": [
      "The dancers of Arun (Elizabeth A Lynn, 1979)\n"
     ]
    },
    {
     "data": {
      "image/png": "[encoded data removed]",
      "text/plain": [
       "<matplotlib.figure.Figure at 0x137f22978>"
      ]
     },
     "metadata": {},
     "output_type": "display_data"
    },
    {
     "name": "stdout",
     "output_type": "stream",
     "text": [
      "The Free Soil Prophet of the Verdigris: By R. E. Heller … (Robley Heller, 1894)\n"
     ]
    },
    {
     "data": {
      "image/png": "[encoded data removed]",
      "text/plain": [
       "<matplotlib.figure.Figure at 0x1559c0e48>"
      ]
     },
     "metadata": {},
     "output_type": "display_data"
    },
    {
     "name": "stdout",
     "output_type": "stream",
     "text": [
      "The Surprises of an Empty Hotel: A Novel: By Archibald Clavering Gunter (Archibald Gunter, 1902)\n"
     ]
    },
    {
     "data": {
      "image/png": "[encoded data removed]",
      "text/plain": [
       "<matplotlib.figure.Figure at 0x1559514e0>"
      ]
     },
     "metadata": {},
     "output_type": "display_data"
    },
    {
     "name": "stdout",
     "output_type": "stream",
     "text": [
      "The Heirs of Bradley House: By Amanda M. Douglas … (Amanda Douglas, 1892)\n"
     ]
    },
    {
     "data": {
      "image/png": "[encoded data removed]",
      "text/plain": [
       "<matplotlib.figure.Figure at 0x15529d898>"
      ]
     },
     "metadata": {},
     "output_type": "display_data"
    },
    {
     "name": "stdout",
     "output_type": "stream",
     "text": [
      "Topping from below (Laura Reese, 1995)\n"
     ]
    },
    {
     "data": {
      "image/png": "[encoded data removed]",
      "text/plain": [
       "<matplotlib.figure.Figure at 0x1552e5198>"
      ]
     },
     "metadata": {},
     "output_type": "display_data"
    },
    {
     "name": "stdout",
     "output_type": "stream",
     "text": [
      "The Stainless Steel Rat goes to hell (Harry Harrison, 1996)\n"
     ]
    },
    {
     "data": {
      "image/png": "[encoded data removed]",
      "text/plain": [
       "<matplotlib.figure.Figure at 0x1554c8a90>"
      ]
     },
     "metadata": {},
     "output_type": "display_data"
    },
    {
     "name": "stdout",
     "output_type": "stream",
     "text": [
      "Return to Jalna (Mazo De la Roche, 1946)\n"
     ]
    },
    {
     "data": {
      "image/png": "[encoded data removed]",
      "text/plain": [
       "<matplotlib.figure.Figure at 0x155974c18>"
      ]
     },
     "metadata": {},
     "output_type": "display_data"
    },
    {
     "name": "stdout",
     "output_type": "stream",
     "text": [
      "The Man from Mars: His Morals, Politics and Religion: By Thomas Blot (Thomas Blot, 1891)\n"
     ]
    },
    {
     "data": {
      "image/png": "[encoded data removed]",
      "text/plain": [
       "<matplotlib.figure.Figure at 0x155444048>"
      ]
     },
     "metadata": {},
     "output_type": "display_data"
    },
    {
     "name": "stdout",
     "output_type": "stream",
     "text": [
      "Earth Revisited: By Byron A. Brooks (Byron Brooks, 1893)\n"
     ]
    },
    {
     "data": {
      "image/png": "[encoded data removed]",
      "text/plain": [
       "<matplotlib.figure.Figure at 0x15582de80>"
      ]
     },
     "metadata": {},
     "output_type": "display_data"
    },
    {
     "name": "stdout",
     "output_type": "stream",
     "text": [
      "Dinosaur summer (Greg Bear, 1998)\n"
     ]
    },
    {
     "data": {
      "image/png": "[encoded data removed]",
      "text/plain": [
       "<matplotlib.figure.Figure at 0x1558adf28>"
      ]
     },
     "metadata": {},
     "output_type": "display_data"
    },
    {
     "name": "stdout",
     "output_type": "stream",
     "text": [
      "The untilled field (George Moore, 1903)\n"
     ]
    },
    {
     "data": {
      "image/png": "[encoded data removed]",
      "text/plain": [
       "<matplotlib.figure.Figure at 0x15526db70>"
      ]
     },
     "metadata": {},
     "output_type": "display_data"
    },
    {
     "name": "stdout",
     "output_type": "stream",
     "text": [
      "The robin & the kestrel (Mercedes Lackey, 1993)\n"
     ]
    },
    {
     "data": {
      "image/png": "[encoded data removed]",
      "text/plain": [
       "<matplotlib.figure.Figure at 0x155564550>"
      ]
     },
     "metadata": {},
     "output_type": "display_data"
    },
    {
     "name": "stdout",
     "output_type": "stream",
     "text": [
      "Nightwood (Djuna Barnes, 1936)\n"
     ]
    },
    {
     "data": {
      "image/png": "[encoded data removed]",
      "text/plain": [
       "<matplotlib.figure.Figure at 0x15556ef98>"
      ]
     },
     "metadata": {},
     "output_type": "display_data"
    },
    {
     "name": "stdout",
     "output_type": "stream",
     "text": [
      "Wildest dreams (Jennifer Blake, 1992)\n"
     ]
    },
    {
     "data": {
      "image/png": "[encoded data removed]",
      "text/plain": [
       "<matplotlib.figure.Figure at 0x155697ac8>"
      ]
     },
     "metadata": {},
     "output_type": "display_data"
    },
    {
     "name": "stdout",
     "output_type": "stream",
     "text": [
      "Ten North Frederick (John O'Hara, 1955)\n"
     ]
    },
    {
     "data": {
      "image/png": "[encoded data removed]",
      "text/plain": [
       "<matplotlib.figure.Figure at 0x15589fd30>"
      ]
     },
     "metadata": {},
     "output_type": "display_data"
    },
    {
     "name": "stdout",
     "output_type": "stream",
     "text": [
      "The recognitions (William Gaddis, 1955)\n"
     ]
    },
    {
     "data": {
      "image/png": "[encoded data removed]",
      "text/plain": [
       "<matplotlib.figure.Figure at 0x1557469e8>"
      ]
     },
     "metadata": {},
     "output_type": "display_data"
    },
    {
     "name": "stdout",
     "output_type": "stream",
     "text": [
      "The enchantment of Lily Dahl (Siri Hustvedt, 1996)\n"
     ]
    },
    {
     "data": {
      "image/png": "[encoded data removed]",
      "text/plain": [
       "<matplotlib.figure.Figure at 0x1558f5630>"
      ]
     },
     "metadata": {},
     "output_type": "display_data"
    },
    {
     "name": "stdout",
     "output_type": "stream",
     "text": [
      "The unwilling heiress (Deborah Fruchey, 1986)\n"
     ]
    },
    {
     "data": {
      "image/png": "[encoded data removed]",
      "text/plain": [
       "<matplotlib.figure.Figure at 0x1553a6668>"
      ]
     },
     "metadata": {},
     "output_type": "display_data"
    },
    {
     "name": "stdout",
     "output_type": "stream",
     "text": [
      "New moon rising (Eugenia Price, 1969)\n"
     ]
    },
    {
     "data": {
      "image/png": "[encoded data removed]",
      "text/plain": [
       "<matplotlib.figure.Figure at 0x15590c908>"
      ]
     },
     "metadata": {},
     "output_type": "display_data"
    },
    {
     "name": "stdout",
     "output_type": "stream",
     "text": [
      "Her Senator: A Novel: By Archibald Clavering Gunter … (Archibald Gunter, 1896)\n"
     ]
    },
    {
     "data": {
      "image/png": "[encoded data removed]",
      "text/plain": [
       "<matplotlib.figure.Figure at 0x1555e09e8>"
      ]
     },
     "metadata": {},
     "output_type": "display_data"
    },
    {
     "name": "stdout",
     "output_type": "stream",
     "text": [
      "A Change of Opinion: By John Rupert Farrell (John Farrell, 1920)\n"
     ]
    },
    {
     "data": {
      "image/png": "[encoded data removed]",
      "text/plain": [
       "<matplotlib.figure.Figure at 0x15560e278>"
      ]
     },
     "metadata": {},
     "output_type": "display_data"
    },
    {
     "name": "stdout",
     "output_type": "stream",
     "text": [
      "Juggernaut: A Veiled Record: By George Cary Eggleston and Dolores Marbourg (George Eggleston, 1891)\n"
     ]
    },
    {
     "data": {
      "image/png": "[encoded data removed]",
      "text/plain": [
       "<matplotlib.figure.Figure at 0x1559434a8>"
      ]
     },
     "metadata": {},
     "output_type": "display_data"
    },
    {
     "name": "stdout",
     "output_type": "stream",
     "text": [
      "The missing Madonna (Carol Anne O'Marie, 1988)\n"
     ]
    },
    {
     "data": {
      "image/png": "[encoded data removed]",
      "text/plain": [
       "<matplotlib.figure.Figure at 0x15597de10>"
      ]
     },
     "metadata": {},
     "output_type": "display_data"
    },
    {
     "name": "stdout",
     "output_type": "stream",
     "text": [
      "Power of a woman (Barbara Taylor Bradford, 1997)\n"
     ]
    },
    {
     "data": {
      "image/png": "[encoded data removed]",
      "text/plain": [
       "<matplotlib.figure.Figure at 0x1554d57f0>"
      ]
     },
     "metadata": {},
     "output_type": "display_data"
    },
    {
     "name": "stdout",
     "output_type": "stream",
     "text": [
      "The witching hour (Anne Rice, 1990)\n"
     ]
    },
    {
     "data": {
      "image/png": "[encoded data removed]",
      "text/plain": [
       "<matplotlib.figure.Figure at 0x155a1da20>"
      ]
     },
     "metadata": {},
     "output_type": "display_data"
    },
    {
     "name": "stdout",
     "output_type": "stream",
     "text": [
      "Death of the fox (George Garrett, 1971)\n"
     ]
    },
    {
     "data": {
      "image/png": "[encoded data removed]",
      "text/plain": [
       "<matplotlib.figure.Figure at 0x13af70f60>"
      ]
     },
     "metadata": {},
     "output_type": "display_data"
    },
    {
     "name": "stdout",
     "output_type": "stream",
     "text": [
      "The Valiants of Virginia: By Hallie Erminie Rives (Mrs. Post Wheeler); Illustrated by André Castaigne (Hallie Rives, 1912)\n"
     ]
    },
    {
     "data": {
      "image/png": "[encoded data removed]",
      "text/plain": [
       "<matplotlib.figure.Figure at 0x1559826d8>"
      ]
     },
     "metadata": {},
     "output_type": "display_data"
    },
    {
     "name": "stdout",
     "output_type": "stream",
     "text": [
      "The black chamber (David Chacko, 1988)\n"
     ]
    },
    {
     "data": {
      "image/png": "[encoded data removed]",
      "text/plain": [
       "<matplotlib.figure.Figure at 0x1557ab860>"
      ]
     },
     "metadata": {},
     "output_type": "display_data"
    },
    {
     "name": "stdout",
     "output_type": "stream",
     "text": [
      "The old silent (Martha Grimes, 1989)\n"
     ]
    },
    {
     "data": {
      "image/png": "[encoded data removed]",
      "text/plain": [
       "<matplotlib.figure.Figure at 0x155686f28>"
      ]
     },
     "metadata": {},
     "output_type": "display_data"
    },
    {
     "name": "stdout",
     "output_type": "stream",
     "text": [
      "Knife in my back (Sam Merwin, 1945)\n"
     ]
    },
    {
     "data": {
      "image/png": "[encoded data removed]",
      "text/plain": [
       "<matplotlib.figure.Figure at 0x155648048>"
      ]
     },
     "metadata": {},
     "output_type": "display_data"
    },
    {
     "name": "stdout",
     "output_type": "stream",
     "text": [
      "Secret star (Nora Roberts, 1998)\n"
     ]
    },
    {
     "data": {
      "image/png": "[encoded data removed]",
      "text/plain": [
       "<matplotlib.figure.Figure at 0x15569a4a8>"
      ]
     },
     "metadata": {},
     "output_type": "display_data"
    },
    {
     "name": "stdout",
     "output_type": "stream",
     "text": [
      "At Anchor: A Novel: Julia Magruder (Julia Magruder, 1887)\n"
     ]
    },
    {
     "data": {
      "image/png": "[encoded data removed]",
      "text/plain": [
       "<matplotlib.figure.Figure at 0x155966c18>"
      ]
     },
     "metadata": {},
     "output_type": "display_data"
    },
    {
     "name": "stdout",
     "output_type": "stream",
     "text": [
      "Calamity Jane: A Story of the Black Hills: By Mrs. George E. Spencer … (George Spencer, 1887)\n"
     ]
    },
    {
     "data": {
      "image/png": "[encoded data removed]",
      "text/plain": [
       "<matplotlib.figure.Figure at 0x1559d1c88>"
      ]
     },
     "metadata": {},
     "output_type": "display_data"
    },
    {
     "name": "stdout",
     "output_type": "stream",
     "text": [
      "Damaged Goods: The Great Play \"Les Avarie´S\" of Brieux: Novelized with the Approval of the Author by Upton Sinclair (Upton Sinclair, 1913)\n"
     ]
    },
    {
     "data": {
      "image/png": "[encoded data removed]",
      "text/plain": [
       "<matplotlib.figure.Figure at 0x15572a5f8>"
      ]
     },
     "metadata": {},
     "output_type": "display_data"
    },
    {
     "name": "stdout",
     "output_type": "stream",
     "text": [
      "The prize (Irving Wallace, 1962)\n"
     ]
    },
    {
     "data": {
      "image/png": "[encoded data removed]",
      "text/plain": [
       "<matplotlib.figure.Figure at 0x13ad2ad68>"
      ]
     },
     "metadata": {},
     "output_type": "display_data"
    },
    {
     "name": "stdout",
     "output_type": "stream",
     "text": [
      "Folcarinia: A Political Love Story: By Adam Dixon Warner… (Adam Warner, 1908)\n"
     ]
    },
    {
     "data": {
      "image/png": "[encoded data removed]",
      "text/plain": [
       "<matplotlib.figure.Figure at 0x1556d1f28>"
      ]
     },
     "metadata": {},
     "output_type": "display_data"
    },
    {
     "name": "stdout",
     "output_type": "stream",
     "text": [
      "The Sledge: By R. V. Risley (Richard Risley, 1900)\n"
     ]
    },
    {
     "data": {
      "image/png": "[encoded data removed]",
      "text/plain": [
       "<matplotlib.figure.Figure at 0x13ac25eb8>"
      ]
     },
     "metadata": {},
     "output_type": "display_data"
    },
    {
     "name": "stdout",
     "output_type": "stream",
     "text": [
      "The Valiants of Virginia (Hallie Erminie Rives, 1912)\n"
     ]
    },
    {
     "data": {
      "image/png": "[encoded data removed]",
      "text/plain": [
       "<matplotlib.figure.Figure at 0x155a4a978>"
      ]
     },
     "metadata": {},
     "output_type": "display_data"
    },
    {
     "name": "stdout",
     "output_type": "stream",
     "text": [
      "I: said the fly (Morna Doris MacTaggart, 1945)\n"
     ]
    },
    {
     "data": {
      "image/png": "[encoded data removed]",
      "text/plain": [
       "<matplotlib.figure.Figure at 0x155863518>"
      ]
     },
     "metadata": {},
     "output_type": "display_data"
    },
    {
     "name": "stdout",
     "output_type": "stream",
     "text": [
      "Dark hero (Peter Cheyney, 1946)\n"
     ]
    },
    {
     "data": {
      "image/png": "[encoded data removed]",
      "text/plain": [
       "<matplotlib.figure.Figure at 0x15559ca58>"
      ]
     },
     "metadata": {},
     "output_type": "display_data"
    },
    {
     "name": "stdout",
     "output_type": "stream",
     "text": [
      "Children of light (Robert Stone, 1986)\n"
     ]
    },
    {
     "data": {
      "image/png": "[encoded data removed]",
      "text/plain": [
       "<matplotlib.figure.Figure at 0x155912a58>"
      ]
     },
     "metadata": {},
     "output_type": "display_data"
    },
    {
     "name": "stdout",
     "output_type": "stream",
     "text": [
      "Spanish serenade (Jennifer Blake, 1990)\n"
     ]
    },
    {
     "data": {
      "image/png": "[encoded data removed]",
      "text/plain": [
       "<matplotlib.figure.Figure at 0x155849ac8>"
      ]
     },
     "metadata": {},
     "output_type": "display_data"
    },
    {
     "name": "stdout",
     "output_type": "stream",
     "text": [
      "Final blackout (L. Ron Hubbard, 1948)\n"
     ]
    },
    {
     "data": {
      "image/png": "[encoded data removed]",
      "text/plain": [
       "<matplotlib.figure.Figure at 0x15568b588>"
      ]
     },
     "metadata": {},
     "output_type": "display_data"
    },
    {
     "name": "stdout",
     "output_type": "stream",
     "text": [
      "The Soul of the World: By Estella Bachman (Estella Bachman, 1909)\n"
     ]
    },
    {
     "data": {
      "image/png": "[encoded data removed]",
      "text/plain": [
       "<matplotlib.figure.Figure at 0x15551ea58>"
      ]
     },
     "metadata": {},
     "output_type": "display_data"
    },
    {
     "name": "stdout",
     "output_type": "stream",
     "text": [
      "Joyce of the Jasmines: By Ralph Henry Barbour … with Illustrations in Color by Clarence F. Underwood and Decorations by Edward Stratton Holloway (Ralph Barbour, 1911)\n"
     ]
    },
    {
     "data": {
      "image/png": "[encoded data removed]",
      "text/plain": [
       "<matplotlib.figure.Figure at 0x10fbc45c0>"
      ]
     },
     "metadata": {},
     "output_type": "display_data"
    },
    {
     "name": "stdout",
     "output_type": "stream",
     "text": [
      "San Isidro: By Mrs. Schuyler Crowninshield (Schuyler Crowninshield, 1900)\n"
     ]
    },
    {
     "data": {
      "image/png": "[encoded data removed]",
      "text/plain": [
       "<matplotlib.figure.Figure at 0x155357eb8>"
      ]
     },
     "metadata": {},
     "output_type": "display_data"
    },
    {
     "name": "stdout",
     "output_type": "stream",
     "text": [
      "The Atlantic Club-Book: Being Sketches in Prose and Verse: By Various Authors (None None, 1834)\n"
     ]
    },
    {
     "data": {
      "image/png": "[encoded data removed]",
      "text/plain": [
       "<matplotlib.figure.Figure at 0x155ac4710>"
      ]
     },
     "metadata": {},
     "output_type": "display_data"
    },
    {
     "name": "stdout",
     "output_type": "stream",
     "text": [
      "Long Draws: A Short Story of the Day: By W. M. Preston (William Preston, 1904)\n"
     ]
    },
    {
     "data": {
      "image/png": "[encoded data removed]",
      "text/plain": [
       "<matplotlib.figure.Figure at 0x1553f13c8>"
      ]
     },
     "metadata": {},
     "output_type": "display_data"
    },
    {
     "name": "stdout",
     "output_type": "stream",
     "text": [
      "The House of Gladness: By Emma S. Allen (Emma Allen, 1915)\n"
     ]
    },
    {
     "data": {
      "image/png": "[encoded data removed]",
      "text/plain": [
       "<matplotlib.figure.Figure at 0x155815c50>"
      ]
     },
     "metadata": {},
     "output_type": "display_data"
    },
    {
     "name": "stdout",
     "output_type": "stream",
     "text": [
      "Ashes on the wind (John Fischer, 1998)\n"
     ]
    },
    {
     "data": {
      "image/png": "[encoded data removed]",
      "text/plain": [
       "<matplotlib.figure.Figure at 0x155522ac8>"
      ]
     },
     "metadata": {},
     "output_type": "display_data"
    },
    {
     "name": "stdout",
     "output_type": "stream",
     "text": [
      "The lodger (Marie Belloc Lowndes, 1931)\n"
     ]
    },
    {
     "data": {
      "image/png": "[encoded data removed]",
      "text/plain": [
       "<matplotlib.figure.Figure at 0x155302ba8>"
      ]
     },
     "metadata": {},
     "output_type": "display_data"
    },
    {
     "name": "stdout",
     "output_type": "stream",
     "text": [
      "Ripley under ground (Patricia Highsmith, 1970)\n"
     ]
    },
    {
     "data": {
      "image/png": "[encoded data removed]",
      "text/plain": [
       "<matplotlib.figure.Figure at 0x1552a60b8>"
      ]
     },
     "metadata": {},
     "output_type": "display_data"
    },
    {
     "name": "stdout",
     "output_type": "stream",
     "text": [
      "Dear and glorious physician (Taylor Caldwell, 1959)\n"
     ]
    },
    {
     "data": {
      "image/png": "[encoded data removed]",
      "text/plain": [
       "<matplotlib.figure.Figure at 0x15587ab70>"
      ]
     },
     "metadata": {},
     "output_type": "display_data"
    },
    {
     "name": "stdout",
     "output_type": "stream",
     "text": [
      "According to St. John: By Amélie Rives … (Amélie Rives, 1891)\n"
     ]
    },
    {
     "data": {
      "image/png": "[encoded data removed]",
      "text/plain": [
       "<matplotlib.figure.Figure at 0x1552a4a90>"
      ]
     },
     "metadata": {},
     "output_type": "display_data"
    },
    {
     "name": "stdout",
     "output_type": "stream",
     "text": [
      "Escape the night (Mignon Good Eberhart, 1944)\n"
     ]
    },
    {
     "data": {
      "image/png": "[encoded data removed]",
      "text/plain": [
       "<matplotlib.figure.Figure at 0x155882e48>"
      ]
     },
     "metadata": {},
     "output_type": "display_data"
    },
    {
     "name": "stdout",
     "output_type": "stream",
     "text": [
      "The Encounter: By Anne Douglas Sedgwick (Mrs. Basil De Sélincourt) (Anne Sedgwick, 1914)\n"
     ]
    },
    {
     "data": {
      "image/png": "[encoded data removed]",
      "text/plain": [
       "<matplotlib.figure.Figure at 0x155705908>"
      ]
     },
     "metadata": {},
     "output_type": "display_data"
    },
    {
     "name": "stdout",
     "output_type": "stream",
     "text": [
      "The love talker (Barbara Mertz, 1980)\n"
     ]
    },
    {
     "data": {
      "image/png": "[encoded data removed]",
      "text/plain": [
       "<matplotlib.figure.Figure at 0x155448898>"
      ]
     },
     "metadata": {},
     "output_type": "display_data"
    },
    {
     "name": "stdout",
     "output_type": "stream",
     "text": [
      "This time a better earth (Ted Allan, 1939)\n"
     ]
    },
    {
     "data": {
      "image/png": "[encoded data removed]",
      "text/plain": [
       "<matplotlib.figure.Figure at 0x155661ef0>"
      ]
     },
     "metadata": {},
     "output_type": "display_data"
    },
    {
     "name": "stdout",
     "output_type": "stream",
     "text": [
      "Hollywood kids (Jackie Collins, 1994)\n"
     ]
    },
    {
     "data": {
      "image/png": "[encoded data removed]",
      "text/plain": [
       "<matplotlib.figure.Figure at 0x1559d3b00>"
      ]
     },
     "metadata": {},
     "output_type": "display_data"
    },
    {
     "name": "stdout",
     "output_type": "stream",
     "text": [
      "Small changes (Marge Piercy, 1973)\n"
     ]
    },
    {
     "data": {
      "image/png": "[encoded data removed]",
      "text/plain": [
       "<matplotlib.figure.Figure at 0x15553f0b8>"
      ]
     },
     "metadata": {},
     "output_type": "display_data"
    },
    {
     "name": "stdout",
     "output_type": "stream",
     "text": [
      "A.D. 2050: Electrical Development at Atlantis: By a Former Resident of \"The Hub.\" (John Bachelder, 1890)\n"
     ]
    },
    {
     "data": {
      "image/png": "[encoded data removed]",
      "text/plain": [
       "<matplotlib.figure.Figure at 0x1558d96d8>"
      ]
     },
     "metadata": {},
     "output_type": "display_data"
    },
    {
     "name": "stdout",
     "output_type": "stream",
     "text": [
      "Consider the Lilies: By Clara Froelich Grindell...; Illustrations by Ida W. Prentice (Clara Grindell, 1906)\n"
     ]
    },
    {
     "data": {
      "image/png": "[encoded data removed]",
      "text/plain": [
       "<matplotlib.figure.Figure at 0x1555c3160>"
      ]
     },
     "metadata": {},
     "output_type": "display_data"
    },
    {
     "name": "stdout",
     "output_type": "stream",
     "text": [
      "The Golden Heart: By Ralph Henry Barbour... With Illustrations in Color by Clarence F. Underwood and Decorations by Edward Stratton Holloway (Ralph Barbour, 1910)\n"
     ]
    },
    {
     "data": {
      "image/png": "[encoded data removed]",
      "text/plain": [
       "<matplotlib.figure.Figure at 0x13ac20828>"
      ]
     },
     "metadata": {},
     "output_type": "display_data"
    },
    {
     "name": "stdout",
     "output_type": "stream",
     "text": [
      "Mexico (James A. Michener, 1992)\n"
     ]
    },
    {
     "data": {
      "image/png": "[encoded data removed]",
      "text/plain": [
       "<matplotlib.figure.Figure at 0x1556e44e0>"
      ]
     },
     "metadata": {},
     "output_type": "display_data"
    },
    {
     "name": "stdout",
     "output_type": "stream",
     "text": [
      "Walden Two (B. F. Skinner, 1948)\n"
     ]
    },
    {
     "data": {
      "image/png": "[encoded data removed]",
      "text/plain": [
       "<matplotlib.figure.Figure at 0x1555bdeb8>"
      ]
     },
     "metadata": {},
     "output_type": "display_data"
    },
    {
     "name": "stdout",
     "output_type": "stream",
     "text": [
      "Charred Wood: By Myles Muredach; Illustrated by J. Clinton Shepherd (Francis Kelley, 1917)\n"
     ]
    },
    {
     "data": {
      "image/png": "[encoded data removed]",
      "text/plain": [
       "<matplotlib.figure.Figure at 0x154bc66d8>"
      ]
     },
     "metadata": {},
     "output_type": "display_data"
    },
    {
     "name": "stdout",
     "output_type": "stream",
     "text": [
      "The deep end of the ocean (Jacquelyn Mitchard, 1996)\n"
     ]
    },
    {
     "data": {
      "image/png": "[encoded data removed]",
      "text/plain": [
       "<matplotlib.figure.Figure at 0x155333dd8>"
      ]
     },
     "metadata": {},
     "output_type": "display_data"
    },
    {
     "name": "stdout",
     "output_type": "stream",
     "text": [
      "Born of Flame: A Rosicrucian Story: By Mrs. Margaret B. Peeke … (Margaret Peeke, 1892)\n"
     ]
    },
    {
     "data": {
      "image/png": "[encoded data removed]",
      "text/plain": [
       "<matplotlib.figure.Figure at 0x15590e940>"
      ]
     },
     "metadata": {},
     "output_type": "display_data"
    },
    {
     "name": "stdout",
     "output_type": "stream",
     "text": [
      "Anvil of stars (Greg Bear, 1992)\n"
     ]
    },
    {
     "data": {
      "image/png": "[encoded data removed]",
      "text/plain": [
       "<matplotlib.figure.Figure at 0x155a7f438>"
      ]
     },
     "metadata": {},
     "output_type": "display_data"
    },
    {
     "name": "stdout",
     "output_type": "stream",
     "text": [
      "Woman on the edge of time (Marge Piercy, 1976)\n"
     ]
    },
    {
     "data": {
      "image/png": "[encoded data removed]",
      "text/plain": [
       "<matplotlib.figure.Figure at 0x1553332e8>"
      ]
     },
     "metadata": {},
     "output_type": "display_data"
    },
    {
     "name": "stdout",
     "output_type": "stream",
     "text": [
      "The Treasure of Peyre Gaillard: Being an Account of the Recovery, on a South Carolina Plantation, of a Treasure, Which Had Remained Buried and Lost in a Vast Swamp for over a Hundred Years: Arranged by John Bennett, after the Ms. Narrative by Buck Guignard, esq., in the French manuscript entitled \"Le monticule du Jude.\" (John Bennett, 1906)\n"
     ]
    },
    {
     "data": {
      "image/png": "[encoded data removed]",
      "text/plain": [
       "<matplotlib.figure.Figure at 0x155967940>"
      ]
     },
     "metadata": {},
     "output_type": "display_data"
    },
    {
     "name": "stdout",
     "output_type": "stream",
     "text": [
      "The Shadow: By Arthur Stringer (Arthur Stringer, 1913)\n"
     ]
    },
    {
     "data": {
      "image/png": "[encoded data removed]",
      "text/plain": [
       "<matplotlib.figure.Figure at 0x155a43940>"
      ]
     },
     "metadata": {},
     "output_type": "display_data"
    },
    {
     "name": "stdout",
     "output_type": "stream",
     "text": [
      "A Forest Idyl: By Temple Oliver (Jeanie Smith, 1913)\n"
     ]
    },
    {
     "data": {
      "image/png": "[encoded data removed]",
      "text/plain": [
       "<matplotlib.figure.Figure at 0x1558792b0>"
      ]
     },
     "metadata": {},
     "output_type": "display_data"
    },
    {
     "name": "stdout",
     "output_type": "stream",
     "text": [
      "The Heiress of Bellefonte: Emerson Bennett (Emerson Bennett, 1855)\n"
     ]
    },
    {
     "data": {
      "image/png": "[encoded data removed]",
      "text/plain": [
       "<matplotlib.figure.Figure at 0x155343630>"
      ]
     },
     "metadata": {},
     "output_type": "display_data"
    },
    {
     "name": "stdout",
     "output_type": "stream",
     "text": [
      "Colonel [a Novel]: By Laisdell Mitchell … (Laisdell Mitchell, 1896)\n"
     ]
    },
    {
     "data": {
      "image/png": "[encoded data removed]",
      "text/plain": [
       "<matplotlib.figure.Figure at 0x1557ba3c8>"
      ]
     },
     "metadata": {},
     "output_type": "display_data"
    },
    {
     "name": "stdout",
     "output_type": "stream",
     "text": [
      "Never-fail Blake (Arthur Stringer, 1924)\n"
     ]
    },
    {
     "data": {
      "image/png": "[encoded data removed]",
      "text/plain": [
       "<matplotlib.figure.Figure at 0x155879ef0>"
      ]
     },
     "metadata": {},
     "output_type": "display_data"
    },
    {
     "name": "stdout",
     "output_type": "stream",
     "text": [
      "The Hellfire Club (Peter Straub, 1996)\n"
     ]
    },
    {
     "data": {
      "image/png": "[encoded data removed]",
      "text/plain": [
       "<matplotlib.figure.Figure at 0x15545a630>"
      ]
     },
     "metadata": {},
     "output_type": "display_data"
    }
   ],
   "source": [
    "for text in df.sort_values('zscore', ascending=False)['text'].head(100):\n",
    "    plot_histogram(text)"
   ]
  },
  {
   "cell_type": "code",
   "execution_count": null,
   "metadata": {
    "collapsed": true
   },
   "outputs": [],
   "source": []
  }
 ],
 "metadata": {
  "kernelspec": {
   "display_name": "Python 3",
   "language": "python",
   "name": "python3"
  },
  "language_info": {
   "codemirror_mode": {
    "name": "ipython",
    "version": 3
   },
   "file_extension": ".py",
   "mimetype": "text/x-python",
   "name": "python",
   "nbconvert_exporter": "python",
   "pygments_lexer": "ipython3",
   "version": "3.6.1"
  }
 },
 "nbformat": 4,
 "nbformat_minor": 2
}
