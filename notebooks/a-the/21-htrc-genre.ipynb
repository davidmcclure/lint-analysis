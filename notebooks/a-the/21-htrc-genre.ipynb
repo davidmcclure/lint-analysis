{
 "cells": [
  {
   "cell_type": "code",
   "execution_count": 141,
   "metadata": {},
   "outputs": [],
   "source": [
    "import os\n",
    "import ujson\n",
    "import attr\n",
    "import glob\n",
    "\n",
    "import pandas as pd\n",
    "\n",
    "from cached_property import cached_property\n",
    "from itertools import islice\n",
    "from tqdm import tqdm_notebook\n",
    "from htrc_features.utils import download_file\n",
    "from boltons.iterutils import chunked"
   ]
  },
  {
   "cell_type": "code",
   "execution_count": 119,
   "metadata": {},
   "outputs": [],
   "source": [
    "class GenreNovel:\n",
    "    \n",
    "    @classmethod\n",
    "    def from_path(cls, path):\n",
    "        with open(path) as fh:\n",
    "            return cls(ujson.load(fh))\n",
    "        \n",
    "    def __init__(self, data):\n",
    "        self.data = data\n",
    "    \n",
    "    def __repr__(self):\n",
    "        return 'GenreJSON<%s>' % self.htid\n",
    "    \n",
    "    @property\n",
    "    def htid(self):\n",
    "        return self.data['hathi_metadata']['htid']\n",
    "    \n",
    "    @cached_property\n",
    "    def page_genres(self):\n",
    "        \n",
    "        pages = sorted(\n",
    "            [k for k in self.data['page_genres'].keys()],\n",
    "            key=lambda k: int(k)\n",
    "        )\n",
    "        \n",
    "        return [\n",
    "            self.data['page_genres'][page]\n",
    "            for page in pages\n",
    "        ]\n",
    "    \n",
    "    @cached_property\n",
    "    def bi1(self):\n",
    "        i = 0\n",
    "        while self.page_genres[i] == 'front' and i < len(self.page_genres):\n",
    "            i += 1\n",
    "        return i\n",
    "    \n",
    "    @cached_property\n",
    "    def bi2(self):\n",
    "        i = len(self.page_genres) - 1\n",
    "        while self.page_genres[i] == 'back' and i > 0:\n",
    "            i -= 1\n",
    "        return i\n",
    "    \n",
    "    def body_genres(self):\n",
    "        return self.page_genres[self.bi1:self.bi2+1]\n",
    "    \n",
    "    def df_row(self):\n",
    "        bg = self.body_genres()\n",
    "        if len(set(bg)) == 1:\n",
    "            return (self.htid, bg[0], self.bi1, self.bi2)"
   ]
  },
  {
   "cell_type": "code",
   "execution_count": 120,
   "metadata": {},
   "outputs": [],
   "source": [
    "@attr.s\n",
    "class GenreDir:\n",
    "    \n",
    "    root = attr.ib()\n",
    "    \n",
    "    def paths(self):\n",
    "        pattern = os.path.join(self.root, '**/*.json')\n",
    "        return glob.iglob(pattern)\n",
    "    \n",
    "    def novels(self):\n",
    "        for path in self.paths():\n",
    "            yield GenreNovel.from_path(path)\n",
    "            \n",
    "    def df_rows(self):\n",
    "        for novel in tqdm_notebook(self.novels()):\n",
    "            row = novel.df_row()\n",
    "            if row: yield row"
   ]
  },
  {
   "cell_type": "code",
   "execution_count": 124,
   "metadata": {
    "scrolled": true
   },
   "outputs": [],
   "source": [
    "gd = GenreDir('../../data/htrc-genre/all')"
   ]
  },
  {
   "cell_type": "code",
   "execution_count": null,
   "metadata": {},
   "outputs": [],
   "source": [
    "rows = list(gd.df_rows())"
   ]
  },
  {
   "cell_type": "code",
   "execution_count": 128,
   "metadata": {},
   "outputs": [],
   "source": [
    "df = pd.DataFrame(rows, columns=('htid', 'genre', 'p1', 'p2'))"
   ]
  },
  {
   "cell_type": "code",
   "execution_count": 146,
   "metadata": {},
   "outputs": [
    {
     "data": {
      "text/plain": [
       "144337"
      ]
     },
     "execution_count": 146,
     "metadata": {},
     "output_type": "execute_result"
    }
   ],
   "source": [
    "len(df[df.genre=='non'])"
   ]
  },
  {
   "cell_type": "code",
   "execution_count": 147,
   "metadata": {},
   "outputs": [
    {
     "data": {
      "text/plain": [
       "17002"
      ]
     },
     "execution_count": 147,
     "metadata": {},
     "output_type": "execute_result"
    }
   ],
   "source": [
    "len(df[df.genre=='fic'])"
   ]
  },
  {
   "cell_type": "code",
   "execution_count": 149,
   "metadata": {},
   "outputs": [],
   "source": [
    "with open('vols.json', 'w') as fh:\n",
    "    print(df.to_json(), file=fh)"
   ]
  },
  {
   "cell_type": "code",
   "execution_count": null,
   "metadata": {},
   "outputs": [],
   "source": [
    "for htids in tqdm_notebook(chunked(list(df.htid), 1000)):\n",
    "    download_file(htids, outdir='htrc')"
   ]
  }
 ],
 "metadata": {
  "kernelspec": {
   "display_name": "Python 3",
   "language": "python",
   "name": "python3"
  },
  "language_info": {
   "codemirror_mode": {
    "name": "ipython",
    "version": 3
   },
   "file_extension": ".py",
   "mimetype": "text/x-python",
   "name": "python",
   "nbconvert_exporter": "python",
   "pygments_lexer": "ipython3",
   "version": "3.6.5"
  }
 },
 "nbformat": 4,
 "nbformat_minor": 2
}
