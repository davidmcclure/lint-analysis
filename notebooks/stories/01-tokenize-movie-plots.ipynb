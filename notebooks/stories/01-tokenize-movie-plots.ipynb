{
 "cells": [
  {
   "cell_type": "code",
   "execution_count": 1,
   "metadata": {},
   "outputs": [],
   "source": [
    "import ujson\n",
    "\n",
    "from textblob import TextBlob\n",
    "from tqdm import tqdm"
   ]
  },
  {
   "cell_type": "code",
   "execution_count": 3,
   "metadata": {},
   "outputs": [
    {
     "name": "stderr",
     "output_type": "stream",
     "text": [
      "42306it [03:34, 196.92it/s]\n"
     ]
    }
   ],
   "source": [
    "fhr = open('../../data/MovieSummaries/plot_summaries.txt')\n",
    "fhw = open('../../data/movies.json', 'w+')\n",
    "\n",
    "for line in tqdm(fhr):\n",
    "    \n",
    "    id, text = line.split('\\t')\n",
    "    \n",
    "    tb = TextBlob(text)\n",
    "    tokens = [[str(t) for t in s.words] for s in tb.sentences]\n",
    "    \n",
    "    ujson.dump(dict(id=id, tokens=tokens), fhw)"
   ]
  },
  {
   "cell_type": "code",
   "execution_count": null,
   "metadata": {},
   "outputs": [],
   "source": []
  }
 ],
 "metadata": {
  "kernelspec": {
   "display_name": "Python 3",
   "language": "python",
   "name": "python3"
  },
  "language_info": {
   "codemirror_mode": {
    "name": "ipython",
    "version": 3
   },
   "file_extension": ".py",
   "mimetype": "text/x-python",
   "name": "python",
   "nbconvert_exporter": "python",
   "pygments_lexer": "ipython3",
   "version": "3.6.5"
  }
 },
 "nbformat": 4,
 "nbformat_minor": 2
}
