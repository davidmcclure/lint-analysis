{
 "cells": [
  {
   "cell_type": "code",
   "execution_count": 1,
   "metadata": {},
   "outputs": [],
   "source": [
    "import ujson\n",
    "\n",
    "from textblob import TextBlob\n",
    "from tqdm import tqdm"
   ]
  },
  {
   "cell_type": "code",
   "execution_count": 5,
   "metadata": {},
   "outputs": [],
   "source": [
    "def tokenize(text):\n",
    "    tb = TextBlob(text)\n",
    "    return [[str(t) for t in s.words] for s in tb.sentences]"
   ]
  },
  {
   "cell_type": "code",
   "execution_count": 7,
   "metadata": {},
   "outputs": [
    {
     "name": "stderr",
     "output_type": "stream",
     "text": [
      "42306it [03:42, 190.52it/s]\n"
     ]
    }
   ],
   "source": [
    "fhr = open('../../data/MovieSummaries/plot_summaries.txt')\n",
    "fhw = open('../../data/movies.json', 'w+')\n",
    "\n",
    "for line in tqdm(fhr):\n",
    "    id, text = line.split('\\t')\n",
    "    tokens = tokenize(text)\n",
    "    out_line = ujson.dumps(dict(id=id, tokens=tokens))\n",
    "    print(out_line, file=fhw)"
   ]
  },
  {
   "cell_type": "code",
   "execution_count": null,
   "metadata": {},
   "outputs": [],
   "source": []
  }
 ],
 "metadata": {
  "kernelspec": {
   "display_name": "Python 3",
   "language": "python",
   "name": "python3"
  },
  "language_info": {
   "codemirror_mode": {
    "name": "ipython",
    "version": 3
   },
   "file_extension": ".py",
   "mimetype": "text/x-python",
   "name": "python",
   "nbconvert_exporter": "python",
   "pygments_lexer": "ipython3",
   "version": "3.6.5"
  }
 },
 "nbformat": 4,
 "nbformat_minor": 2
}
