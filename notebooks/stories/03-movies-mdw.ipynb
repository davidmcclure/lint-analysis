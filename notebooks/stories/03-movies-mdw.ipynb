{
 "cells": [
  {
   "cell_type": "code",
   "execution_count": 19,
   "metadata": {},
   "outputs": [],
   "source": [
    "import ujson\n",
    "import math\n",
    "\n",
    "import numpy as np\n",
    "import pandas as pd\n",
    "\n",
    "from tqdm import tqdm\n",
    "from collections import Counter\n",
    "from scipy import stats"
   ]
  },
  {
   "cell_type": "code",
   "execution_count": 2,
   "metadata": {},
   "outputs": [],
   "source": [
    "import matplotlib as mpl\n",
    "import matplotlib.pyplot as plt\n",
    "import seaborn as sns\n",
    "\n",
    "mpl.style.use('seaborn-muted')\n",
    "sns.set(style=\"whitegrid\")\n",
    "\n",
    "%matplotlib inline"
   ]
  },
  {
   "cell_type": "code",
   "execution_count": 3,
   "metadata": {},
   "outputs": [],
   "source": [
    "def zip_offset(seq):\n",
    "    \"\"\"Yield (item, 0-1 offset).\n",
    "    \"\"\"\n",
    "    size = len(seq)\n",
    "    for i, item in enumerate(seq):\n",
    "        offset = i / (size - 1) if (size - 1) else 0\n",
    "        yield item, offset"
   ]
  },
  {
   "cell_type": "code",
   "execution_count": 4,
   "metadata": {},
   "outputs": [],
   "source": [
    "def zip_bin(seq, bin_count):\n",
    "    \"\"\"Yield (item, bin)\n",
    "    \"\"\"\n",
    "    for item, offset in zip_offset(seq):\n",
    "        bin = math.floor(offset * bin_count) if offset < 1 else bin_count - 1\n",
    "        yield item, bin"
   ]
  },
  {
   "cell_type": "code",
   "execution_count": 5,
   "metadata": {},
   "outputs": [],
   "source": [
    "class Document:\n",
    "    \n",
    "    def __init__(self, id, sents):\n",
    "        self.id = id\n",
    "        self.sents = sents\n",
    "        \n",
    "    def __repr__(self):\n",
    "        return '%s<%d sentences>' % (self.__class__.__name__, len(self.sents))\n",
    "    \n",
    "    def tokens(self):\n",
    "        return [t.lower() for s in self.sents for t in s]"
   ]
  },
  {
   "cell_type": "code",
   "execution_count": 6,
   "metadata": {},
   "outputs": [],
   "source": [
    "def read_movie_summaries(path):\n",
    "    with open(path) as fh:\n",
    "        for line in tqdm(fh):\n",
    "            data = ujson.loads(line)\n",
    "            yield Document(data['id'], data['tokens'])"
   ]
  },
  {
   "cell_type": "code",
   "execution_count": 7,
   "metadata": {},
   "outputs": [],
   "source": [
    "class Corpus:\n",
    "    \n",
    "    @classmethod\n",
    "    def from_movie_summaries(cls, path):\n",
    "        return cls(list(read_movie_summaries(path)))\n",
    "    \n",
    "    def __init__(self, docs):\n",
    "        self.docs = docs\n",
    "        \n",
    "    def token_counts(self):\n",
    "        return Counter([\n",
    "            token for doc in self.docs \n",
    "            for token in doc.tokens()\n",
    "        ])"
   ]
  },
  {
   "cell_type": "code",
   "execution_count": 8,
   "metadata": {},
   "outputs": [
    {
     "name": "stderr",
     "output_type": "stream",
     "text": [
      "42304it [00:03, 11667.12it/s]\n"
     ]
    }
   ],
   "source": [
    "c = Corpus.from_movie_summaries('../../data/movies.json')"
   ]
  },
  {
   "cell_type": "code",
   "execution_count": 9,
   "metadata": {},
   "outputs": [],
   "source": [
    "counts = c.token_counts()"
   ]
  },
  {
   "cell_type": "code",
   "execution_count": 10,
   "metadata": {},
   "outputs": [
    {
     "data": {
      "text/plain": [
       "[('the', 824480),\n",
       " ('to', 481288),\n",
       " ('and', 456748),\n",
       " ('a', 376026),\n",
       " ('of', 261445),\n",
       " ('is', 225446),\n",
       " ('in', 220059),\n",
       " ('his', 196672),\n",
       " ('he', 180322),\n",
       " ('her', 151180)]"
      ]
     },
     "execution_count": 10,
     "metadata": {},
     "output_type": "execute_result"
    }
   ],
   "source": [
    "counts.most_common(10)"
   ]
  },
  {
   "cell_type": "code",
   "execution_count": 42,
   "metadata": {},
   "outputs": [],
   "source": [
    "vocab = [t for t, _ in counts.most_common(5000)]\n",
    "vtoi = {v: i for i, v in enumerate(vocab)}"
   ]
  },
  {
   "cell_type": "code",
   "execution_count": 91,
   "metadata": {},
   "outputs": [],
   "source": [
    "bin_counts = np.zeros((len(vocab), 10))"
   ]
  },
  {
   "cell_type": "code",
   "execution_count": 92,
   "metadata": {},
   "outputs": [
    {
     "name": "stderr",
     "output_type": "stream",
     "text": [
      "100%|██████████| 42304/42304 [00:19<00:00, 2115.56it/s]\n"
     ]
    }
   ],
   "source": [
    "for doc in tqdm(c.docs):\n",
    "    for token, bi in zip_bin(doc.tokens(), bin_counts.shape[1]):\n",
    "        if token in vtoi:\n",
    "            bin_counts[vtoi[token]][bi] += 1"
   ]
  },
  {
   "cell_type": "code",
   "execution_count": 93,
   "metadata": {},
   "outputs": [
    {
     "name": "stderr",
     "output_type": "stream",
     "text": [
      "100%|██████████| 5000/5000 [00:06<00:00, 750.00it/s]\n"
     ]
    }
   ],
   "source": [
    "rows = []\n",
    "for vi, token in enumerate(tqdm(vocab)):\n",
    "    for bi in range(bin_counts.shape[1]):\n",
    "        \n",
    "        b_total = bin_counts[:,bi].sum()\n",
    "        \n",
    "        c_obs = bin_counts[vi][bi]\n",
    "        c_exp = bin_counts[vi].sum() / bin_counts.shape[1]\n",
    "        \n",
    "        s, _ = stats.power_divergence(\n",
    "            [c_obs, b_total-c_obs],\n",
    "            [c_exp, b_total-c_exp],\n",
    "            lambda_='log-likelihood',\n",
    "        )\n",
    "        \n",
    "        rows.append((token, bi, c_obs-c_exp, s))"
   ]
  },
  {
   "cell_type": "code",
   "execution_count": 94,
   "metadata": {},
   "outputs": [],
   "source": [
    "df = pd.DataFrame(rows, columns=('token', 'bin', 'delta', 'score'))"
   ]
  },
  {
   "cell_type": "markdown",
   "metadata": {},
   "source": [
    "# 5 bins"
   ]
  },
  {
   "cell_type": "code",
   "execution_count": 90,
   "metadata": {},
   "outputs": [
    {
     "name": "stdout",
     "output_type": "stream",
     "text": [
      "a film young story an is in who of named plot opens lives small school years revolves war living college\n",
      "meets a who named local meet friend soon becomes next day initially night befriends job agrees her daughter attracted training\n",
      "to that meanwhile they but 's she him her when becomes he help soon them find discovers next tries so\n",
      "to that him but and kill she 's tries out realizes he then the confronts back them escape finally reveals\n",
      "ends the end and final finally cite film credits web scene last movie back all shoots ending then reunited as\n"
     ]
    }
   ],
   "source": [
    "for bi in range(bin_counts.shape[1]):\n",
    "    bdf = df[(df.bin==bi) & (df.delta>0)].sort_values('score', ascending=False)\n",
    "    print(' '.join(bdf.head(20).token))"
   ]
  },
  {
   "cell_type": "markdown",
   "metadata": {},
   "source": [
    "# 10 bins"
   ]
  },
  {
   "cell_type": "code",
   "execution_count": 95,
   "metadata": {},
   "outputs": [
    {
     "name": "stdout",
     "output_type": "stream",
     "text": [
      "a film story young is in plot an opens of set revolves lives named who small movie war living american\n",
      "a who named his an friend young years local meets school of daughter job called day work college family woman\n",
      "a meets named who local job daughter an friend initially school meet his day first some hires befriends next strange\n",
      "meets becomes soon to they her she training night next local meet meanwhile day when investigate friend agrees impressed pay\n",
      "to that meanwhile they 's soon when becomes next she her find but later help night discover he increasingly steal\n",
      "to that but she him meanwhile 's they her when he them finds tries becomes help so discovers out room\n",
      "to that 's but him she them her and tries he plan out kill finds not then confronts when however\n",
      "to him and that but kill the finally realizes fight out back she gun tries escape then reveals truth he\n",
      "the finally and him kill then shoots final back end but gun save fight to kills realizes last fire manages\n",
      "ends cite film end web credits the final movie and scene finally happily ending last reunited you together i as\n"
     ]
    }
   ],
   "source": [
    "for bi in range(bin_counts.shape[1]):\n",
    "    bdf = df[(df.bin==bi) & (df.delta>0)].sort_values('score', ascending=False)\n",
    "    print(' '.join(bdf.head(20).token))"
   ]
  },
  {
   "cell_type": "code",
   "execution_count": null,
   "metadata": {},
   "outputs": [],
   "source": []
  }
 ],
 "metadata": {
  "kernelspec": {
   "display_name": "Python 3",
   "language": "python",
   "name": "python3"
  },
  "language_info": {
   "codemirror_mode": {
    "name": "ipython",
    "version": 3
   },
   "file_extension": ".py",
   "mimetype": "text/x-python",
   "name": "python",
   "nbconvert_exporter": "python",
   "pygments_lexer": "ipython3",
   "version": "3.6.5"
  }
 },
 "nbformat": 4,
 "nbformat_minor": 2
}
