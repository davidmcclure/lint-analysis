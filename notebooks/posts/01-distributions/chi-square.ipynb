{
 "cells": [
  {
   "cell_type": "markdown",
   "metadata": {},
   "source": [
    "# Chi-square"
   ]
  },
  {
   "cell_type": "code",
   "execution_count": 1,
   "metadata": {
    "collapsed": true
   },
   "outputs": [],
   "source": [
    "import matplotlib as mpl\n",
    "import matplotlib.pyplot as plt\n",
    "\n",
    "%matplotlib inline\n",
    "mpl.style.use('bmh')"
   ]
  },
  {
   "cell_type": "code",
   "execution_count": 2,
   "metadata": {
    "collapsed": true
   },
   "outputs": [],
   "source": [
    "import numpy as np"
   ]
  },
  {
   "cell_type": "code",
   "execution_count": 3,
   "metadata": {
    "collapsed": true
   },
   "outputs": [],
   "source": [
    "from lint_analysis.bin_counts import cache"
   ]
  },
  {
   "cell_type": "code",
   "execution_count": 65,
   "metadata": {
    "collapsed": true
   },
   "outputs": [],
   "source": [
    "def plot_series(token, title=None):\n",
    "    \n",
    "    series = cache.token_series(token)\n",
    "    \n",
    "    plt.figure(figsize=(10, 5))\n",
    "\n",
    "    plt.title(title or '\"{}\"'.format(token))\n",
    "    plt.xlabel('Narrative time')\n",
    "    plt.ylabel('Word count')\n",
    "    \n",
    "    plt.hist(\n",
    "        np.arange(len(series)),\n",
    "        bins=len(series),\n",
    "        weights=series,\n",
    "        edgecolor='black',\n",
    "        zorder=3,\n",
    "    )\n",
    "    \n",
    "    plt.show()"
   ]
  },
  {
   "cell_type": "code",
   "execution_count": 66,
   "metadata": {},
   "outputs": [
    {
     "data": {
      "image/png": "[encoded data removed]",
      "text/plain": [
       "<matplotlib.figure.Figure at 0x10f110dd8>"
      ]
     },
     "metadata": {},
     "output_type": "display_data"
    }
   ],
   "source": [
    "plot_series('irony')"
   ]
  },
  {
   "cell_type": "code",
   "execution_count": 48,
   "metadata": {
    "collapsed": true
   },
   "outputs": [],
   "source": [
    "from scipy import stats\n",
    "\n",
    "def series_chisquare(series):\n",
    "    expected = np.full(len(series), series.sum() / len(series))\n",
    "    return stats.chisquare(series, expected)"
   ]
  },
  {
   "cell_type": "code",
   "execution_count": 49,
   "metadata": {
    "collapsed": true
   },
   "outputs": [],
   "source": [
    "tokens = cache.token_counts(10000)"
   ]
  },
  {
   "cell_type": "code",
   "execution_count": 50,
   "metadata": {},
   "outputs": [
    {
     "name": "stdout",
     "output_type": "stream",
     "text": [
      "0\n",
      "1000\n",
      "2000\n",
      "3000\n",
      "4000\n",
      "5000\n",
      "6000\n",
      "7000\n",
      "8000\n",
      "9000\n",
      "10000\n"
     ]
    }
   ],
   "source": [
    "data = []\n",
    "for i, (token, count) in enumerate(tokens.items()):\n",
    "    chi, p = series_chisquare(cache.token_series(token))\n",
    "    data.append((count, chi, p))\n",
    "    if i%1000 == 0: print(i)"
   ]
  },
  {
   "cell_type": "code",
   "execution_count": 51,
   "metadata": {
    "collapsed": true
   },
   "outputs": [],
   "source": [
    "import pandas as pd\n",
    "\n",
    "df = pd.DataFrame(\n",
    "    data,\n",
    "    columns=('count', 'chi', 'p'),\n",
    "    index=tokens.keys(),\n",
    ")"
   ]
  },
  {
   "cell_type": "code",
   "execution_count": 52,
   "metadata": {
    "scrolled": false
   },
   "outputs": [
    {
     "data": {
      "text/html": [
       "<div>\n",
       "<style>\n",
       "    .dataframe thead tr:only-child th {\n",
       "        text-align: right;\n",
       "    }\n",
       "\n",
       "    .dataframe thead th {\n",
       "        text-align: left;\n",
       "    }\n",
       "\n",
       "    .dataframe tbody tr th {\n",
       "        vertical-align: top;\n",
       "    }\n",
       "</style>\n",
       "<table border=\"1\" class=\"dataframe\">\n",
       "  <thead>\n",
       "    <tr style=\"text-align: right;\">\n",
       "      <th></th>\n",
       "      <th>count</th>\n",
       "      <th>chi</th>\n",
       "      <th>p</th>\n",
       "    </tr>\n",
       "  </thead>\n",
       "  <tbody>\n",
       "    <tr>\n",
       "      <th>chapter</th>\n",
       "      <td>452057</td>\n",
       "      <td>136700.921457</td>\n",
       "      <td>0.0</td>\n",
       "    </tr>\n",
       "    <tr>\n",
       "      <th>”</th>\n",
       "      <td>34933931</td>\n",
       "      <td>101300.818804</td>\n",
       "      <td>0.0</td>\n",
       "    </tr>\n",
       "    <tr>\n",
       "      <th>you</th>\n",
       "      <td>20487595</td>\n",
       "      <td>96863.255295</td>\n",
       "      <td>0.0</td>\n",
       "    </tr>\n",
       "    <tr>\n",
       "      <th>a</th>\n",
       "      <td>44510387</td>\n",
       "      <td>83315.424513</td>\n",
       "      <td>0.0</td>\n",
       "    </tr>\n",
       "    <tr>\n",
       "      <th>of</th>\n",
       "      <td>50833243</td>\n",
       "      <td>81168.949273</td>\n",
       "      <td>0.0</td>\n",
       "    </tr>\n",
       "    <tr>\n",
       "      <th>the</th>\n",
       "      <td>111130017</td>\n",
       "      <td>78820.650937</td>\n",
       "      <td>0.0</td>\n",
       "    </tr>\n",
       "    <tr>\n",
       "      <th>i</th>\n",
       "      <td>32574587</td>\n",
       "      <td>76599.976262</td>\n",
       "      <td>0.0</td>\n",
       "    </tr>\n",
       "    <tr>\n",
       "      <th>i.</th>\n",
       "      <td>95391</td>\n",
       "      <td>69649.772190</td>\n",
       "      <td>0.0</td>\n",
       "    </tr>\n",
       "    <tr>\n",
       "      <th>.</th>\n",
       "      <td>115472128</td>\n",
       "      <td>56904.238443</td>\n",
       "      <td>0.0</td>\n",
       "    </tr>\n",
       "    <tr>\n",
       "      <th>?</th>\n",
       "      <td>12766593</td>\n",
       "      <td>50347.668391</td>\n",
       "      <td>0.0</td>\n",
       "    </tr>\n",
       "    <tr>\n",
       "      <th>“</th>\n",
       "      <td>16921467</td>\n",
       "      <td>49126.156959</td>\n",
       "      <td>0.0</td>\n",
       "    </tr>\n",
       "    <tr>\n",
       "      <th>years</th>\n",
       "      <td>1147028</td>\n",
       "      <td>44230.570497</td>\n",
       "      <td>0.0</td>\n",
       "    </tr>\n",
       "    <tr>\n",
       "      <th>ii</th>\n",
       "      <td>51677</td>\n",
       "      <td>38820.534687</td>\n",
       "      <td>0.0</td>\n",
       "    </tr>\n",
       "    <tr>\n",
       "      <th>!</th>\n",
       "      <td>8067238</td>\n",
       "      <td>37252.637539</td>\n",
       "      <td>0.0</td>\n",
       "    </tr>\n",
       "    <tr>\n",
       "      <th>me</th>\n",
       "      <td>8542994</td>\n",
       "      <td>36727.958274</td>\n",
       "      <td>0.0</td>\n",
       "    </tr>\n",
       "    <tr>\n",
       "      <th>said</th>\n",
       "      <td>9326563</td>\n",
       "      <td>36123.976682</td>\n",
       "      <td>0.0</td>\n",
       "    </tr>\n",
       "    <tr>\n",
       "      <th>iii</th>\n",
       "      <td>30853</td>\n",
       "      <td>32281.414806</td>\n",
       "      <td>0.0</td>\n",
       "    </tr>\n",
       "    <tr>\n",
       "      <th>him</th>\n",
       "      <td>10323010</td>\n",
       "      <td>31173.508105</td>\n",
       "      <td>0.0</td>\n",
       "    </tr>\n",
       "    <tr>\n",
       "      <th>young</th>\n",
       "      <td>1518368</td>\n",
       "      <td>31014.265564</td>\n",
       "      <td>0.0</td>\n",
       "    </tr>\n",
       "    <tr>\n",
       "      <th>2</th>\n",
       "      <td>47991</td>\n",
       "      <td>28894.393095</td>\n",
       "      <td>0.0</td>\n",
       "    </tr>\n",
       "    <tr>\n",
       "      <th>she</th>\n",
       "      <td>18306874</td>\n",
       "      <td>28798.351063</td>\n",
       "      <td>0.0</td>\n",
       "    </tr>\n",
       "    <tr>\n",
       "      <th>3</th>\n",
       "      <td>44941</td>\n",
       "      <td>27762.858392</td>\n",
       "      <td>0.0</td>\n",
       "    </tr>\n",
       "    <tr>\n",
       "      <th>love</th>\n",
       "      <td>1322105</td>\n",
       "      <td>27288.356730</td>\n",
       "      <td>0.0</td>\n",
       "    </tr>\n",
       "    <tr>\n",
       "      <th>he</th>\n",
       "      <td>29859434</td>\n",
       "      <td>26266.613093</td>\n",
       "      <td>0.0</td>\n",
       "    </tr>\n",
       "    <tr>\n",
       "      <th>\"</th>\n",
       "      <td>7698196</td>\n",
       "      <td>24006.768493</td>\n",
       "      <td>0.0</td>\n",
       "    </tr>\n",
       "    <tr>\n",
       "      <th>to</th>\n",
       "      <td>53624686</td>\n",
       "      <td>23025.307113</td>\n",
       "      <td>0.0</td>\n",
       "    </tr>\n",
       "    <tr>\n",
       "      <th>will</th>\n",
       "      <td>4290751</td>\n",
       "      <td>21974.232739</td>\n",
       "      <td>0.0</td>\n",
       "    </tr>\n",
       "    <tr>\n",
       "      <th>its</th>\n",
       "      <td>2152779</td>\n",
       "      <td>21944.302717</td>\n",
       "      <td>0.0</td>\n",
       "    </tr>\n",
       "    <tr>\n",
       "      <th>school</th>\n",
       "      <td>331768</td>\n",
       "      <td>20848.080514</td>\n",
       "      <td>0.0</td>\n",
       "    </tr>\n",
       "    <tr>\n",
       "      <th>do</th>\n",
       "      <td>4976691</td>\n",
       "      <td>19448.589197</td>\n",
       "      <td>0.0</td>\n",
       "    </tr>\n",
       "    <tr>\n",
       "      <th>project</th>\n",
       "      <td>41135</td>\n",
       "      <td>18878.455695</td>\n",
       "      <td>0.0</td>\n",
       "    </tr>\n",
       "    <tr>\n",
       "      <th>father</th>\n",
       "      <td>1307154</td>\n",
       "      <td>18093.712205</td>\n",
       "      <td>0.0</td>\n",
       "    </tr>\n",
       "    <tr>\n",
       "      <th>mother</th>\n",
       "      <td>1238664</td>\n",
       "      <td>17783.798273</td>\n",
       "      <td>0.0</td>\n",
       "    </tr>\n",
       "    <tr>\n",
       "      <th>what</th>\n",
       "      <td>6170396</td>\n",
       "      <td>17723.913924</td>\n",
       "      <td>0.0</td>\n",
       "    </tr>\n",
       "    <tr>\n",
       "      <th>and</th>\n",
       "      <td>60309506</td>\n",
       "      <td>17646.084857</td>\n",
       "      <td>0.0</td>\n",
       "    </tr>\n",
       "    <tr>\n",
       "      <th>hair</th>\n",
       "      <td>611955</td>\n",
       "      <td>17515.120352</td>\n",
       "      <td>0.0</td>\n",
       "    </tr>\n",
       "    <tr>\n",
       "      <th>age</th>\n",
       "      <td>279571</td>\n",
       "      <td>17148.947706</td>\n",
       "      <td>0.0</td>\n",
       "    </tr>\n",
       "    <tr>\n",
       "      <th>death</th>\n",
       "      <td>593893</td>\n",
       "      <td>16925.196039</td>\n",
       "      <td>0.0</td>\n",
       "    </tr>\n",
       "    <tr>\n",
       "      <th>author</th>\n",
       "      <td>38349</td>\n",
       "      <td>16535.020444</td>\n",
       "      <td>0.0</td>\n",
       "    </tr>\n",
       "    <tr>\n",
       "      <th>tall</th>\n",
       "      <td>228678</td>\n",
       "      <td>15952.315990</td>\n",
       "      <td>0.0</td>\n",
       "    </tr>\n",
       "    <tr>\n",
       "      <th>)</th>\n",
       "      <td>606649</td>\n",
       "      <td>15880.228104</td>\n",
       "      <td>0.0</td>\n",
       "    </tr>\n",
       "    <tr>\n",
       "      <th>have</th>\n",
       "      <td>9362264</td>\n",
       "      <td>15810.166291</td>\n",
       "      <td>0.0</td>\n",
       "    </tr>\n",
       "    <tr>\n",
       "      <th>god</th>\n",
       "      <td>793283</td>\n",
       "      <td>15751.091365</td>\n",
       "      <td>0.0</td>\n",
       "    </tr>\n",
       "    <tr>\n",
       "      <th>published</th>\n",
       "      <td>24443</td>\n",
       "      <td>15195.117252</td>\n",
       "      <td>0.0</td>\n",
       "    </tr>\n",
       "    <tr>\n",
       "      <th>(</th>\n",
       "      <td>622727</td>\n",
       "      <td>15101.498042</td>\n",
       "      <td>0.0</td>\n",
       "    </tr>\n",
       "    <tr>\n",
       "      <th>year</th>\n",
       "      <td>429183</td>\n",
       "      <td>14868.051649</td>\n",
       "      <td>0.0</td>\n",
       "    </tr>\n",
       "    <tr>\n",
       "      <th>,</th>\n",
       "      <td>147372390</td>\n",
       "      <td>14865.640654</td>\n",
       "      <td>0.0</td>\n",
       "    </tr>\n",
       "    <tr>\n",
       "      <th>life</th>\n",
       "      <td>1734013</td>\n",
       "      <td>14793.002319</td>\n",
       "      <td>0.0</td>\n",
       "    </tr>\n",
       "    <tr>\n",
       "      <th>iv.</th>\n",
       "      <td>13733</td>\n",
       "      <td>14470.298624</td>\n",
       "      <td>0.0</td>\n",
       "    </tr>\n",
       "    <tr>\n",
       "      <th>happy</th>\n",
       "      <td>472430</td>\n",
       "      <td>14119.693711</td>\n",
       "      <td>0.0</td>\n",
       "    </tr>\n",
       "    <tr>\n",
       "      <th>now</th>\n",
       "      <td>4053836</td>\n",
       "      <td>13971.772342</td>\n",
       "      <td>0.0</td>\n",
       "    </tr>\n",
       "    <tr>\n",
       "      <th>that</th>\n",
       "      <td>24142406</td>\n",
       "      <td>13838.079749</td>\n",
       "      <td>0.0</td>\n",
       "    </tr>\n",
       "    <tr>\n",
       "      <th>it</th>\n",
       "      <td>23079990</td>\n",
       "      <td>13703.906756</td>\n",
       "      <td>0.0</td>\n",
       "    </tr>\n",
       "    <tr>\n",
       "      <th>not</th>\n",
       "      <td>11619960</td>\n",
       "      <td>13392.373881</td>\n",
       "      <td>0.0</td>\n",
       "    </tr>\n",
       "    <tr>\n",
       "      <th>know</th>\n",
       "      <td>3726770</td>\n",
       "      <td>13389.645645</td>\n",
       "      <td>0.0</td>\n",
       "    </tr>\n",
       "    <tr>\n",
       "      <th>we</th>\n",
       "      <td>5404398</td>\n",
       "      <td>13274.445812</td>\n",
       "      <td>0.0</td>\n",
       "    </tr>\n",
       "    <tr>\n",
       "      <th>your</th>\n",
       "      <td>4319424</td>\n",
       "      <td>13158.096409</td>\n",
       "      <td>0.0</td>\n",
       "    </tr>\n",
       "    <tr>\n",
       "      <th>happiness</th>\n",
       "      <td>184152</td>\n",
       "      <td>13104.484860</td>\n",
       "      <td>0.0</td>\n",
       "    </tr>\n",
       "    <tr>\n",
       "      <th>in</th>\n",
       "      <td>30801843</td>\n",
       "      <td>13029.628073</td>\n",
       "      <td>0.0</td>\n",
       "    </tr>\n",
       "    <tr>\n",
       "      <th>an</th>\n",
       "      <td>5331677</td>\n",
       "      <td>12816.160688</td>\n",
       "      <td>0.0</td>\n",
       "    </tr>\n",
       "    <tr>\n",
       "      <th>dead</th>\n",
       "      <td>605208</td>\n",
       "      <td>12701.290029</td>\n",
       "      <td>0.0</td>\n",
       "    </tr>\n",
       "    <tr>\n",
       "      <th>old</th>\n",
       "      <td>2403424</td>\n",
       "      <td>12656.175533</td>\n",
       "      <td>0.0</td>\n",
       "    </tr>\n",
       "    <tr>\n",
       "      <th>joy</th>\n",
       "      <td>219385</td>\n",
       "      <td>12601.901110</td>\n",
       "      <td>0.0</td>\n",
       "    </tr>\n",
       "    <tr>\n",
       "      <th>or</th>\n",
       "      <td>4940391</td>\n",
       "      <td>12578.100077</td>\n",
       "      <td>0.0</td>\n",
       "    </tr>\n",
       "    <tr>\n",
       "      <th>think</th>\n",
       "      <td>2371521</td>\n",
       "      <td>12148.057495</td>\n",
       "      <td>0.0</td>\n",
       "    </tr>\n",
       "    <tr>\n",
       "      <th>her</th>\n",
       "      <td>20385501</td>\n",
       "      <td>12137.645697</td>\n",
       "      <td>0.0</td>\n",
       "    </tr>\n",
       "    <tr>\n",
       "      <th>boy</th>\n",
       "      <td>727930</td>\n",
       "      <td>12019.335513</td>\n",
       "      <td>0.0</td>\n",
       "    </tr>\n",
       "    <tr>\n",
       "      <th>5</th>\n",
       "      <td>43930</td>\n",
       "      <td>12004.727976</td>\n",
       "      <td>0.0</td>\n",
       "    </tr>\n",
       "    <tr>\n",
       "      <th>if</th>\n",
       "      <td>5894084</td>\n",
       "      <td>11885.998765</td>\n",
       "      <td>0.0</td>\n",
       "    </tr>\n",
       "    <tr>\n",
       "      <th>wedding</th>\n",
       "      <td>93969</td>\n",
       "      <td>11878.580585</td>\n",
       "      <td>0.0</td>\n",
       "    </tr>\n",
       "    <tr>\n",
       "      <th>edition</th>\n",
       "      <td>11780</td>\n",
       "      <td>11786.536503</td>\n",
       "      <td>0.0</td>\n",
       "    </tr>\n",
       "    <tr>\n",
       "      <th>family</th>\n",
       "      <td>564549</td>\n",
       "      <td>11496.078284</td>\n",
       "      <td>0.0</td>\n",
       "    </tr>\n",
       "    <tr>\n",
       "      <th>vii</th>\n",
       "      <td>16609</td>\n",
       "      <td>11474.864170</td>\n",
       "      <td>0.0</td>\n",
       "    </tr>\n",
       "    <tr>\n",
       "      <th>6</th>\n",
       "      <td>31206</td>\n",
       "      <td>11413.073255</td>\n",
       "      <td>0.0</td>\n",
       "    </tr>\n",
       "    <tr>\n",
       "      <th>blue</th>\n",
       "      <td>410715</td>\n",
       "      <td>11384.019758</td>\n",
       "      <td>0.0</td>\n",
       "    </tr>\n",
       "    <tr>\n",
       "      <th>don’t</th>\n",
       "      <td>2264757</td>\n",
       "      <td>11298.672242</td>\n",
       "      <td>0.0</td>\n",
       "    </tr>\n",
       "    <tr>\n",
       "      <th>again</th>\n",
       "      <td>2178117</td>\n",
       "      <td>11210.625421</td>\n",
       "      <td>0.0</td>\n",
       "    </tr>\n",
       "    <tr>\n",
       "      <th>small</th>\n",
       "      <td>765802</td>\n",
       "      <td>10902.981183</td>\n",
       "      <td>0.0</td>\n",
       "    </tr>\n",
       "    <tr>\n",
       "      <th>which</th>\n",
       "      <td>5188181</td>\n",
       "      <td>10720.740996</td>\n",
       "      <td>0.0</td>\n",
       "    </tr>\n",
       "    <tr>\n",
       "      <th>college</th>\n",
       "      <td>120630</td>\n",
       "      <td>10582.230788</td>\n",
       "      <td>0.0</td>\n",
       "    </tr>\n",
       "    <tr>\n",
       "      <th>viii</th>\n",
       "      <td>17228</td>\n",
       "      <td>10471.210587</td>\n",
       "      <td>0.0</td>\n",
       "    </tr>\n",
       "    <tr>\n",
       "      <th>new</th>\n",
       "      <td>1375035</td>\n",
       "      <td>10448.476639</td>\n",
       "      <td>0.0</td>\n",
       "    </tr>\n",
       "    <tr>\n",
       "      <th>heart</th>\n",
       "      <td>1176699</td>\n",
       "      <td>10402.830715</td>\n",
       "      <td>0.0</td>\n",
       "    </tr>\n",
       "    <tr>\n",
       "      <th>large</th>\n",
       "      <td>489895</td>\n",
       "      <td>10374.106033</td>\n",
       "      <td>0.0</td>\n",
       "    </tr>\n",
       "    <tr>\n",
       "      <th>brown</th>\n",
       "      <td>272042</td>\n",
       "      <td>10324.460326</td>\n",
       "      <td>0.0</td>\n",
       "    </tr>\n",
       "    <tr>\n",
       "      <th>did</th>\n",
       "      <td>4906368</td>\n",
       "      <td>10301.055847</td>\n",
       "      <td>0.0</td>\n",
       "    </tr>\n",
       "    <tr>\n",
       "      <th>told</th>\n",
       "      <td>1422935</td>\n",
       "      <td>10091.383145</td>\n",
       "      <td>0.0</td>\n",
       "    </tr>\n",
       "    <tr>\n",
       "      <th>girls</th>\n",
       "      <td>312380</td>\n",
       "      <td>9911.801652</td>\n",
       "      <td>0.0</td>\n",
       "    </tr>\n",
       "    <tr>\n",
       "      <th>gun</th>\n",
       "      <td>174286</td>\n",
       "      <td>9881.088579</td>\n",
       "      <td>0.0</td>\n",
       "    </tr>\n",
       "    <tr>\n",
       "      <th>’</th>\n",
       "      <td>3131930</td>\n",
       "      <td>9768.981139</td>\n",
       "      <td>0.0</td>\n",
       "    </tr>\n",
       "    <tr>\n",
       "      <th>arms</th>\n",
       "      <td>565155</td>\n",
       "      <td>9756.103149</td>\n",
       "      <td>0.0</td>\n",
       "    </tr>\n",
       "    <tr>\n",
       "      <th>|</th>\n",
       "      <td>17968</td>\n",
       "      <td>9752.714604</td>\n",
       "      <td>0.0</td>\n",
       "    </tr>\n",
       "    <tr>\n",
       "      <th>9</th>\n",
       "      <td>38211</td>\n",
       "      <td>9684.765617</td>\n",
       "      <td>0.0</td>\n",
       "    </tr>\n",
       "    <tr>\n",
       "      <th>girl</th>\n",
       "      <td>1049402</td>\n",
       "      <td>9436.564058</td>\n",
       "      <td>0.0</td>\n",
       "    </tr>\n",
       "    <tr>\n",
       "      <th>would</th>\n",
       "      <td>6920702</td>\n",
       "      <td>9430.414053</td>\n",
       "      <td>0.0</td>\n",
       "    </tr>\n",
       "    <tr>\n",
       "      <th>could</th>\n",
       "      <td>5294463</td>\n",
       "      <td>9387.027642</td>\n",
       "      <td>0.0</td>\n",
       "    </tr>\n",
       "    <tr>\n",
       "      <th>miss</th>\n",
       "      <td>1145592</td>\n",
       "      <td>9375.538356</td>\n",
       "      <td>0.0</td>\n",
       "    </tr>\n",
       "    <tr>\n",
       "      <th>tell</th>\n",
       "      <td>1658128</td>\n",
       "      <td>9355.292725</td>\n",
       "      <td>0.0</td>\n",
       "    </tr>\n",
       "    <tr>\n",
       "      <th>ix</th>\n",
       "      <td>19242</td>\n",
       "      <td>9317.827461</td>\n",
       "      <td>0.0</td>\n",
       "    </tr>\n",
       "    <tr>\n",
       "      <th>loved</th>\n",
       "      <td>375815</td>\n",
       "      <td>9203.365153</td>\n",
       "      <td>0.0</td>\n",
       "    </tr>\n",
       "  </tbody>\n",
       "</table>\n",
       "</div>"
      ],
      "text/plain": [
       "               count            chi    p\n",
       "chapter       452057  136700.921457  0.0\n",
       "”           34933931  101300.818804  0.0\n",
       "you         20487595   96863.255295  0.0\n",
       "a           44510387   83315.424513  0.0\n",
       "of          50833243   81168.949273  0.0\n",
       "the        111130017   78820.650937  0.0\n",
       "i           32574587   76599.976262  0.0\n",
       "i.             95391   69649.772190  0.0\n",
       ".          115472128   56904.238443  0.0\n",
       "?           12766593   50347.668391  0.0\n",
       "“           16921467   49126.156959  0.0\n",
       "years        1147028   44230.570497  0.0\n",
       "ii             51677   38820.534687  0.0\n",
       "!            8067238   37252.637539  0.0\n",
       "me           8542994   36727.958274  0.0\n",
       "said         9326563   36123.976682  0.0\n",
       "iii            30853   32281.414806  0.0\n",
       "him         10323010   31173.508105  0.0\n",
       "young        1518368   31014.265564  0.0\n",
       "2              47991   28894.393095  0.0\n",
       "she         18306874   28798.351063  0.0\n",
       "3              44941   27762.858392  0.0\n",
       "love         1322105   27288.356730  0.0\n",
       "he          29859434   26266.613093  0.0\n",
       "\"            7698196   24006.768493  0.0\n",
       "to          53624686   23025.307113  0.0\n",
       "will         4290751   21974.232739  0.0\n",
       "its          2152779   21944.302717  0.0\n",
       "school        331768   20848.080514  0.0\n",
       "do           4976691   19448.589197  0.0\n",
       "project        41135   18878.455695  0.0\n",
       "father       1307154   18093.712205  0.0\n",
       "mother       1238664   17783.798273  0.0\n",
       "what         6170396   17723.913924  0.0\n",
       "and         60309506   17646.084857  0.0\n",
       "hair          611955   17515.120352  0.0\n",
       "age           279571   17148.947706  0.0\n",
       "death         593893   16925.196039  0.0\n",
       "author         38349   16535.020444  0.0\n",
       "tall          228678   15952.315990  0.0\n",
       ")             606649   15880.228104  0.0\n",
       "have         9362264   15810.166291  0.0\n",
       "god           793283   15751.091365  0.0\n",
       "published      24443   15195.117252  0.0\n",
       "(             622727   15101.498042  0.0\n",
       "year          429183   14868.051649  0.0\n",
       ",          147372390   14865.640654  0.0\n",
       "life         1734013   14793.002319  0.0\n",
       "iv.            13733   14470.298624  0.0\n",
       "happy         472430   14119.693711  0.0\n",
       "now          4053836   13971.772342  0.0\n",
       "that        24142406   13838.079749  0.0\n",
       "it          23079990   13703.906756  0.0\n",
       "not         11619960   13392.373881  0.0\n",
       "know         3726770   13389.645645  0.0\n",
       "we           5404398   13274.445812  0.0\n",
       "your         4319424   13158.096409  0.0\n",
       "happiness     184152   13104.484860  0.0\n",
       "in          30801843   13029.628073  0.0\n",
       "an           5331677   12816.160688  0.0\n",
       "dead          605208   12701.290029  0.0\n",
       "old          2403424   12656.175533  0.0\n",
       "joy           219385   12601.901110  0.0\n",
       "or           4940391   12578.100077  0.0\n",
       "think        2371521   12148.057495  0.0\n",
       "her         20385501   12137.645697  0.0\n",
       "boy           727930   12019.335513  0.0\n",
       "5              43930   12004.727976  0.0\n",
       "if           5894084   11885.998765  0.0\n",
       "wedding        93969   11878.580585  0.0\n",
       "edition        11780   11786.536503  0.0\n",
       "family        564549   11496.078284  0.0\n",
       "vii            16609   11474.864170  0.0\n",
       "6              31206   11413.073255  0.0\n",
       "blue          410715   11384.019758  0.0\n",
       "don’t        2264757   11298.672242  0.0\n",
       "again        2178117   11210.625421  0.0\n",
       "small         765802   10902.981183  0.0\n",
       "which        5188181   10720.740996  0.0\n",
       "college       120630   10582.230788  0.0\n",
       "viii           17228   10471.210587  0.0\n",
       "new          1375035   10448.476639  0.0\n",
       "heart        1176699   10402.830715  0.0\n",
       "large         489895   10374.106033  0.0\n",
       "brown         272042   10324.460326  0.0\n",
       "did          4906368   10301.055847  0.0\n",
       "told         1422935   10091.383145  0.0\n",
       "girls         312380    9911.801652  0.0\n",
       "gun           174286    9881.088579  0.0\n",
       "’            3131930    9768.981139  0.0\n",
       "arms          565155    9756.103149  0.0\n",
       "|              17968    9752.714604  0.0\n",
       "9              38211    9684.765617  0.0\n",
       "girl         1049402    9436.564058  0.0\n",
       "would        6920702    9430.414053  0.0\n",
       "could        5294463    9387.027642  0.0\n",
       "miss         1145592    9375.538356  0.0\n",
       "tell         1658128    9355.292725  0.0\n",
       "ix             19242    9317.827461  0.0\n",
       "loved         375815    9203.365153  0.0"
      ]
     },
     "execution_count": 52,
     "metadata": {},
     "output_type": "execute_result"
    }
   ],
   "source": [
    "pd.set_option('display.max_rows', 1000)\n",
    "\n",
    "df.sort_values('chi', ascending=False).head(100)"
   ]
  },
  {
   "cell_type": "code",
   "execution_count": 53,
   "metadata": {},
   "outputs": [
    {
     "data": {
      "text/plain": [
       "count    593893.000000\n",
       "chi       16925.196039\n",
       "p             0.000000\n",
       "Name: death, dtype: float64"
      ]
     },
     "execution_count": 53,
     "metadata": {},
     "output_type": "execute_result"
    }
   ],
   "source": [
    "df.loc['death']"
   ]
  },
  {
   "cell_type": "code",
   "execution_count": 54,
   "metadata": {},
   "outputs": [
    {
     "data": {
      "text/plain": [
       "count     1.100700e+04\n",
       "chi       1.467053e+03\n",
       "p        3.147353e-242\n",
       "Name: athletic, dtype: float64"
      ]
     },
     "execution_count": 54,
     "metadata": {},
     "output_type": "execute_result"
    }
   ],
   "source": [
    "df.loc['athletic']"
   ]
  },
  {
   "cell_type": "code",
   "execution_count": 55,
   "metadata": {},
   "outputs": [
    {
     "data": {
      "text/plain": [
       "count    18712.000000\n",
       "chi         98.752458\n",
       "p            0.488112\n",
       "Name: irony, dtype: float64"
      ]
     },
     "execution_count": 55,
     "metadata": {},
     "output_type": "execute_result"
    }
   ],
   "source": [
    "df.loc['irony']"
   ]
  },
  {
   "cell_type": "code",
   "execution_count": 56,
   "metadata": {},
   "outputs": [
    {
     "data": {
      "text/plain": [
       "10908"
      ]
     },
     "execution_count": 56,
     "metadata": {},
     "output_type": "execute_result"
    }
   ],
   "source": [
    "len(df)"
   ]
  },
  {
   "cell_type": "code",
   "execution_count": 57,
   "metadata": {},
   "outputs": [
    {
     "data": {
      "text/plain": [
       "10513"
      ]
     },
     "execution_count": 57,
     "metadata": {},
     "output_type": "execute_result"
    }
   ],
   "source": [
    "len(df[df['p'] < 0.05])"
   ]
  },
  {
   "cell_type": "code",
   "execution_count": 58,
   "metadata": {},
   "outputs": [
    {
     "data": {
      "text/plain": [
       "0.9637880454712138"
      ]
     },
     "execution_count": 58,
     "metadata": {},
     "output_type": "execute_result"
    }
   ],
   "source": [
    "len(df[df['p'] < 0.05]) / len(df)"
   ]
  },
  {
   "cell_type": "code",
   "execution_count": 59,
   "metadata": {},
   "outputs": [
    {
     "data": {
      "text/plain": [
       "10227"
      ]
     },
     "execution_count": 59,
     "metadata": {},
     "output_type": "execute_result"
    }
   ],
   "source": [
    "len(df[df['p'] < 0.01])"
   ]
  },
  {
   "cell_type": "code",
   "execution_count": 60,
   "metadata": {},
   "outputs": [
    {
     "data": {
      "text/plain": [
       "0.9375687568756875"
      ]
     },
     "execution_count": 60,
     "metadata": {},
     "output_type": "execute_result"
    }
   ],
   "source": [
    "len(df[df['p'] < 0.01]) / len(df)"
   ]
  },
  {
   "cell_type": "code",
   "execution_count": 61,
   "metadata": {},
   "outputs": [
    {
     "data": {
      "text/plain": [
       "9815"
      ]
     },
     "execution_count": 61,
     "metadata": {},
     "output_type": "execute_result"
    }
   ],
   "source": [
    "len(df[df['p'] < 0.001])"
   ]
  },
  {
   "cell_type": "code",
   "execution_count": 62,
   "metadata": {},
   "outputs": [
    {
     "data": {
      "text/plain": [
       "0.8997983131646498"
      ]
     },
     "execution_count": 62,
     "metadata": {},
     "output_type": "execute_result"
    }
   ],
   "source": [
    "len(df[df['p'] < 0.001]) / len(df)"
   ]
  },
  {
   "cell_type": "code",
   "execution_count": 63,
   "metadata": {},
   "outputs": [
    {
     "data": {
      "text/plain": [
       "7830"
      ]
     },
     "execution_count": 63,
     "metadata": {},
     "output_type": "execute_result"
    }
   ],
   "source": [
    "len(df[df['p'] < 1e-10])"
   ]
  },
  {
   "cell_type": "code",
   "execution_count": 29,
   "metadata": {},
   "outputs": [
    {
     "data": {
      "text/plain": [
       "0.7178217821782178"
      ]
     },
     "execution_count": 29,
     "metadata": {},
     "output_type": "execute_result"
    }
   ],
   "source": [
    "len(df[df['p'] < 1e-10]) / len(df)"
   ]
  },
  {
   "cell_type": "code",
   "execution_count": 38,
   "metadata": {},
   "outputs": [
    {
     "data": {
      "image/png": "[encoded data removed]",
      "text/plain": [
       "<matplotlib.figure.Figure at 0x10f158080>"
      ]
     },
     "metadata": {},
     "output_type": "display_data"
    }
   ],
   "source": [
    "plot_series('god')"
   ]
  },
  {
   "cell_type": "code",
   "execution_count": null,
   "metadata": {
    "collapsed": true
   },
   "outputs": [],
   "source": []
  }
 ],
 "metadata": {
  "kernelspec": {
   "display_name": "Python 3",
   "language": "python",
   "name": "python3"
  },
  "language_info": {
   "codemirror_mode": {
    "name": "ipython",
    "version": 3
   },
   "file_extension": ".py",
   "mimetype": "text/x-python",
   "name": "python",
   "nbconvert_exporter": "python",
   "pygments_lexer": "ipython3",
   "version": "3.6.1"
  }
 },
 "nbformat": 4,
 "nbformat_minor": 2
}
