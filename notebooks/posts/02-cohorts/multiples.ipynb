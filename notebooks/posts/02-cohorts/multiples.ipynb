{
 "cells": [
  {
   "cell_type": "markdown",
   "metadata": {},
   "source": [
    "# Multiples"
   ]
  },
  {
   "cell_type": "code",
   "execution_count": 3,
   "metadata": {
    "collapsed": true
   },
   "outputs": [],
   "source": [
    "import matplotlib as mpl\n",
    "import matplotlib.pyplot as plt\n",
    "import matplotlib.ticker as ticker\n",
    "\n",
    "%matplotlib inline\n",
    "mpl.style.use('bmh')"
   ]
  },
  {
   "cell_type": "code",
   "execution_count": 6,
   "metadata": {
    "collapsed": true
   },
   "outputs": [],
   "source": [
    "from lint_analysis.bin_counts import cache"
   ]
  },
  {
   "cell_type": "code",
   "execution_count": 19,
   "metadata": {
    "collapsed": true
   },
   "outputs": [],
   "source": [
    "import numpy as np\n",
    "import math\n",
    "\n",
    "def multiples(tokens, cols=5):\n",
    "    \n",
    "    # Get row count and figure size.\n",
    "    rows = math.ceil(len(tokens) / cols)\n",
    "    \n",
    "    # Make the figure + axes.\n",
    "    plt.figure(figsize=(cols*2.5, rows*2.5))\n",
    "    \n",
    "    for i, token in enumerate(tokens):\n",
    "        \n",
    "        # Select the axis for the next plot.\n",
    "        ax = plt.subplot2grid((rows, cols), (math.floor(i/cols), i%cols))\n",
    "        \n",
    "        # Configure axes.\n",
    "        ax.set_title(token, fontsize=10)\n",
    "        ax.xaxis.set_major_locator(ticker.MultipleLocator(30))\n",
    "        ax.tick_params(labelsize=8)\n",
    "    \n",
    "        series = cache.token_series(token)\n",
    "\n",
    "        ax.hist(\n",
    "            np.arange(len(series)),\n",
    "            weights=series,\n",
    "            bins=len(series),\n",
    "            zorder=3,\n",
    "        )\n",
    "\n",
    "    plt.tight_layout(h_pad=1)\n",
    "    plt.show()"
   ]
  },
  {
   "cell_type": "code",
   "execution_count": 21,
   "metadata": {
    "scrolled": false
   },
   "outputs": [
    {
     "data": {
      "image/png": "[encoded data removed]",
      "text/plain": [
       "<matplotlib.figure.Figure at 0x10659c390>"
      ]
     },
     "metadata": {},
     "output_type": "display_data"
    },
    {
     "data": {
      "image/png": "[encoded data removed]",
      "text/plain": [
       "<matplotlib.figure.Figure at 0x106cc86d8>"
      ]
     },
     "metadata": {},
     "output_type": "display_data"
    }
   ],
   "source": [
    "multiples(['girls', 'eighteen'], cols=5)\n",
    "multiples(['manners', 'liked'], cols=5)"
   ]
  },
  {
   "cell_type": "code",
   "execution_count": null,
   "metadata": {
    "collapsed": true
   },
   "outputs": [],
   "source": []
  }
 ],
 "metadata": {
  "kernelspec": {
   "display_name": "Python 3",
   "language": "python",
   "name": "python3"
  },
  "language_info": {
   "codemirror_mode": {
    "name": "ipython",
    "version": 3
   },
   "file_extension": ".py",
   "mimetype": "text/x-python",
   "name": "python",
   "nbconvert_exporter": "python",
   "pygments_lexer": "ipython3",
   "version": "3.6.1"
  }
 },
 "nbformat": 4,
 "nbformat_minor": 2
}
