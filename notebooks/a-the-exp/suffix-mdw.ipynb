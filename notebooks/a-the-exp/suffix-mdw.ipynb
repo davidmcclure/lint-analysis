{
 "cells": [
  {
   "cell_type": "markdown",
   "metadata": {},
   "source": [
    "# A vs. the - next-word log-likelihood ratios"
   ]
  },
  {
   "cell_type": "markdown",
   "metadata": {},
   "source": [
    "- Count up which words come after \"a\" and \"the\" in the first and last 5% of novels. This gives 4 sets of counts - `a_beginning`, `a_end`, `the_beginning`, `the_end`.\n",
    "- Then, using Dunning's log-likelihood ratio, we can get words that follow a/the distinctively in one of these contexts. Eg, words that follow \"a\" distinctively in the first 5% relative to \"the.\""
   ]
  },
  {
   "cell_type": "code",
   "execution_count": 57,
   "metadata": {},
   "outputs": [],
   "source": [
    "import attr\n",
    "import os\n",
    "import ujson\n",
    "import bz2\n",
    "import random\n",
    "\n",
    "import pandas as pd\n",
    "\n",
    "from glob import glob\n",
    "from tqdm import tqdm\n",
    "from multiprocessing import Pool\n",
    "from itertools import islice\n",
    "from functools import partial\n",
    "from boltons.iterutils import pairwise\n",
    "from collections import Counter\n",
    "from scipy import stats\n",
    "\n",
    "from IPython.display import display, Markdown"
   ]
  },
  {
   "cell_type": "code",
   "execution_count": 2,
   "metadata": {},
   "outputs": [],
   "source": [
    "def zip_offset(seq):\n",
    "    \"\"\"Yield (item, 0-1 offset).\n",
    "    \"\"\"\n",
    "    size = len(seq)\n",
    "    for i, item in enumerate(seq):\n",
    "        offset = i / (size - 1) if (size - 1) else 0\n",
    "        yield item, offset"
   ]
  },
  {
   "cell_type": "code",
   "execution_count": 3,
   "metadata": {},
   "outputs": [],
   "source": [
    "def map_segment(func, path):\n",
    "    \"\"\"Parse JSON segment, apply worker function.\n",
    "    \"\"\"\n",
    "    results = []\n",
    "    \n",
    "    with bz2.open(path) as fh:\n",
    "        for line in fh:\n",
    "            results.append(func(ujson.loads(line)))\n",
    "            \n",
    "    return results"
   ]
  },
  {
   "cell_type": "code",
   "execution_count": 4,
   "metadata": {},
   "outputs": [],
   "source": [
    "@attr.s\n",
    "class Corpus:\n",
    "    \n",
    "    root = attr.ib()\n",
    "    \n",
    "    def paths(self):\n",
    "        return glob(os.path.join(self.root, '*.bz2'))\n",
    "                        \n",
    "    def map_novels(self, func, shuffle=True):\n",
    "        \"\"\"Apply a worker to segment files in parallel.\n",
    "        \"\"\"\n",
    "        paths = self.paths()\n",
    "        \n",
    "        if shuffle:\n",
    "            random.shuffle(paths)\n",
    "        \n",
    "        with Pool() as p:\n",
    "            \n",
    "            worker = partial(map_segment, func)\n",
    "            \n",
    "            for results in p.imap_unordered(worker, paths):\n",
    "                yield from results"
   ]
  },
  {
   "cell_type": "code",
   "execution_count": 5,
   "metadata": {},
   "outputs": [],
   "source": [
    "corpus = Corpus('../../data/chicago-bins-tokens.json/')"
   ]
  },
  {
   "cell_type": "code",
   "execution_count": 17,
   "metadata": {},
   "outputs": [],
   "source": [
    "def suffixes_worker(q, o1, o2, n):\n",
    "    results = []\n",
    "    \n",
    "    for (t1, t2), offset in zip_offset(pairwise(n['tokens'])):\n",
    "        if o1 < offset < o2 and t1.lower() == q:\n",
    "            results.append(t2.lower())\n",
    "    \n",
    "    return results"
   ]
  },
  {
   "cell_type": "code",
   "execution_count": 37,
   "metadata": {},
   "outputs": [],
   "source": [
    "def suffixes(q, o1, o2, num_novels=None):\n",
    "    worker = partial(suffixes_worker, q, o1, o2)\n",
    "    res_iter = islice(corpus.map_novels(worker), num_novels)\n",
    "    return Counter([m for ms in tqdm(res_iter) for m in ms])"
   ]
  },
  {
   "cell_type": "code",
   "execution_count": 38,
   "metadata": {},
   "outputs": [
    {
     "name": "stderr",
     "output_type": "stream",
     "text": [
      "6638it [03:50, 28.78it/s]\n"
     ]
    }
   ],
   "source": [
    "a0_ = suffixes('a', 0, 0.05)"
   ]
  },
  {
   "cell_type": "code",
   "execution_count": 40,
   "metadata": {},
   "outputs": [
    {
     "name": "stderr",
     "output_type": "stream",
     "text": [
      "6638it [03:46, 29.26it/s]\n"
     ]
    }
   ],
   "source": [
    "a1_ = suffixes('a', 0.95, 1)"
   ]
  },
  {
   "cell_type": "code",
   "execution_count": 41,
   "metadata": {},
   "outputs": [
    {
     "name": "stderr",
     "output_type": "stream",
     "text": [
      "6638it [03:50, 28.85it/s]\n"
     ]
    }
   ],
   "source": [
    "the0_ = suffixes('the', 0, 0.05)"
   ]
  },
  {
   "cell_type": "code",
   "execution_count": 42,
   "metadata": {},
   "outputs": [
    {
     "name": "stderr",
     "output_type": "stream",
     "text": [
      "6638it [03:44, 29.59it/s]\n"
     ]
    }
   ],
   "source": [
    "the1_ = suffixes('the', 0.95, 1)"
   ]
  },
  {
   "cell_type": "code",
   "execution_count": 65,
   "metadata": {},
   "outputs": [],
   "source": [
    "def mdw(fg, bg, min_count=100, n=50):\n",
    "\n",
    "    vocab = set.intersection(\n",
    "        {t for t, c in fg.items() if c > min_count},\n",
    "        {t for t, c in bg.items() if c > min_count},\n",
    "    )\n",
    "    \n",
    "    n_fg = sum(fg[t] for t in vocab)\n",
    "    n_bg = sum(bg[t] for t in vocab)\n",
    "    \n",
    "    rows = []\n",
    "    for t in vocab:\n",
    "        \n",
    "        p = (fg[t] + bg[t]) / (n_fg + n_bg)\n",
    "        \n",
    "        e_fg = n_fg * p\n",
    "        e_bg = n_bg * p\n",
    "        \n",
    "        if fg[t] > e_fg:\n",
    "\n",
    "            s, _ = stats.power_divergence(\n",
    "                [fg[t], bg[t]],\n",
    "                [e_fg, e_bg],\n",
    "                lambda_='log-likelihood',\n",
    "            )\n",
    "\n",
    "            rows.append((t, s))\n",
    "            \n",
    "    return pd.DataFrame(rows, columns=('token', 'dll'))"
   ]
  },
  {
   "cell_type": "markdown",
   "metadata": {},
   "source": [
    "# a > the (beginning)"
   ]
  },
  {
   "cell_type": "code",
   "execution_count": 76,
   "metadata": {},
   "outputs": [
    {
     "data": {
      "text/plain": [
       "'few little lot good bit moment couple long while hundred small dozen minute single large week pair half nice thousand year month piece different quick smile very short fine hand pretty bad drink deep chance series man quarter fool look sudden slight brief cigarette strange step child great special full new woman strong finger rather private mistake beautiful pleasant wonderful joke person loud big real note sense hint wave copy cup thin - mere simple thing sharp low huge lovely faint terrible handsome number part better row tall fresh damn complete tight curious breath vague visit happy professional slow flash'"
      ]
     },
     "execution_count": 76,
     "metadata": {},
     "output_type": "execute_result"
    }
   ],
   "source": [
    "' '.join(mdw(a0_, the0_).sort_values('dll', ascending=False).head(100).token)"
   ]
  },
  {
   "cell_type": "markdown",
   "metadata": {},
   "source": [
    "# the > a (beginning)"
   ]
  },
  {
   "cell_type": "code",
   "execution_count": 77,
   "metadata": {},
   "outputs": [
    {
     "data": {
      "text/plain": [
       "'first door last back world floor house rest front sun room two way water street most kitchen road one top people window sky morning wind table city middle right night river wall phone side left time car bed sea fact rain captain town king land police whole beach hell war gate building village doorway crowd desk three color sound smell station lord roof bar subject blood bedroom church hill thought far bridge light body head lake work country ship sight yard fire train company corner power park name store university future pain hospital deck corridor forest boy scene queen hotel'"
      ]
     },
     "execution_count": 77,
     "metadata": {},
     "output_type": "execute_result"
    }
   ],
   "source": [
    "' '.join(mdw(the0_, a0_).sort_values('dll', ascending=False).head(100).token)"
   ]
  },
  {
   "cell_type": "markdown",
   "metadata": {},
   "source": [
    "# a > the (end)"
   ]
  },
  {
   "cell_type": "code",
   "execution_count": 78,
   "metadata": {},
   "outputs": [
    {
     "data": {
      "text/plain": [
       "'few little lot moment good long while couple minute hundred small single week deep friend large half pair hand chance piece man sudden smile drink step very great quick short month year fine fool pretty new bad look strange mistake brief woman cigarette slight finger lie quarter wonderful terrible low child part better special loud sense dream beautiful big huge strong private damn - thing copy full joke breath cup kind simple stranger hero tight wave flash person word hard faint sharp slow thin lovely fresh miracle fair shot note break number kiss happy visit curious mere perfect clear gesture'"
      ]
     },
     "execution_count": 78,
     "metadata": {},
     "output_type": "execute_result"
    }
   ],
   "source": [
    "' '.join(mdw(a1_, the1_).sort_values('dll', ascending=False).head(100).token)"
   ]
  },
  {
   "cell_type": "markdown",
   "metadata": {},
   "source": [
    "# the > a (end)"
   ]
  },
  {
   "cell_type": "code",
   "execution_count": 79,
   "metadata": {},
   "outputs": [
    {
     "data": {
      "text/plain": [
       "'door first room house back last two rest world one front water road way sky people kitchen night top street window morning wind most police bed middle side table right city wall car river phone rain whole sea crowd pain doorway fact three hospital beach fire blood moon church hell head king hill power bridge building land desk light future time body sound wrong screen dark town sight law country gun lake judge bar couch village thought far ship garden hotel work yard queen truck war four forest smell boat radio face boy scene name blade universe bank stage company'"
      ]
     },
     "execution_count": 79,
     "metadata": {},
     "output_type": "execute_result"
    }
   ],
   "source": [
    "' '.join(mdw(the1_, a1_).sort_values('dll', ascending=False).head(100).token)"
   ]
  },
  {
   "cell_type": "markdown",
   "metadata": {},
   "source": [
    "# Notes\n",
    "\n",
    "- \"A\" is clearly used in the context of description - many of the distinctive a>the words are adjectives, whereas in the the>a lists, nouns.\n",
    "- Of the a>the adjectives, interesting that many of the most distinctive ones are quantifiers, markers of _degree_ - few, little, lot, bit, hundred, single, small, large.\n",
    "- \"A\" also associated with time, questions of when / how long - while, minute, week, year.\n",
    "- \"The,\" meanwhile, is clearly marking what might be thought of as \"physical rendering\" - descriptions of physical settings and spatial relationships. \"Sides\" of things - front, back, middle, side; and literal objects and locations - door, floor, house, room, street, kitchen, road, etc.\n",
    "- So basically, my gloss - \"a\" is description (and temporality?), \"the\" is physicality. At the beginning, both are common - things are getting introduced for the first time, the physical setting is getting established. Whereas, at the end, there's a return to the physical (away from the psychological / dialogic middle?), with \"the\" going back up; but, less need for \"a,\" since the world has already been described."
   ]
  },
  {
   "cell_type": "markdown",
   "metadata": {},
   "source": [
    "---\n",
    "Less useful - \"a\" (beginning) compared to \"a\" (end), vice versa, and \"the\" vs \"the.\" This basically just reproduces the overall frequency differences, though. (Murder at the end, etc.)"
   ]
  },
  {
   "cell_type": "code",
   "execution_count": 80,
   "metadata": {},
   "outputs": [
    {
     "data": {
      "text/plain": [
       "'year tall young large boy girl small well pair half handsome month student “ week two high narrow thin big town face lady white three city pleasant brown broad widow job name fat house four - slender six black decade blue thick private school beauty five habit natural day row gold summer square dollar first female wide successful country dark husband dozen constant century street teacher fine block pale local certain particularly slim genius frown model detective twenty slight famous delicate friendly slightly kid variety particular bar social shade middle cow quarter full vague land writer rather living rare desk'"
      ]
     },
     "execution_count": 80,
     "metadata": {},
     "output_type": "execute_result"
    }
   ],
   "source": [
    "' '.join(mdw(a0_, a1_).sort_values('dll', ascending=False).head(100).token)"
   ]
  },
  {
   "cell_type": "code",
   "execution_count": 81,
   "metadata": {},
   "outputs": [
    {
     "data": {
      "text/plain": [
       "'moment while long gun murderer minute chance step shot lie bullet terrible deal way hero last deep message lot hand letter little witness roar trap bitch voice dream final weapon sudden time nurse second kiss pistol fool part plan sound cry killer chair whisper scream great trial promise noise horrible choice new rifle fist traitor hug monster fake wonderful decision tear breath blanket flash shotgun guard silence will criminal tremendous word suicide life liar thing move sitting mistake grave split question death desperate few deadly crazy trick blessing prayer plane shadow court miracle saint brave search difference threat light fucking'"
      ]
     },
     "execution_count": 81,
     "metadata": {},
     "output_type": "execute_result"
    }
   ],
   "source": [
    "' '.join(mdw(a1_, a0_).sort_values('dll', ascending=False).head(100).token)"
   ]
  },
  {
   "cell_type": "code",
   "execution_count": 82,
   "metadata": {},
   "outputs": [
    {
     "data": {
      "text/plain": [
       "'town girl young age family boy year city summer university school stranger youngest older man local most color usual village “ shop younger oldest neighborhood name street big west early woman store girls wide driver high north english college teacher owner victim sort size tall more counter class bar - small thick kind largest weather students narrow irish war gentleman land large rich middle occasional subject county late broad job thin winter few houses guy office daughter boys boss corners smell cook impression third bartender wagon royal male waitress south average fact old habit bus spring art mirror meat coach'"
      ]
     },
     "execution_count": 82,
     "metadata": {},
     "output_type": "execute_result"
    }
   ],
   "source": [
    "' '.join(mdw(the0_, the1_).sort_values('dll', ascending=False).head(100).token)"
   ]
  },
  {
   "cell_type": "code",
   "execution_count": 83,
   "metadata": {},
   "outputs": [
    {
     "data": {
      "text/plain": [
       "'gun truth trigger pistol police knife door murder hospital rifle bullet jury murderer pain helicopter floor sword ground stairs revolver shotgun bed flames tears dragon cave end barrel others fire shot room blade baby darkness judge story grave tunnel tape weapon one night strength sheriff money muzzle future coffin cemetery evidence wound car battle final nurse light courtroom sky cabin key rope poison will blow couch bomb hammer altar guards airport trial words flood enemy force earth wedding power steps void attack circle universe whole charges explosion way bodies chapel ceremony funeral truck president soldiers fight rest inspector lord sound'"
      ]
     },
     "execution_count": 83,
     "metadata": {},
     "output_type": "execute_result"
    }
   ],
   "source": [
    "' '.join(mdw(the1_, the0_).sort_values('dll', ascending=False).head(100).token)"
   ]
  },
  {
   "cell_type": "code",
   "execution_count": null,
   "metadata": {},
   "outputs": [],
   "source": []
  }
 ],
 "metadata": {
  "kernelspec": {
   "display_name": "Python 3",
   "language": "python",
   "name": "python3"
  },
  "language_info": {
   "codemirror_mode": {
    "name": "ipython",
    "version": 3
   },
   "file_extension": ".py",
   "mimetype": "text/x-python",
   "name": "python",
   "nbconvert_exporter": "python",
   "pygments_lexer": "ipython3",
   "version": "3.6.5"
  }
 },
 "nbformat": 4,
 "nbformat_minor": 2
}
