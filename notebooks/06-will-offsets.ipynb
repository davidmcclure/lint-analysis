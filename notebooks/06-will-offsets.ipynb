{
 "cells": [
  {
   "cell_type": "code",
   "execution_count": 1,
   "metadata": {
    "collapsed": true
   },
   "outputs": [],
   "source": [
    "import matplotlib.pyplot as plt\n",
    "%matplotlib inline"
   ]
  },
  {
   "cell_type": "code",
   "execution_count": 2,
   "metadata": {
    "collapsed": true
   },
   "outputs": [],
   "source": [
    "import numpy as np\n",
    "\n",
    "from scipy.stats import linregress\n",
    "\n",
    "def plot_histogram(text, bins=20, w=4, h=2):\n",
    "    \n",
    "    author = '{} {}'.format(text.get('authorFirst'), text.get('authorLast'))\n",
    "    print('{} ({}, {})'.format(text['title'], author, text['year']))\n",
    "    \n",
    "    plt.figure(figsize=(w,h))\n",
    "    plt.hist(text['offsets'], bins, (0,1))\n",
    "    plt.show()"
   ]
  },
  {
   "cell_type": "code",
   "execution_count": 3,
   "metadata": {
    "collapsed": true
   },
   "outputs": [],
   "source": [
    "from lint_analysis.token_offsets import Dataset\n",
    "\n",
    "ds = Dataset.from_local('will.json')"
   ]
  },
  {
   "cell_type": "code",
   "execution_count": 4,
   "metadata": {
    "scrolled": false
   },
   "outputs": [
    {
     "name": "stdout",
     "output_type": "stream",
     "text": [
      "Saratoga trunk (Edna Ferber, 1941)\n"
     ]
    },
    {
     "data": {
      "image/png": "[encoded data removed]",
      "text/plain": [
       "<matplotlib.figure.Figure at 0x10d5d1860>"
      ]
     },
     "metadata": {},
     "output_type": "display_data"
    },
    {
     "name": "stdout",
     "output_type": "stream",
     "text": [
      "In this our life (Ellen Anderson Gholson Glasgow, 1941)\n"
     ]
    },
    {
     "data": {
      "image/png": "[encoded data removed]",
      "text/plain": [
       "<matplotlib.figure.Figure at 0x10d610c18>"
      ]
     },
     "metadata": {},
     "output_type": "display_data"
    },
    {
     "name": "stdout",
     "output_type": "stream",
     "text": [
      "Green centuries (Caroline Gordon, 1941)\n"
     ]
    },
    {
     "data": {
      "image/png": "[encoded data removed]",
      "text/plain": [
       "<matplotlib.figure.Figure at 0x10d7feb38>"
      ]
     },
     "metadata": {},
     "output_type": "display_data"
    },
    {
     "name": "stdout",
     "output_type": "stream",
     "text": [
      "The mutineers (Charles Boardman Hawes, 1941)\n"
     ]
    },
    {
     "data": {
      "image/png": "[encoded data removed]",
      "text/plain": [
       "<matplotlib.figure.Figure at 0x10d89a400>"
      ]
     },
     "metadata": {},
     "output_type": "display_data"
    },
    {
     "name": "stdout",
     "output_type": "stream",
     "text": [
      "Star spangled summer (Janet Lambert, 1941)\n"
     ]
    },
    {
     "data": {
      "image/png": "[encoded data removed]",
      "text/plain": [
       "<matplotlib.figure.Figure at 0x10d920588>"
      ]
     },
     "metadata": {},
     "output_type": "display_data"
    },
    {
     "name": "stdout",
     "output_type": "stream",
     "text": [
      "The wife of Martin Guerre (Janet Lewis, 1941)\n"
     ]
    },
    {
     "data": {
      "image/png": "[encoded data removed]",
      "text/plain": [
       "<matplotlib.figure.Figure at 0x10ae78dd8>"
      ]
     },
     "metadata": {},
     "output_type": "display_data"
    },
    {
     "name": "stdout",
     "output_type": "stream",
     "text": [
      "The deadly truth (Helen McCloy, 1941)\n"
     ]
    },
    {
     "data": {
      "image/png": "[encoded data removed]",
      "text/plain": [
       "<matplotlib.figure.Figure at 0x10d8541d0>"
      ]
     },
     "metadata": {},
     "output_type": "display_data"
    },
    {
     "name": "stdout",
     "output_type": "stream",
     "text": [
      "The metal monster (Abraham Merritt, 1941)\n"
     ]
    },
    {
     "data": {
      "image/png": "[encoded data removed]",
      "text/plain": [
       "<matplotlib.figure.Figure at 0x10d90b630>"
      ]
     },
     "metadata": {},
     "output_type": "display_data"
    },
    {
     "name": "stdout",
     "output_type": "stream",
     "text": [
      "The harp and the blade (John Myers Myers, 1941)\n"
     ]
    },
    {
     "data": {
      "image/png": "[encoded data removed]",
      "text/plain": [
       "<matplotlib.figure.Figure at 0x10d67ea90>"
      ]
     },
     "metadata": {},
     "output_type": "display_data"
    },
    {
     "name": "stdout",
     "output_type": "stream",
     "text": [
      "The puzzle of the happy hooligan (Stuart Palmer, 1941)\n"
     ]
    },
    {
     "data": {
      "image/png": "[encoded data removed]",
      "text/plain": [
       "<matplotlib.figure.Figure at 0x10d761208>"
      ]
     },
     "metadata": {},
     "output_type": "display_data"
    }
   ],
   "source": [
    "from itertools import islice\n",
    "\n",
    "data = []\n",
    "for text in islice(ds.texts(), 10):\n",
    "    plot_histogram(text)"
   ]
  },
  {
   "cell_type": "code",
   "execution_count": 5,
   "metadata": {
    "collapsed": true
   },
   "outputs": [],
   "source": [
    "from numpy.random import multinomial\n",
    "\n",
    "def sample_series(series, n=1000, *args, **kwargs):\n",
    "    return multinomial(series.sum(), series/series.sum(), n)"
   ]
  },
  {
   "cell_type": "code",
   "execution_count": 6,
   "metadata": {
    "collapsed": true
   },
   "outputs": [],
   "source": [
    "from scipy import stats\n",
    "\n",
    "def last_bin_zscore(text, bins=20):\n",
    "\n",
    "    y, _, _, _ = stats.histogram(text['offsets'], bins, (0, 1))\n",
    "\n",
    "    expected = y.sum() / len(y)\n",
    "    samples = sample_series(np.full(len(y), expected))\n",
    "\n",
    "    avg_std = samples.std(1).mean()\n",
    "\n",
    "    return (y[-1]-expected)/avg_std"
   ]
  },
  {
   "cell_type": "code",
   "execution_count": 7,
   "metadata": {
    "collapsed": true,
    "scrolled": false
   },
   "outputs": [],
   "source": [
    "data = []\n",
    "for text in ds.texts():\n",
    "    zscore = last_bin_zscore(text)\n",
    "    data.append((zscore, text['year'], text))"
   ]
  },
  {
   "cell_type": "code",
   "execution_count": 8,
   "metadata": {
    "collapsed": true
   },
   "outputs": [],
   "source": [
    "import pandas as pd\n",
    "\n",
    "df = pd.DataFrame(data, columns=('zscore', 'year', 'text'))"
   ]
  },
  {
   "cell_type": "code",
   "execution_count": 9,
   "metadata": {
    "scrolled": false
   },
   "outputs": [
    {
     "data": {
      "text/html": [
       "<div>\n",
       "<table border=\"1\" class=\"dataframe\">\n",
       "  <thead>\n",
       "    <tr style=\"text-align: right;\">\n",
       "      <th></th>\n",
       "      <th>zscore</th>\n",
       "      <th>year</th>\n",
       "      <th>text</th>\n",
       "    </tr>\n",
       "  </thead>\n",
       "  <tbody>\n",
       "    <tr>\n",
       "      <th>15237</th>\n",
       "      <td>57.131055</td>\n",
       "      <td>1996</td>\n",
       "      <td>{'corpus': 'chicago', 'identifier': '24333', '...</td>\n",
       "    </tr>\n",
       "    <tr>\n",
       "      <th>1903</th>\n",
       "      <td>50.480913</td>\n",
       "      <td>1975</td>\n",
       "      <td>{'corpus': 'chicago', 'identifier': '21262', '...</td>\n",
       "    </tr>\n",
       "    <tr>\n",
       "      <th>23304</th>\n",
       "      <td>46.932767</td>\n",
       "      <td>1989</td>\n",
       "      <td>{'corpus': 'chicago', 'identifier': '23103', '...</td>\n",
       "    </tr>\n",
       "    <tr>\n",
       "      <th>7527</th>\n",
       "      <td>44.838222</td>\n",
       "      <td>1970</td>\n",
       "      <td>{'corpus': 'chicago', 'identifier': '20887', '...</td>\n",
       "    </tr>\n",
       "    <tr>\n",
       "      <th>20391</th>\n",
       "      <td>35.590201</td>\n",
       "      <td>1993</td>\n",
       "      <td>{'corpus': 'chicago', 'identifier': '23925', '...</td>\n",
       "    </tr>\n",
       "    <tr>\n",
       "      <th>25609</th>\n",
       "      <td>27.516599</td>\n",
       "      <td>1870</td>\n",
       "      <td>{'corpus': 'gale', 'identifier': 'AMFCF0002-C0...</td>\n",
       "    </tr>\n",
       "    <tr>\n",
       "      <th>8241</th>\n",
       "      <td>26.793538</td>\n",
       "      <td>1984</td>\n",
       "      <td>{'corpus': 'chicago', 'identifier': '22284', '...</td>\n",
       "    </tr>\n",
       "    <tr>\n",
       "      <th>13147</th>\n",
       "      <td>21.339083</td>\n",
       "      <td>1963</td>\n",
       "      <td>{'corpus': 'chicago', 'identifier': '20531', '...</td>\n",
       "    </tr>\n",
       "    <tr>\n",
       "      <th>13263</th>\n",
       "      <td>18.587319</td>\n",
       "      <td>1985</td>\n",
       "      <td>{'corpus': 'chicago', 'identifier': '22400', '...</td>\n",
       "    </tr>\n",
       "    <tr>\n",
       "      <th>15923</th>\n",
       "      <td>18.168739</td>\n",
       "      <td>1985</td>\n",
       "      <td>{'corpus': 'chicago', 'identifier': '22417', '...</td>\n",
       "    </tr>\n",
       "    <tr>\n",
       "      <th>20961</th>\n",
       "      <td>17.439351</td>\n",
       "      <td>1983</td>\n",
       "      <td>{'corpus': 'chicago', 'identifier': '22072', '...</td>\n",
       "    </tr>\n",
       "    <tr>\n",
       "      <th>24469</th>\n",
       "      <td>17.026268</td>\n",
       "      <td>1914</td>\n",
       "      <td>{'corpus': 'gale', 'identifier': 'AMFCF0003-C0...</td>\n",
       "    </tr>\n",
       "    <tr>\n",
       "      <th>17418</th>\n",
       "      <td>14.621575</td>\n",
       "      <td>1915</td>\n",
       "      <td>{'corpus': 'gale', 'identifier': 'AMFCF0003-C0...</td>\n",
       "    </tr>\n",
       "    <tr>\n",
       "      <th>9714</th>\n",
       "      <td>14.591966</td>\n",
       "      <td>1887</td>\n",
       "      <td>{'corpus': 'gale', 'identifier': 'AMFCF0002-C0...</td>\n",
       "    </tr>\n",
       "    <tr>\n",
       "      <th>10003</th>\n",
       "      <td>14.547267</td>\n",
       "      <td>1980</td>\n",
       "      <td>{'corpus': 'chicago', 'identifier': '21795', '...</td>\n",
       "    </tr>\n",
       "    <tr>\n",
       "      <th>6535</th>\n",
       "      <td>14.471401</td>\n",
       "      <td>1915</td>\n",
       "      <td>{'corpus': 'chicago', 'identifier': '3867', 't...</td>\n",
       "    </tr>\n",
       "    <tr>\n",
       "      <th>16139</th>\n",
       "      <td>13.898572</td>\n",
       "      <td>1973</td>\n",
       "      <td>{'corpus': 'chicago', 'identifier': '21095', '...</td>\n",
       "    </tr>\n",
       "    <tr>\n",
       "      <th>11152</th>\n",
       "      <td>13.178158</td>\n",
       "      <td>1929</td>\n",
       "      <td>{'corpus': 'chicago', 'identifier': '10308', '...</td>\n",
       "    </tr>\n",
       "    <tr>\n",
       "      <th>8186</th>\n",
       "      <td>12.975359</td>\n",
       "      <td>1984</td>\n",
       "      <td>{'corpus': 'chicago', 'identifier': '22229', '...</td>\n",
       "    </tr>\n",
       "    <tr>\n",
       "      <th>3647</th>\n",
       "      <td>12.422997</td>\n",
       "      <td>1995</td>\n",
       "      <td>{'corpus': 'chicago', 'identifier': '25622', '...</td>\n",
       "    </tr>\n",
       "    <tr>\n",
       "      <th>4238</th>\n",
       "      <td>12.046123</td>\n",
       "      <td>1903</td>\n",
       "      <td>{'corpus': 'gale', 'identifier': 'AMFCF0002-C0...</td>\n",
       "    </tr>\n",
       "    <tr>\n",
       "      <th>13801</th>\n",
       "      <td>11.886696</td>\n",
       "      <td>1901</td>\n",
       "      <td>{'corpus': 'gale', 'identifier': 'AMFCF0002-C0...</td>\n",
       "    </tr>\n",
       "    <tr>\n",
       "      <th>2602</th>\n",
       "      <td>11.869953</td>\n",
       "      <td>1999</td>\n",
       "      <td>{'corpus': 'chicago', 'identifier': '24944', '...</td>\n",
       "    </tr>\n",
       "    <tr>\n",
       "      <th>1211</th>\n",
       "      <td>11.827152</td>\n",
       "      <td>1910</td>\n",
       "      <td>{'corpus': 'gale', 'identifier': 'AMFCF0002-C0...</td>\n",
       "    </tr>\n",
       "    <tr>\n",
       "      <th>8014</th>\n",
       "      <td>11.780183</td>\n",
       "      <td>1896</td>\n",
       "      <td>{'corpus': 'gale', 'identifier': 'AMFCF0002-C0...</td>\n",
       "    </tr>\n",
       "    <tr>\n",
       "      <th>25326</th>\n",
       "      <td>11.753806</td>\n",
       "      <td>1918</td>\n",
       "      <td>{'corpus': 'gale', 'identifier': 'AMFCF0003-C0...</td>\n",
       "    </tr>\n",
       "    <tr>\n",
       "      <th>2426</th>\n",
       "      <td>11.748648</td>\n",
       "      <td>1972</td>\n",
       "      <td>{'corpus': 'chicago', 'identifier': '21004', '...</td>\n",
       "    </tr>\n",
       "    <tr>\n",
       "      <th>23853</th>\n",
       "      <td>11.632612</td>\n",
       "      <td>2000</td>\n",
       "      <td>{'corpus': 'chicago', 'identifier': '25070', '...</td>\n",
       "    </tr>\n",
       "    <tr>\n",
       "      <th>23887</th>\n",
       "      <td>11.553482</td>\n",
       "      <td>1978</td>\n",
       "      <td>{'corpus': 'chicago', 'identifier': '21557', '...</td>\n",
       "    </tr>\n",
       "    <tr>\n",
       "      <th>16449</th>\n",
       "      <td>11.414690</td>\n",
       "      <td>1866</td>\n",
       "      <td>{'corpus': 'gale', 'identifier': 'AMFCF0002-C0...</td>\n",
       "    </tr>\n",
       "    <tr>\n",
       "      <th>...</th>\n",
       "      <td>...</td>\n",
       "      <td>...</td>\n",
       "      <td>...</td>\n",
       "    </tr>\n",
       "    <tr>\n",
       "      <th>1085</th>\n",
       "      <td>-3.977194</td>\n",
       "      <td>1868</td>\n",
       "      <td>{'corpus': 'gale', 'identifier': 'AMFCF0002-C0...</td>\n",
       "    </tr>\n",
       "    <tr>\n",
       "      <th>24342</th>\n",
       "      <td>-3.993098</td>\n",
       "      <td>1904</td>\n",
       "      <td>{'corpus': 'gale', 'identifier': 'AMFCF0002-C0...</td>\n",
       "    </tr>\n",
       "    <tr>\n",
       "      <th>14633</th>\n",
       "      <td>-4.008020</td>\n",
       "      <td>1893</td>\n",
       "      <td>{'corpus': 'gale', 'identifier': 'AMFCF0002-C0...</td>\n",
       "    </tr>\n",
       "    <tr>\n",
       "      <th>21393</th>\n",
       "      <td>-4.013084</td>\n",
       "      <td>1916</td>\n",
       "      <td>{'corpus': 'gale', 'identifier': 'AMFCF0003-C0...</td>\n",
       "    </tr>\n",
       "    <tr>\n",
       "      <th>10656</th>\n",
       "      <td>-4.029529</td>\n",
       "      <td>1899</td>\n",
       "      <td>{'corpus': 'gale', 'identifier': 'AMFCF0002-C0...</td>\n",
       "    </tr>\n",
       "    <tr>\n",
       "      <th>11703</th>\n",
       "      <td>-4.034032</td>\n",
       "      <td>1879</td>\n",
       "      <td>{'corpus': 'gale', 'identifier': 'AMFCF0002-C0...</td>\n",
       "    </tr>\n",
       "    <tr>\n",
       "      <th>20062</th>\n",
       "      <td>-4.041762</td>\n",
       "      <td>1870</td>\n",
       "      <td>{'corpus': 'gale', 'identifier': 'AMFCF0002-C0...</td>\n",
       "    </tr>\n",
       "    <tr>\n",
       "      <th>12021</th>\n",
       "      <td>-4.055812</td>\n",
       "      <td>1901</td>\n",
       "      <td>{'corpus': 'gale', 'identifier': 'AMFCF0002-C0...</td>\n",
       "    </tr>\n",
       "    <tr>\n",
       "      <th>22221</th>\n",
       "      <td>-4.098889</td>\n",
       "      <td>1883</td>\n",
       "      <td>{'corpus': 'gale', 'identifier': 'AMFCF0002-C0...</td>\n",
       "    </tr>\n",
       "    <tr>\n",
       "      <th>14238</th>\n",
       "      <td>-4.101061</td>\n",
       "      <td>1994</td>\n",
       "      <td>{'corpus': 'chicago', 'identifier': '24010', '...</td>\n",
       "    </tr>\n",
       "    <tr>\n",
       "      <th>630</th>\n",
       "      <td>-4.112213</td>\n",
       "      <td>1910</td>\n",
       "      <td>{'corpus': 'gale', 'identifier': 'AMFCF0002-C0...</td>\n",
       "    </tr>\n",
       "    <tr>\n",
       "      <th>20681</th>\n",
       "      <td>-4.139833</td>\n",
       "      <td>1897</td>\n",
       "      <td>{'corpus': 'gale', 'identifier': 'AMFCF0002-C0...</td>\n",
       "    </tr>\n",
       "    <tr>\n",
       "      <th>22667</th>\n",
       "      <td>-4.175053</td>\n",
       "      <td>1901</td>\n",
       "      <td>{'corpus': 'gale', 'identifier': 'AMFCF0002-C0...</td>\n",
       "    </tr>\n",
       "    <tr>\n",
       "      <th>24818</th>\n",
       "      <td>-4.220983</td>\n",
       "      <td>1877</td>\n",
       "      <td>{'corpus': 'gale', 'identifier': 'AMFCF0002-C0...</td>\n",
       "    </tr>\n",
       "    <tr>\n",
       "      <th>5744</th>\n",
       "      <td>-4.230882</td>\n",
       "      <td>1847</td>\n",
       "      <td>{'corpus': 'gale', 'identifier': 'AMFCF0002-C0...</td>\n",
       "    </tr>\n",
       "    <tr>\n",
       "      <th>10525</th>\n",
       "      <td>-4.275085</td>\n",
       "      <td>1899</td>\n",
       "      <td>{'corpus': 'gale', 'identifier': 'AMFCF0002-C0...</td>\n",
       "    </tr>\n",
       "    <tr>\n",
       "      <th>2635</th>\n",
       "      <td>-4.293794</td>\n",
       "      <td>1999</td>\n",
       "      <td>{'corpus': 'chicago', 'identifier': '24977', '...</td>\n",
       "    </tr>\n",
       "    <tr>\n",
       "      <th>4501</th>\n",
       "      <td>-4.295009</td>\n",
       "      <td>1901</td>\n",
       "      <td>{'corpus': 'chicago', 'identifier': '4813', 't...</td>\n",
       "    </tr>\n",
       "    <tr>\n",
       "      <th>3550</th>\n",
       "      <td>-4.300969</td>\n",
       "      <td>1917</td>\n",
       "      <td>{'corpus': 'gale', 'identifier': 'AMFCF0003-C0...</td>\n",
       "    </tr>\n",
       "    <tr>\n",
       "      <th>20646</th>\n",
       "      <td>-4.332481</td>\n",
       "      <td>1866</td>\n",
       "      <td>{'corpus': 'gale', 'identifier': 'AMFCF0002-C0...</td>\n",
       "    </tr>\n",
       "    <tr>\n",
       "      <th>12394</th>\n",
       "      <td>-4.350283</td>\n",
       "      <td>1996</td>\n",
       "      <td>{'corpus': 'chicago', 'identifier': '25667', '...</td>\n",
       "    </tr>\n",
       "    <tr>\n",
       "      <th>8891</th>\n",
       "      <td>-4.495148</td>\n",
       "      <td>1885</td>\n",
       "      <td>{'corpus': 'gale', 'identifier': 'AMFCF0002-C0...</td>\n",
       "    </tr>\n",
       "    <tr>\n",
       "      <th>24900</th>\n",
       "      <td>-4.565473</td>\n",
       "      <td>1855</td>\n",
       "      <td>{'corpus': 'gale', 'identifier': 'AMFCF0002-C0...</td>\n",
       "    </tr>\n",
       "    <tr>\n",
       "      <th>25913</th>\n",
       "      <td>-4.644457</td>\n",
       "      <td>1903</td>\n",
       "      <td>{'corpus': 'gale', 'identifier': 'AMFCF0002-C0...</td>\n",
       "    </tr>\n",
       "    <tr>\n",
       "      <th>17637</th>\n",
       "      <td>-4.658599</td>\n",
       "      <td>1884</td>\n",
       "      <td>{'corpus': 'gale', 'identifier': 'AMFCF0002-C0...</td>\n",
       "    </tr>\n",
       "    <tr>\n",
       "      <th>24008</th>\n",
       "      <td>-4.669314</td>\n",
       "      <td>1873</td>\n",
       "      <td>{'corpus': 'gale', 'identifier': 'AMFCF0002-C0...</td>\n",
       "    </tr>\n",
       "    <tr>\n",
       "      <th>26336</th>\n",
       "      <td>-4.690728</td>\n",
       "      <td>1849</td>\n",
       "      <td>{'corpus': 'gale', 'identifier': 'AMFCF0002-C0...</td>\n",
       "    </tr>\n",
       "    <tr>\n",
       "      <th>11223</th>\n",
       "      <td>-4.762017</td>\n",
       "      <td>1992</td>\n",
       "      <td>{'corpus': 'chicago', 'identifier': '23778', '...</td>\n",
       "    </tr>\n",
       "    <tr>\n",
       "      <th>8306</th>\n",
       "      <td>-5.042495</td>\n",
       "      <td>1933</td>\n",
       "      <td>{'corpus': 'chicago', 'identifier': '10402', '...</td>\n",
       "    </tr>\n",
       "    <tr>\n",
       "      <th>1138</th>\n",
       "      <td>-5.600152</td>\n",
       "      <td>1932</td>\n",
       "      <td>{'corpus': 'chicago', 'identifier': '11356', '...</td>\n",
       "    </tr>\n",
       "  </tbody>\n",
       "</table>\n",
       "<p>26971 rows × 3 columns</p>\n",
       "</div>"
      ],
      "text/plain": [
       "          zscore  year                                               text\n",
       "15237  57.131055  1996  {'corpus': 'chicago', 'identifier': '24333', '...\n",
       "1903   50.480913  1975  {'corpus': 'chicago', 'identifier': '21262', '...\n",
       "23304  46.932767  1989  {'corpus': 'chicago', 'identifier': '23103', '...\n",
       "7527   44.838222  1970  {'corpus': 'chicago', 'identifier': '20887', '...\n",
       "20391  35.590201  1993  {'corpus': 'chicago', 'identifier': '23925', '...\n",
       "25609  27.516599  1870  {'corpus': 'gale', 'identifier': 'AMFCF0002-C0...\n",
       "8241   26.793538  1984  {'corpus': 'chicago', 'identifier': '22284', '...\n",
       "13147  21.339083  1963  {'corpus': 'chicago', 'identifier': '20531', '...\n",
       "13263  18.587319  1985  {'corpus': 'chicago', 'identifier': '22400', '...\n",
       "15923  18.168739  1985  {'corpus': 'chicago', 'identifier': '22417', '...\n",
       "20961  17.439351  1983  {'corpus': 'chicago', 'identifier': '22072', '...\n",
       "24469  17.026268  1914  {'corpus': 'gale', 'identifier': 'AMFCF0003-C0...\n",
       "17418  14.621575  1915  {'corpus': 'gale', 'identifier': 'AMFCF0003-C0...\n",
       "9714   14.591966  1887  {'corpus': 'gale', 'identifier': 'AMFCF0002-C0...\n",
       "10003  14.547267  1980  {'corpus': 'chicago', 'identifier': '21795', '...\n",
       "6535   14.471401  1915  {'corpus': 'chicago', 'identifier': '3867', 't...\n",
       "16139  13.898572  1973  {'corpus': 'chicago', 'identifier': '21095', '...\n",
       "11152  13.178158  1929  {'corpus': 'chicago', 'identifier': '10308', '...\n",
       "8186   12.975359  1984  {'corpus': 'chicago', 'identifier': '22229', '...\n",
       "3647   12.422997  1995  {'corpus': 'chicago', 'identifier': '25622', '...\n",
       "4238   12.046123  1903  {'corpus': 'gale', 'identifier': 'AMFCF0002-C0...\n",
       "13801  11.886696  1901  {'corpus': 'gale', 'identifier': 'AMFCF0002-C0...\n",
       "2602   11.869953  1999  {'corpus': 'chicago', 'identifier': '24944', '...\n",
       "1211   11.827152  1910  {'corpus': 'gale', 'identifier': 'AMFCF0002-C0...\n",
       "8014   11.780183  1896  {'corpus': 'gale', 'identifier': 'AMFCF0002-C0...\n",
       "25326  11.753806  1918  {'corpus': 'gale', 'identifier': 'AMFCF0003-C0...\n",
       "2426   11.748648  1972  {'corpus': 'chicago', 'identifier': '21004', '...\n",
       "23853  11.632612  2000  {'corpus': 'chicago', 'identifier': '25070', '...\n",
       "23887  11.553482  1978  {'corpus': 'chicago', 'identifier': '21557', '...\n",
       "16449  11.414690  1866  {'corpus': 'gale', 'identifier': 'AMFCF0002-C0...\n",
       "...          ...   ...                                                ...\n",
       "1085   -3.977194  1868  {'corpus': 'gale', 'identifier': 'AMFCF0002-C0...\n",
       "24342  -3.993098  1904  {'corpus': 'gale', 'identifier': 'AMFCF0002-C0...\n",
       "14633  -4.008020  1893  {'corpus': 'gale', 'identifier': 'AMFCF0002-C0...\n",
       "21393  -4.013084  1916  {'corpus': 'gale', 'identifier': 'AMFCF0003-C0...\n",
       "10656  -4.029529  1899  {'corpus': 'gale', 'identifier': 'AMFCF0002-C0...\n",
       "11703  -4.034032  1879  {'corpus': 'gale', 'identifier': 'AMFCF0002-C0...\n",
       "20062  -4.041762  1870  {'corpus': 'gale', 'identifier': 'AMFCF0002-C0...\n",
       "12021  -4.055812  1901  {'corpus': 'gale', 'identifier': 'AMFCF0002-C0...\n",
       "22221  -4.098889  1883  {'corpus': 'gale', 'identifier': 'AMFCF0002-C0...\n",
       "14238  -4.101061  1994  {'corpus': 'chicago', 'identifier': '24010', '...\n",
       "630    -4.112213  1910  {'corpus': 'gale', 'identifier': 'AMFCF0002-C0...\n",
       "20681  -4.139833  1897  {'corpus': 'gale', 'identifier': 'AMFCF0002-C0...\n",
       "22667  -4.175053  1901  {'corpus': 'gale', 'identifier': 'AMFCF0002-C0...\n",
       "24818  -4.220983  1877  {'corpus': 'gale', 'identifier': 'AMFCF0002-C0...\n",
       "5744   -4.230882  1847  {'corpus': 'gale', 'identifier': 'AMFCF0002-C0...\n",
       "10525  -4.275085  1899  {'corpus': 'gale', 'identifier': 'AMFCF0002-C0...\n",
       "2635   -4.293794  1999  {'corpus': 'chicago', 'identifier': '24977', '...\n",
       "4501   -4.295009  1901  {'corpus': 'chicago', 'identifier': '4813', 't...\n",
       "3550   -4.300969  1917  {'corpus': 'gale', 'identifier': 'AMFCF0003-C0...\n",
       "20646  -4.332481  1866  {'corpus': 'gale', 'identifier': 'AMFCF0002-C0...\n",
       "12394  -4.350283  1996  {'corpus': 'chicago', 'identifier': '25667', '...\n",
       "8891   -4.495148  1885  {'corpus': 'gale', 'identifier': 'AMFCF0002-C0...\n",
       "24900  -4.565473  1855  {'corpus': 'gale', 'identifier': 'AMFCF0002-C0...\n",
       "25913  -4.644457  1903  {'corpus': 'gale', 'identifier': 'AMFCF0002-C0...\n",
       "17637  -4.658599  1884  {'corpus': 'gale', 'identifier': 'AMFCF0002-C0...\n",
       "24008  -4.669314  1873  {'corpus': 'gale', 'identifier': 'AMFCF0002-C0...\n",
       "26336  -4.690728  1849  {'corpus': 'gale', 'identifier': 'AMFCF0002-C0...\n",
       "11223  -4.762017  1992  {'corpus': 'chicago', 'identifier': '23778', '...\n",
       "8306   -5.042495  1933  {'corpus': 'chicago', 'identifier': '10402', '...\n",
       "1138   -5.600152  1932  {'corpus': 'chicago', 'identifier': '11356', '...\n",
       "\n",
       "[26971 rows x 3 columns]"
      ]
     },
     "execution_count": 9,
     "metadata": {},
     "output_type": "execute_result"
    }
   ],
   "source": [
    "df.sort_values('zscore', ascending=False)"
   ]
  },
  {
   "cell_type": "code",
   "execution_count": 11,
   "metadata": {},
   "outputs": [
    {
     "data": {
      "text/html": [
       "<table class=\"simpletable\">\n",
       "<caption>OLS Regression Results</caption>\n",
       "<tr>\n",
       "  <th>Dep. Variable:</th>         <td>zscore</td>      <th>  R-squared:         </th> <td>   0.009</td> \n",
       "</tr>\n",
       "<tr>\n",
       "  <th>Model:</th>                   <td>OLS</td>       <th>  Adj. R-squared:    </th> <td>   0.009</td> \n",
       "</tr>\n",
       "<tr>\n",
       "  <th>Method:</th>             <td>Least Squares</td>  <th>  F-statistic:       </th> <td>   235.7</td> \n",
       "</tr>\n",
       "<tr>\n",
       "  <th>Date:</th>             <td>Fri, 28 Apr 2017</td> <th>  Prob (F-statistic):</th> <td>5.68e-53</td> \n",
       "</tr>\n",
       "<tr>\n",
       "  <th>Time:</th>                 <td>13:28:59</td>     <th>  Log-Likelihood:    </th> <td> -58014.</td> \n",
       "</tr>\n",
       "<tr>\n",
       "  <th>No. Observations:</th>      <td> 26971</td>      <th>  AIC:               </th> <td>1.160e+05</td>\n",
       "</tr>\n",
       "<tr>\n",
       "  <th>Df Residuals:</th>          <td> 26969</td>      <th>  BIC:               </th> <td>1.160e+05</td>\n",
       "</tr>\n",
       "<tr>\n",
       "  <th>Df Model:</th>              <td>     1</td>      <th>                     </th>     <td> </td>    \n",
       "</tr>\n",
       "<tr>\n",
       "  <th>Covariance Type:</th>      <td>nonrobust</td>    <th>                     </th>     <td> </td>    \n",
       "</tr>\n",
       "</table>\n",
       "<table class=\"simpletable\">\n",
       "<tr>\n",
       "    <td></td>       <th>coef</th>     <th>std err</th>      <th>t</th>      <th>P>|t|</th>  <th>[0.025</th>    <th>0.975]</th>  \n",
       "</tr>\n",
       "<tr>\n",
       "  <th>const</th> <td>   -7.7455</td> <td>    0.530</td> <td>  -14.621</td> <td> 0.000</td> <td>   -8.784</td> <td>   -6.707</td>\n",
       "</tr>\n",
       "<tr>\n",
       "  <th>year</th>  <td>    0.0042</td> <td>    0.000</td> <td>   15.353</td> <td> 0.000</td> <td>    0.004</td> <td>    0.005</td>\n",
       "</tr>\n",
       "</table>\n",
       "<table class=\"simpletable\">\n",
       "<tr>\n",
       "  <th>Omnibus:</th>       <td>23113.998</td> <th>  Durbin-Watson:     </th>  <td>   1.980</td>  \n",
       "</tr>\n",
       "<tr>\n",
       "  <th>Prob(Omnibus):</th>  <td> 0.000</td>   <th>  Jarque-Bera (JB):  </th> <td>3646788.076</td>\n",
       "</tr>\n",
       "<tr>\n",
       "  <th>Skew:</th>           <td> 3.462</td>   <th>  Prob(JB):          </th>  <td>    0.00</td>  \n",
       "</tr>\n",
       "<tr>\n",
       "  <th>Kurtosis:</th>       <td>59.543</td>   <th>  Cond. No.          </th>  <td>8.01e+04</td>  \n",
       "</tr>\n",
       "</table>"
      ],
      "text/plain": [
       "<class 'statsmodels.iolib.summary.Summary'>\n",
       "\"\"\"\n",
       "                            OLS Regression Results                            \n",
       "==============================================================================\n",
       "Dep. Variable:                 zscore   R-squared:                       0.009\n",
       "Model:                            OLS   Adj. R-squared:                  0.009\n",
       "Method:                 Least Squares   F-statistic:                     235.7\n",
       "Date:                Fri, 28 Apr 2017   Prob (F-statistic):           5.68e-53\n",
       "Time:                        13:28:59   Log-Likelihood:                -58014.\n",
       "No. Observations:               26971   AIC:                         1.160e+05\n",
       "Df Residuals:                   26969   BIC:                         1.160e+05\n",
       "Df Model:                           1                                         \n",
       "Covariance Type:            nonrobust                                         \n",
       "==============================================================================\n",
       "                 coef    std err          t      P>|t|      [0.025      0.975]\n",
       "------------------------------------------------------------------------------\n",
       "const         -7.7455      0.530    -14.621      0.000      -8.784      -6.707\n",
       "year           0.0042      0.000     15.353      0.000       0.004       0.005\n",
       "==============================================================================\n",
       "Omnibus:                    23113.998   Durbin-Watson:                   1.980\n",
       "Prob(Omnibus):                  0.000   Jarque-Bera (JB):          3646788.076\n",
       "Skew:                           3.462   Prob(JB):                         0.00\n",
       "Kurtosis:                      59.543   Cond. No.                     8.01e+04\n",
       "==============================================================================\n",
       "\n",
       "Warnings:\n",
       "[1] Standard Errors assume that the covariance matrix of the errors is correctly specified.\n",
       "[2] The condition number is large, 8.01e+04. This might indicate that there are\n",
       "strong multicollinearity or other numerical problems.\n",
       "\"\"\""
      ]
     },
     "execution_count": 11,
     "metadata": {},
     "output_type": "execute_result"
    }
   ],
   "source": [
    "import statsmodels.api as sm\n",
    "\n",
    "X = df['year']\n",
    "y = df['zscore']\n",
    "\n",
    "X = sm.add_constant(X)\n",
    "fit = sm.OLS(y, X).fit()\n",
    "\n",
    "fit.summary()"
   ]
  },
  {
   "cell_type": "code",
   "execution_count": 12,
   "metadata": {},
   "outputs": [
    {
     "data": {
      "image/png": "[encoded data removed]",
      "text/plain": [
       "<matplotlib.figure.Figure at 0x119010ef0>"
      ]
     },
     "metadata": {},
     "output_type": "display_data"
    }
   ],
   "source": [
    "plt.figure(figsize=(20, 10))\n",
    "plt.scatter(df['year'], df['zscore'])\n",
    "\n",
    "x1 = 1800\n",
    "x2 = 2000\n",
    "y1 = fit.params[1]*x1 + fit.params[0]\n",
    "y2 = fit.params[1]*x2 + fit.params[0]\n",
    "\n",
    "plt.plot([x1, x2], [y1, y2], c='orange')\n",
    "\n",
    "plt.show()"
   ]
  },
  {
   "cell_type": "code",
   "execution_count": 13,
   "metadata": {
    "scrolled": false
   },
   "outputs": [
    {
     "name": "stdout",
     "output_type": "stream",
     "text": [
      "Butterfly weed (Donald Harington, 1996)\n"
     ]
    },
    {
     "data": {
      "image/png": "[encoded data removed]",
      "text/plain": [
       "<matplotlib.figure.Figure at 0x1173421d0>"
      ]
     },
     "metadata": {},
     "output_type": "display_data"
    },
    {
     "name": "stdout",
     "output_type": "stream",
     "text": [
      "The architecture of the Arkansas Ozarks (Donald Harington, 1975)\n"
     ]
    },
    {
     "data": {
      "image/png": "[encoded data removed]",
      "text/plain": [
       "<matplotlib.figure.Figure at 0x119914908>"
      ]
     },
     "metadata": {},
     "output_type": "display_data"
    },
    {
     "name": "stdout",
     "output_type": "stream",
     "text": [
      "The cockroaches of Stay More (Donald Harington, 1989)\n"
     ]
    },
    {
     "data": {
      "image/png": "[encoded data removed]",
      "text/plain": [
       "<matplotlib.figure.Figure at 0x11989dac8>"
      ]
     },
     "metadata": {},
     "output_type": "display_data"
    },
    {
     "name": "stdout",
     "output_type": "stream",
     "text": [
      "Lightning bug (Donald Harington, 1970)\n"
     ]
    },
    {
     "data": {
      "image/png": "[encoded data removed]",
      "text/plain": [
       "<matplotlib.figure.Figure at 0x11904ebe0>"
      ]
     },
     "metadata": {},
     "output_type": "display_data"
    },
    {
     "name": "stdout",
     "output_type": "stream",
     "text": [
      "Ekaterina (Donald Harington, 1993)\n"
     ]
    },
    {
     "data": {
      "image/png": "[encoded data removed]",
      "text/plain": [
       "<matplotlib.figure.Figure at 0x119a594e0>"
      ]
     },
     "metadata": {},
     "output_type": "display_data"
    },
    {
     "name": "stdout",
     "output_type": "stream",
     "text": [
      "The Comic History of the United States: From a Period Prior to the Discovery of America to Times Long Subsequent to the Present: By John D. Sherwood... With Original Illustrations by Harry Scratchly (John Sherwood, 1870)\n"
     ]
    },
    {
     "data": {
      "image/png": "[encoded data removed]",
      "text/plain": [
       "<matplotlib.figure.Figure at 0x119539f60>"
      ]
     },
     "metadata": {},
     "output_type": "display_data"
    },
    {
     "name": "stdout",
     "output_type": "stream",
     "text": [
      "Scumbler (William Wharton, 1984)\n"
     ]
    },
    {
     "data": {
      "image/png": "[encoded data removed]",
      "text/plain": [
       "<matplotlib.figure.Figure at 0x1198a40f0>"
      ]
     },
     "metadata": {},
     "output_type": "display_data"
    },
    {
     "name": "stdout",
     "output_type": "stream",
     "text": [
      "Herzog (Saul Bellow, 1963)\n"
     ]
    },
    {
     "data": {
      "image/png": "[encoded data removed]",
      "text/plain": [
       "<matplotlib.figure.Figure at 0x119cc1be0>"
      ]
     },
     "metadata": {},
     "output_type": "display_data"
    },
    {
     "name": "stdout",
     "output_type": "stream",
     "text": [
      "The nuclear age (Tim O'Brien, 1985)\n"
     ]
    },
    {
     "data": {
      "image/png": "[encoded data removed]",
      "text/plain": [
       "<matplotlib.figure.Figure at 0x119b247b8>"
      ]
     },
     "metadata": {},
     "output_type": "display_data"
    },
    {
     "name": "stdout",
     "output_type": "stream",
     "text": [
      "The memory of whiteness (Kim Stanley Robinson, 1985)\n"
     ]
    },
    {
     "data": {
      "image/png": "[encoded data removed]",
      "text/plain": [
       "<matplotlib.figure.Figure at 0x1173420f0>"
      ]
     },
     "metadata": {},
     "output_type": "display_data"
    },
    {
     "name": "stdout",
     "output_type": "stream",
     "text": [
      "Gods of riverworld (Philip Jose Farmer, 1983)\n"
     ]
    },
    {
     "data": {
      "image/png": "[encoded data removed]",
      "text/plain": [
       "<matplotlib.figure.Figure at 0x119b1ed68>"
      ]
     },
     "metadata": {},
     "output_type": "display_data"
    },
    {
     "name": "stdout",
     "output_type": "stream",
     "text": [
      "\"Persons Unknown\": By Virginia Tracy; Illustrations by Henry Raleigh (Virginia Tracy, 1914)\n"
     ]
    },
    {
     "data": {
      "image/png": "[encoded data removed]",
      "text/plain": [
       "<matplotlib.figure.Figure at 0x119a89160>"
      ]
     },
     "metadata": {},
     "output_type": "display_data"
    },
    {
     "name": "stdout",
     "output_type": "stream",
     "text": [
      "The Scarlet Plague: By Jack London; Illustrated by Gordon Grant (Jack London, 1915)\n"
     ]
    },
    {
     "data": {
      "image/png": "[encoded data removed]",
      "text/plain": [
       "<matplotlib.figure.Figure at 0x119cc1b70>"
      ]
     },
     "metadata": {},
     "output_type": "display_data"
    },
    {
     "name": "stdout",
     "output_type": "stream",
     "text": [
      "The Yoke of the Thorah: By Sidney Luska (Henry Harland, 1887)\n"
     ]
    },
    {
     "data": {
      "image/png": "[encoded data removed]",
      "text/plain": [
       "<matplotlib.figure.Figure at 0x11955a2e8>"
      ]
     },
     "metadata": {},
     "output_type": "display_data"
    },
    {
     "name": "stdout",
     "output_type": "stream",
     "text": [
      "Stepping (Nancy Thayer, 1980)\n"
     ]
    },
    {
     "data": {
      "image/png": "[encoded data removed]",
      "text/plain": [
       "<matplotlib.figure.Figure at 0x119c28cc0>"
      ]
     },
     "metadata": {},
     "output_type": "display_data"
    },
    {
     "name": "stdout",
     "output_type": "stream",
     "text": [
      "The scarlet plague (Jack London, 1915)\n"
     ]
    },
    {
     "data": {
      "image/png": "[encoded data removed]",
      "text/plain": [
       "<matplotlib.figure.Figure at 0x119037080>"
      ]
     },
     "metadata": {},
     "output_type": "display_data"
    },
    {
     "name": "stdout",
     "output_type": "stream",
     "text": [
      "The man who folded himself (David Gerrold, 1973)\n"
     ]
    },
    {
     "data": {
      "image/png": "[encoded data removed]",
      "text/plain": [
       "<matplotlib.figure.Figure at 0x11995d9b0>"
      ]
     },
     "metadata": {},
     "output_type": "display_data"
    },
    {
     "name": "stdout",
     "output_type": "stream",
     "text": [
      "The prodigal girl (Grace Livingston Hill, 1929)\n"
     ]
    },
    {
     "data": {
      "image/png": "[encoded data removed]",
      "text/plain": [
       "<matplotlib.figure.Figure at 0x119041c50>"
      ]
     },
     "metadata": {},
     "output_type": "display_data"
    },
    {
     "name": "stdout",
     "output_type": "stream",
     "text": [
      "The cheer leader (Jill McCorkle, 1984)\n"
     ]
    },
    {
     "data": {
      "image/png": "[encoded data removed]",
      "text/plain": [
       "<matplotlib.figure.Figure at 0x119b49a58>"
      ]
     },
     "metadata": {},
     "output_type": "display_data"
    },
    {
     "name": "stdout",
     "output_type": "stream",
     "text": [
      "Jasmine nights (S. P Somtow, 1995)\n"
     ]
    },
    {
     "data": {
      "image/png": "[encoded data removed]",
      "text/plain": [
       "<matplotlib.figure.Figure at 0x119c03668>"
      ]
     },
     "metadata": {},
     "output_type": "display_data"
    },
    {
     "name": "stdout",
     "output_type": "stream",
     "text": [
      "Deep Sea Vagabonds: By Albert Sonnichsen (Albert Sonnichsen, 1903)\n"
     ]
    },
    {
     "data": {
      "image/png": "[encoded data removed]",
      "text/plain": [
       "<matplotlib.figure.Figure at 0x119d1b4a8>"
      ]
     },
     "metadata": {},
     "output_type": "display_data"
    },
    {
     "name": "stdout",
     "output_type": "stream",
     "text": [
      "Phelps and His Teachers: By Dan V. Stephens; Decorations by Nina E. Lumbard (Dan Stephens, 1901)\n"
     ]
    },
    {
     "data": {
      "image/png": "[encoded data removed]",
      "text/plain": [
       "<matplotlib.figure.Figure at 0x11995bcc0>"
      ]
     },
     "metadata": {},
     "output_type": "display_data"
    },
    {
     "name": "stdout",
     "output_type": "stream",
     "text": [
      "Gravity dreams (L. E. Modesitt, 1999)\n"
     ]
    },
    {
     "data": {
      "image/png": "[encoded data removed]",
      "text/plain": [
       "<matplotlib.figure.Figure at 0x119a81278>"
      ]
     },
     "metadata": {},
     "output_type": "display_data"
    },
    {
     "name": "stdout",
     "output_type": "stream",
     "text": [
      "Yozondè of the Wilderness: By Harry Irving Greene (Harry Greene, 1910)\n"
     ]
    },
    {
     "data": {
      "image/png": "[encoded data removed]",
      "text/plain": [
       "<matplotlib.figure.Figure at 0x1199360f0>"
      ]
     },
     "metadata": {},
     "output_type": "display_data"
    },
    {
     "name": "stdout",
     "output_type": "stream",
     "text": [
      "Confessions of That Little English Girl: Or, so Inexperienced: By Elsie M. Cawthorne … (Elsie Cawthorne, 1896)\n"
     ]
    },
    {
     "data": {
      "image/png": "[encoded data removed]",
      "text/plain": [
       "<matplotlib.figure.Figure at 0x119abf6d8>"
      ]
     },
     "metadata": {},
     "output_type": "display_data"
    },
    {
     "name": "stdout",
     "output_type": "stream",
     "text": [
      "Wallflowers: By Nigel Waldo; Illustrated by Arthur Little (Nigel Waldo, 1918)\n"
     ]
    },
    {
     "data": {
      "image/png": "[encoded data removed]",
      "text/plain": [
       "<matplotlib.figure.Figure at 0x1198975c0>"
      ]
     },
     "metadata": {},
     "output_type": "display_data"
    },
    {
     "name": "stdout",
     "output_type": "stream",
     "text": [
      "The gods themselves (Isaac Asimov, 1972)\n"
     ]
    },
    {
     "data": {
      "image/png": "[encoded data removed]",
      "text/plain": [
       "<matplotlib.figure.Figure at 0x1190bfd30>"
      ]
     },
     "metadata": {},
     "output_type": "display_data"
    },
    {
     "name": "stdout",
     "output_type": "stream",
     "text": [
      "Passing by Samaria (Sharon Ewell Foster, 2000)\n"
     ]
    },
    {
     "data": {
      "image/png": "[encoded data removed]",
      "text/plain": [
       "<matplotlib.figure.Figure at 0x1198da278>"
      ]
     },
     "metadata": {},
     "output_type": "display_data"
    },
    {
     "name": "stdout",
     "output_type": "stream",
     "text": [
      "The wolves of Paris (Daniel P. Mannix, 1978)\n"
     ]
    },
    {
     "data": {
      "image/png": "[encoded data removed]",
      "text/plain": [
       "<matplotlib.figure.Figure at 0x11999de48>"
      ]
     },
     "metadata": {},
     "output_type": "display_data"
    },
    {
     "name": "stdout",
     "output_type": "stream",
     "text": [
      "Among the Guerillas: By Edmund Kirke (James Gilmore, 1866)\n"
     ]
    },
    {
     "data": {
      "image/png": "[encoded data removed]",
      "text/plain": [
       "<matplotlib.figure.Figure at 0x119c50400>"
      ]
     },
     "metadata": {},
     "output_type": "display_data"
    },
    {
     "name": "stdout",
     "output_type": "stream",
     "text": [
      "Brain (Robin Cook, 1979)\n"
     ]
    },
    {
     "data": {
      "image/png": "[encoded data removed]",
      "text/plain": [
       "<matplotlib.figure.Figure at 0x119bfbeb8>"
      ]
     },
     "metadata": {},
     "output_type": "display_data"
    },
    {
     "name": "stdout",
     "output_type": "stream",
     "text": [
      "Dark Bahama (Peter Cheyney, 1948)\n"
     ]
    },
    {
     "data": {
      "image/png": "[encoded data removed]",
      "text/plain": [
       "<matplotlib.figure.Figure at 0x119997208>"
      ]
     },
     "metadata": {},
     "output_type": "display_data"
    },
    {
     "name": "stdout",
     "output_type": "stream",
     "text": [
      "Utopia: Or, the History of an Extinct Planet: By Alfred Denton Cridge (Alfred Cridge, 1884)\n"
     ]
    },
    {
     "data": {
      "image/png": "[encoded data removed]",
      "text/plain": [
       "<matplotlib.figure.Figure at 0x1198ee470>"
      ]
     },
     "metadata": {},
     "output_type": "display_data"
    },
    {
     "name": "stdout",
     "output_type": "stream",
     "text": [
      "Lost Face (Jack London, 1910)\n"
     ]
    },
    {
     "data": {
      "image/png": "[encoded data removed]",
      "text/plain": [
       "<matplotlib.figure.Figure at 0x119025908>"
      ]
     },
     "metadata": {},
     "output_type": "display_data"
    },
    {
     "name": "stdout",
     "output_type": "stream",
     "text": [
      "The Gold Mines of the Gila: A Sequel to Old Hicks the Guide: By Charles W. Webber (Charles Webber, 1849)\n"
     ]
    },
    {
     "data": {
      "image/png": "[encoded data removed]",
      "text/plain": [
       "<matplotlib.figure.Figure at 0x11987c780>"
      ]
     },
     "metadata": {},
     "output_type": "display_data"
    },
    {
     "name": "stdout",
     "output_type": "stream",
     "text": [
      "Flames of Glory: By Hervey Smith McCowan (Hervey McCowan, 1919)\n"
     ]
    },
    {
     "data": {
      "image/png": "[encoded data removed]",
      "text/plain": [
       "<matplotlib.figure.Figure at 0x1198b5d30>"
      ]
     },
     "metadata": {},
     "output_type": "display_data"
    },
    {
     "name": "stdout",
     "output_type": "stream",
     "text": [
      "An American Girl Abroad: By Adeline Trafton; Illustrated by Miss L. B. Humphrey (Adeline Trafton, 1872)\n"
     ]
    },
    {
     "data": {
      "image/png": "[encoded data removed]",
      "text/plain": [
       "<matplotlib.figure.Figure at 0x1199023c8>"
      ]
     },
     "metadata": {},
     "output_type": "display_data"
    },
    {
     "name": "stdout",
     "output_type": "stream",
     "text": [
      "The Amazonian Republic: Recently Discovered in the Interior of Peru: By Ex-Midshipman Timothy Savage (Timothy Savage, 1842)\n"
     ]
    },
    {
     "data": {
      "image/png": "[encoded data removed]",
      "text/plain": [
       "<matplotlib.figure.Figure at 0x119908b70>"
      ]
     },
     "metadata": {},
     "output_type": "display_data"
    },
    {
     "name": "stdout",
     "output_type": "stream",
     "text": [
      "The Web of Destiny: By Mary A. L. Bliven (Mary Bliven, 1907)\n"
     ]
    },
    {
     "data": {
      "image/png": "[encoded data removed]",
      "text/plain": [
       "<matplotlib.figure.Figure at 0x119aa3f60>"
      ]
     },
     "metadata": {},
     "output_type": "display_data"
    },
    {
     "name": "stdout",
     "output_type": "stream",
     "text": [
      "Bread upon the waters (Irwin Shaw, 1981)\n"
     ]
    },
    {
     "data": {
      "image/png": "[encoded data removed]",
      "text/plain": [
       "<matplotlib.figure.Figure at 0x119aa41d0>"
      ]
     },
     "metadata": {},
     "output_type": "display_data"
    },
    {
     "name": "stdout",
     "output_type": "stream",
     "text": [
      "Jeremiah's Sammy: Charles Sumner Gabriel (Charles Gabriel, 1911)\n"
     ]
    },
    {
     "data": {
      "image/png": "[encoded data removed]",
      "text/plain": [
       "<matplotlib.figure.Figure at 0x119a55898>"
      ]
     },
     "metadata": {},
     "output_type": "display_data"
    },
    {
     "name": "stdout",
     "output_type": "stream",
     "text": [
      "Shards of a broken crown (Raymond E Feist, 1998)\n"
     ]
    },
    {
     "data": {
      "image/png": "[encoded data removed]",
      "text/plain": [
       "<matplotlib.figure.Figure at 0x119cf97f0>"
      ]
     },
     "metadata": {},
     "output_type": "display_data"
    },
    {
     "name": "stdout",
     "output_type": "stream",
     "text": [
      "Assassin's quest (Margaret Astrid Lindholm Ogden, 1997)\n"
     ]
    },
    {
     "data": {
      "image/png": "[encoded data removed]",
      "text/plain": [
       "<matplotlib.figure.Figure at 0x1199fcf28>"
      ]
     },
     "metadata": {},
     "output_type": "display_data"
    },
    {
     "name": "stdout",
     "output_type": "stream",
     "text": [
      "Ben Blair: The Story of a Plainsman: By Will Lillibridge; with Frontispiece in Full Color by Maynard Dixon (William Lillibridge, 1905)\n"
     ]
    },
    {
     "data": {
      "image/png": "[encoded data removed]",
      "text/plain": [
       "<matplotlib.figure.Figure at 0x119d0cda0>"
      ]
     },
     "metadata": {},
     "output_type": "display_data"
    },
    {
     "name": "stdout",
     "output_type": "stream",
     "text": [
      "Cruising in the Last War: By Charles J. Peterson (Charles Peterson, 1850)\n"
     ]
    },
    {
     "data": {
      "image/png": "[encoded data removed]",
      "text/plain": [
       "<matplotlib.figure.Figure at 0x119ba5748>"
      ]
     },
     "metadata": {},
     "output_type": "display_data"
    },
    {
     "name": "stdout",
     "output_type": "stream",
     "text": [
      "Carmen dog (Carol Emshwiller, 1990)\n"
     ]
    },
    {
     "data": {
      "image/png": "[encoded data removed]",
      "text/plain": [
       "<matplotlib.figure.Figure at 0x1198c3198>"
      ]
     },
     "metadata": {},
     "output_type": "display_data"
    },
    {
     "name": "stdout",
     "output_type": "stream",
     "text": [
      "A New Robinson Crusoe: A New Version of His Life and Adventures, with an Explanatory Note: By Gilson Gardner (Gilson Gardner, 1920)\n"
     ]
    },
    {
     "data": {
      "image/png": "[encoded data removed]",
      "text/plain": [
       "<matplotlib.figure.Figure at 0x119a06908>"
      ]
     },
     "metadata": {},
     "output_type": "display_data"
    },
    {
     "name": "stdout",
     "output_type": "stream",
     "text": [
      "Toward the end of time (John Updike, 1997)\n"
     ]
    },
    {
     "data": {
      "image/png": "[encoded data removed]",
      "text/plain": [
       "<matplotlib.figure.Figure at 0x119ae51d0>"
      ]
     },
     "metadata": {},
     "output_type": "display_data"
    },
    {
     "name": "stdout",
     "output_type": "stream",
     "text": [
      "An Eastern Lion in the West: Or Marvelous Find of an Ideal: By M. Y. T. H. Myth (M. Myth, 1909)\n"
     ]
    },
    {
     "data": {
      "image/png": "[encoded data removed]",
      "text/plain": [
       "<matplotlib.figure.Figure at 0x119d50e80>"
      ]
     },
     "metadata": {},
     "output_type": "display_data"
    },
    {
     "name": "stdout",
     "output_type": "stream",
     "text": [
      "The daughter of the Hawk (C. S. Forester, 1928)\n"
     ]
    },
    {
     "data": {
      "image/png": "[encoded data removed]",
      "text/plain": [
       "<matplotlib.figure.Figure at 0x119a6ad30>"
      ]
     },
     "metadata": {},
     "output_type": "display_data"
    }
   ],
   "source": [
    "for text in df.sort_values('zscore', ascending=False)['text'].head(50):\n",
    "    plot_histogram(text)"
   ]
  }
 ],
 "metadata": {
  "kernelspec": {
   "display_name": "Python 3",
   "language": "python",
   "name": "python3"
  },
  "language_info": {
   "codemirror_mode": {
    "name": "ipython",
    "version": 3
   },
   "file_extension": ".py",
   "mimetype": "text/x-python",
   "name": "python",
   "nbconvert_exporter": "python",
   "pygments_lexer": "ipython3",
   "version": "3.6.1"
  }
 },
 "nbformat": 4,
 "nbformat_minor": 2
}
